{
 "cells": [
  {
   "cell_type": "markdown",
   "metadata": {},
   "source": [
    "# Simple repetition (`for`)\n",
    "\n",
    "If we have to repeat a piece of code many times, we can use the simple `for` statement, which repeats for a given number of timed the nested block of instruction, i.e., the *body* of the `for`. \n",
    "\n",
    "Also the `for` needs  a column '**:**' at the end of the first line, before the **indented body** of the `for`, indeed a block of statements. \n",
    "\n",
    "In the simple example below, we repeat for 5 times a `print` statement. This is specified by `range(5)`. "
   ]
  },
  {
   "cell_type": "code",
   "execution_count": 4,
   "metadata": {},
   "outputs": [
    {
     "name": "stdout",
     "output_type": "stream",
     "text": [
      "Hello 0\n",
      "Salvatore!\n",
      "Hello 1\n",
      "Salvatore!\n",
      "Hello 2\n",
      "Salvatore!\n",
      "Hello 3\n",
      "Salvatore!\n",
      "Hello 4\n",
      "Salvatore!\n",
      "exit\n"
     ]
    }
   ],
   "source": [
    "for i in range(5):\n",
    "    print(\"Hello\", i)\n",
    "    print(\"Salvatore!\")\n",
    "print(\"exit\")"
   ]
  },
  {
   "cell_type": "markdown",
   "metadata": {},
   "source": [
    "A `for` statement is also called a **loop** because the *flow of execution* runs through the body\n",
    "and then loops back to the top. \n",
    "\n",
    "The general syntax of a <tt>for</tt> loop is\n",
    "  ```python\n",
    "  for <var> in <list>:\n",
    "      <statement>\n",
    "      ....\n",
    "      <statement>\n",
    "  ```\n",
    "  \n",
    "Function `range(n)` generate a list of integers from *0* up to *n-1*:  `[0,1,2,3,...,n-1]`.\n",
    "So the variable `<var>` of the `for` *iterates* over the list created by `range`, and for each value executes the code block of the body.\n",
    "\n",
    "The general form of <tt>range</tt> has 3 parameters \n",
    "  ```python\n",
    "  range(begin, end, step)\n",
    "  ```\n",
    "where the list produced is `[begin, begin + step, begin + 2\\*step, begin + 3\\*step, ...]`.\n",
    "<br>\n",
    "The element `end` will **not** be included in the final list, and `step` can be negative.\n",
    "\n",
    "Function `range` can be called with 1, 2, or 3 parameters. These are the equivalence between the various forms:\n",
    "\n",
    "  ```python\n",
    "  range(end) = range(0, end, 1)\n",
    "  range(begin, end) = range(begin, end, 1)\n",
    "  ```\n",
    "\n",
    "Look at the following example, where we use the variable of the `for` instantiated at each iteration of the loop.\n"
   ]
  },
  {
   "cell_type": "code",
   "execution_count": 3,
   "metadata": {},
   "outputs": [
    {
     "name": "stdout",
     "output_type": "stream",
     "text": [
      "Hello! Iteration: 0\n",
      "Hello! Iteration: 1\n",
      "Hello! Iteration: 2\n",
      "Hello! Iteration: 3\n",
      "+++++++++++++++++++\n",
      "\n",
      "Hello! Iteration: 2\n",
      "Hello! Iteration: 3\n",
      "===================\n",
      "\n",
      "Hello! Iteration: 1\n",
      "Hello! Iteration: 3\n",
      "*******************\n",
      "\n",
      "Hello! Iteration: 6\n",
      "Hello! Iteration: 5\n",
      "Hello! Iteration: 4\n",
      "Hello! Iteration: 3\n"
     ]
    }
   ],
   "source": [
    "for i in range(4):\n",
    "    print('Hello! Iteration:', i)\n",
    "print('+++++++++++++++++++\\n')\n",
    "\n",
    "for i in range(2, 4):\n",
    "    print('Hello! Iteration:', i)\n",
    "print('===================\\n')\n",
    "\n",
    "for i in range(1, 5, 2):\n",
    "    print('Hello! Iteration:', i)    \n",
    "print('*******************\\n')\n",
    "\n",
    "for i in range(6, 2, -1):\n",
    "    print('Hello! Iteration:', i)    "
   ]
  },
  {
   "cell_type": "markdown",
   "metadata": {},
   "source": [
    "The `for` loop can be **nested**, i.e., within the body of the loop we can insert another  `for` loop.\n",
    "\n",
    "This code print a $5 \\times 5$ *multiplication table*."
   ]
  },
  {
   "cell_type": "code",
   "execution_count": 8,
   "metadata": {},
   "outputs": [
    {
     "name": "stdout",
     "output_type": "stream",
     "text": [
      "1 2 3 4 5 \n",
      "2 4 6 8 10 \n",
      "3 6 9 12 15 \n",
      "4 8 12 16 20 \n",
      "5 10 15 20 25 \n"
     ]
    }
   ],
   "source": [
    "n = 5\n",
    "\n",
    "for i in range(1,n+1):\n",
    "    for j in range(1,n+1):\n",
    "        print(i*j, end=' ')\n",
    "    print()"
   ]
  },
  {
   "cell_type": "markdown",
   "metadata": {},
   "source": [
    "Now we try to complete a program that prints a grid like the following ($2 \\times 3$):\n",
    "\n",
    "    ----------------\n",
    "    |    |    |    |\n",
    "    ----------------\n",
    "    |    |    |    |\n",
    "    ----------------"
   ]
  },
  {
   "cell_type": "code",
   "execution_count": 25,
   "metadata": {},
   "outputs": [
    {
     "name": "stdout",
     "output_type": "stream",
     "text": [
      "--------------------------\n",
      "|    |    |    |    |    |\n",
      "--------------------------\n",
      "|    |    |    |    |    |\n",
      "--------------------------\n",
      "|    |    |    |    |    |\n",
      "--------------------------\n",
      "|    |    |    |    |    |\n",
      "--------------------------\n",
      "|    |    |    |    |    |\n",
      "--------------------------\n",
      "|    |    |    |    |    |\n",
      "--------------------------\n",
      "|    |    |    |    |    |\n",
      "--------------------------\n",
      "|    |    |    |    |    |\n",
      "--------------------------\n",
      "|    |    |    |    |    |\n",
      "--------------------------\n",
      "|    |    |    |    |    |\n",
      "--------------------------\n"
     ]
    }
   ],
   "source": [
    "r = 10\n",
    "c = 5\n",
    "\n",
    "for j in range(r):\n",
    "# first row\n",
    "    for i in range(c):\n",
    "        print('-----', end='')\n",
    "    print('-')\n",
    "    \n",
    "    for i in range(c):\n",
    "        print('|    ', end='')\n",
    "    print('|')\n",
    "\n",
    "# continue\n",
    "for i in range(c):\n",
    "    print('-----', end='')\n",
    "print('-')\n",
    "\n"
   ]
  },
  {
   "cell_type": "markdown",
   "metadata": {
    "collapsed": true
   },
   "source": [
    "# Exercise\n",
    "\n",
    "1. Read from input an integer *n*, and then read the *n* numbers, compute and return to the user the sum. The user can interrupt the input of the numbers by typing -1.\n",
    "<br>\n",
    "(**hint**:  You can use the statement `break` to force a `for` loop to stop running).\n",
    "\n",
    "2. Read from input an integer *n*, and then read the *n* numbers, compute and return to the user the sum and the average of the numbers that are even and are multiple of 3."
   ]
  },
  {
   "cell_type": "code",
   "execution_count": 24,
   "metadata": {},
   "outputs": [
    {
     "name": "stdout",
     "output_type": "stream",
     "text": [
      "Input the length of a number list:5\n",
      "Input the number #1: 1\n",
      "Input the number #2: 2\n",
      "Input the number #3: 3\n",
      "Input the number #4: -1\n",
      "Sum: 6\n"
     ]
    }
   ],
   "source": [
    "# Exercise 1\n",
    "\n",
    "n_string = input(\"Input the length of a number list:\")\n",
    "n = int(n_string)\n",
    "sum = 0\n",
    "for i in range(n):\n",
    "    msg = 'Input the number #' + str(i+1) + ': '\n",
    "    num = int(input(msg))\n",
    "    if num == -1:\n",
    "        break\n",
    "    sum = sum + int(num)    \n",
    "print('Sum:', sum)"
   ]
  },
  {
   "cell_type": "code",
   "execution_count": 23,
   "metadata": {},
   "outputs": [
    {
     "name": "stdout",
     "output_type": "stream",
     "text": [
      "Give me the amount of integers: 10\n",
      "give me the next number: 1\n",
      "give me the next number: 2\n",
      "give me the next number: 3\n",
      "give me the next number: 6\n",
      "give me the next number: 18\n",
      "give me the next number: 3\n",
      "give me the next number: 3\n",
      "give me the next number: 3\n",
      "give me the next number: 3\n",
      "give me the next number: 3\n",
      "SUM: 24\n",
      "REAL_N: 2\n",
      "AVG: 12.0\n"
     ]
    }
   ],
   "source": [
    "# Exercise 2\n",
    "\n",
    "#### read n\n",
    "n = int(input(\"Give me the amount of integers: \"))\n",
    "\n",
    "sum = 0  # sum will contain the summation of input values typed by a user so far\n",
    "\n",
    "real_n = 0  # has to be updated +1 every time sum is updated too\n",
    "\n",
    "# then read the n numbers\n",
    "for i in range(n):\n",
    "    new_val = int(input(\"give me the next number: \"))\n",
    "    \n",
    "    # only numbers that are even and are multiple of 3\n",
    "    if new_val % 2 == 0  and   new_val % 3 == 0 :\n",
    "        sum = sum + new_val  # update sum\n",
    "        real_n = real_n + 1\n",
    "        \n",
    "print(\"SUM:\", sum)\n",
    "print(\"REAL_N:\", real_n)\n",
    "\n",
    "# average of the numbers\n",
    "print(\"AVG:\", sum / real_n)"
   ]
  },
  {
   "cell_type": "code",
   "execution_count": 3,
   "metadata": {},
   "outputs": [
    {
     "name": "stdout",
     "output_type": "stream",
     "text": [
      "Input the length of a number list:5\n",
      "Input the number #1: 12\n",
      "Input the number #2: 6\n",
      "Input the number #3: 1\n",
      "Input the number #4: 2\n",
      "Input the number #5: 3\n",
      "sum: 18   avg: 9.0\n"
     ]
    }
   ],
   "source": [
    "# exercise 2\n",
    "# Read from input an integer n, and then read the n numbers\n",
    "# Compute and return to the user the sum and the average \n",
    "# of the numbers that are even and are multiple of 3.\n",
    "\n",
    "n_string = input(\"Input the length of a number list:\")\n",
    "n = int(n_string)\n",
    "n1 = 0    # store the number that are even and multiple of 3.\n",
    "sum = 0\n",
    "for i in range(n):\n",
    "    msg = 'Input the number #' + str(i+1) + ': '\n",
    "    num = int(input(msg))\n",
    "    if num % 2 == 0 and num % 3 == 0:    # even and multiple of 3\n",
    "        sum = sum + int(num)\n",
    "        n1 = n1 + 1\n",
    "avg = sum / n1\n",
    "print(\"sum:\", sum, \"  avg:\", avg)\n"
   ]
  },
  {
   "cell_type": "markdown",
   "metadata": {},
   "source": [
    "# While loop\n",
    "\n",
    "There is a more flexible alternative to `for` loop. This is an example of **countdown**:\n",
    "\n",
    "  ```python\n",
    "  for n in range(10, 0, -1):\n",
    "      print(n)\n",
    "  print('Launch the rocket!')\n",
    "  ```\n",
    "\n",
    "\n",
    "The general syntax of a <tt>while</tt> loop is\n",
    "  ```python\n",
    "  while <condition>:\n",
    "      <statement>\n",
    "      ....\n",
    "      <statement>\n",
    "  <next statement>\n",
    "  ```\n",
    "  \n",
    "where the flow of execution is:\n",
    "\n",
    "1. Determine whether the *condition* is *True* or *False*.\n",
    "2. If *False*, exit the <tt>while</tt> statement and continue execution at the first statement after of the *body* (`next statement`).\n",
    "3. If the condition is *True*, run the *body*, and then go back to step 1.\n",
    "\n",
    "The *body* has to contain some statements that change the value of the *condition*,  to allow the control flow to eventually exit from the loop. Otherwise the loop will repeat forever,\n",
    "which is called an **infinite loop**.\n",
    "\n",
    "Below we show the example above of the **countdown** computation expressed with a `while`. \n",
    "<br>\n",
    "Note that you can almost read the `while` statement as if it were written English. It means: “While **n** is greater\n",
    "than 0, display the value of **n** and then decrement **n**. When you get to 0, display the phrase \\'Launch the rocket!\\'”."
   ]
  },
  {
   "cell_type": "code",
   "execution_count": 28,
   "metadata": {},
   "outputs": [
    {
     "name": "stdout",
     "output_type": "stream",
     "text": [
      "10\n",
      "9\n",
      "8\n",
      "7\n",
      "6\n",
      "5\n",
      "4\n",
      "3\n",
      "2\n",
      "1\n",
      "Launch the rocket!\n"
     ]
    }
   ],
   "source": [
    "n = 10\n",
    "while n > 0:\n",
    "    print(n)\n",
    "    n = n-1\n",
    "print('Launch the rocket!')"
   ]
  },
  {
   "cell_type": "markdown",
   "metadata": {},
   "source": [
    "### break\n",
    "\n",
    "Sometimes you don’t know the time to end a loop, until you get half way through the body.\n",
    "In that case you can use the `break` statement to jump out of the loop.\n",
    "\n",
    "For example, suppose you want to take input from the user until they type done. You could\n",
    "write:"
   ]
  },
  {
   "cell_type": "code",
   "execution_count": 9,
   "metadata": {},
   "outputs": [
    {
     "name": "stdout",
     "output_type": "stream",
     "text": [
      "> d\n",
      "d\n",
      "> eee\n",
      "eee\n",
      "> q\n",
      "q\n",
      "> uuu\n",
      "uuu\n",
      "> done\n"
     ]
    }
   ],
   "source": [
    "while True:\n",
    "    line = input('> ')\n",
    "    if line == 'done':\n",
    "        break\n",
    "    print(line)"
   ]
  },
  {
   "cell_type": "markdown",
   "metadata": {},
   "source": [
    "An alternative way without `break` requires a Boolean variable, initialized to *True* and then modified in the body to force the loop to exit:"
   ]
  },
  {
   "cell_type": "code",
   "execution_count": 10,
   "metadata": {},
   "outputs": [
    {
     "name": "stdout",
     "output_type": "stream",
     "text": [
      "> sss\n",
      "sss\n",
      "> dfff\n",
      "dfff\n",
      "> done\n"
     ]
    }
   ],
   "source": [
    "not_done = True\n",
    "while not_done:\n",
    "    line = input('> ')\n",
    "    if line == 'done':\n",
    "        not_done = False\n",
    "    else:\n",
    "        print(line)"
   ]
  },
  {
   "cell_type": "markdown",
   "metadata": {},
   "source": [
    "## Exercises\n",
    "\n",
    "1. Compute the variance of numbers in the given range [n,N] (extremes included). \n",
    "<br>\n",
    "*Hint: the variance is the average squared distance from the mean.*\n",
    "2. Print the 5 largest even numbers between 0 and a given N (extremes not included).\n",
    "3. Write a python program to get the following output:\n",
    "```\n",
    "1-----99\n",
    "2-----98\n",
    "3-----97\n",
    "..\n",
    "98-----2\n",
    "99-----1\n",
    "```\n",
    "4. Write a python program to print all prime numbers between 1 to 100, and print how many prime numbers are there."
   ]
  },
  {
   "cell_type": "code",
   "execution_count": 5,
   "metadata": {},
   "outputs": [
    {
     "name": "stdout",
     "output_type": "stream",
     "text": [
      "mean: 12.5 variance: 21.25\n"
     ]
    }
   ],
   "source": [
    "# Ex 1\n",
    "# Compute the variance of numbers in the given range [n,N] (extremes included).\n",
    "# Hint: the variance is the average squared distance from the mean.\n",
    "\n",
    "n = 5\n",
    "N = 20\n",
    "sum = 0.0\n",
    "for i in range(5, 21, 1):\n",
    "    sum = sum + i\n",
    "mean = sum / (N - n + 1)\n",
    "variance = 0.0\n",
    "for i in range(5, 21, 1):\n",
    "    variance = variance + (i-mean)**2\n",
    "variance = variance / (N - n + 1)\n",
    "print(\"mean:\", mean, \"variance:\", variance)\n"
   ]
  },
  {
   "cell_type": "code",
   "execution_count": 8,
   "metadata": {},
   "outputs": [
    {
     "name": "stdout",
     "output_type": "stream",
     "text": [
      "100\n",
      "98\n",
      "96\n",
      "94\n",
      "92\n"
     ]
    }
   ],
   "source": [
    "# Ex 1\n",
    "\n",
    "# Print the 5 largest even numbers between 0 and a \n",
    "# given N (extremes not included).\n",
    "\n",
    "N = 100\n",
    "n_even = 0\n",
    "for i in range(N, -1, -1):\n",
    "    if i % 2 == 0: # i is even\n",
    "        n_even = n_even + 1\n",
    "        print(i)\n",
    "    if n_even == 5:\n",
    "        break\n",
    "        \n",
    "    "
   ]
  },
  {
   "cell_type": "code",
   "execution_count": 9,
   "metadata": {},
   "outputs": [
    {
     "name": "stdout",
     "output_type": "stream",
     "text": [
      "1-----99\n",
      "2-----98\n",
      "3-----97\n",
      "4-----96\n",
      "5-----95\n",
      "6-----94\n",
      "7-----93\n",
      "8-----92\n",
      "9-----91\n",
      "10-----90\n",
      "11-----89\n",
      "12-----88\n",
      "13-----87\n",
      "14-----86\n",
      "15-----85\n",
      "16-----84\n",
      "17-----83\n",
      "18-----82\n",
      "19-----81\n",
      "20-----80\n",
      "21-----79\n",
      "22-----78\n",
      "23-----77\n",
      "24-----76\n",
      "25-----75\n",
      "26-----74\n",
      "27-----73\n",
      "28-----72\n",
      "29-----71\n",
      "30-----70\n",
      "31-----69\n",
      "32-----68\n",
      "33-----67\n",
      "34-----66\n",
      "35-----65\n",
      "36-----64\n",
      "37-----63\n",
      "38-----62\n",
      "39-----61\n",
      "40-----60\n",
      "41-----59\n",
      "42-----58\n",
      "43-----57\n",
      "44-----56\n",
      "45-----55\n",
      "46-----54\n",
      "47-----53\n",
      "48-----52\n",
      "49-----51\n",
      "50-----50\n",
      "51-----49\n",
      "52-----48\n",
      "53-----47\n",
      "54-----46\n",
      "55-----45\n",
      "56-----44\n",
      "57-----43\n",
      "58-----42\n",
      "59-----41\n",
      "60-----40\n",
      "61-----39\n",
      "62-----38\n",
      "63-----37\n",
      "64-----36\n",
      "65-----35\n",
      "66-----34\n",
      "67-----33\n",
      "68-----32\n",
      "69-----31\n",
      "70-----30\n",
      "71-----29\n",
      "72-----28\n",
      "73-----27\n",
      "74-----26\n",
      "75-----25\n",
      "76-----24\n",
      "77-----23\n",
      "78-----22\n",
      "79-----21\n",
      "80-----20\n",
      "81-----19\n",
      "82-----18\n",
      "83-----17\n",
      "84-----16\n",
      "85-----15\n",
      "86-----14\n",
      "87-----13\n",
      "88-----12\n",
      "89-----11\n",
      "90-----10\n",
      "91-----9\n",
      "92-----8\n",
      "93-----7\n",
      "94-----6\n",
      "95-----5\n",
      "96-----4\n",
      "97-----3\n",
      "98-----2\n",
      "99-----1\n"
     ]
    }
   ],
   "source": [
    "# Ex 3\n",
    "\n",
    "# Write a python program to get the following output:\n",
    "# 1-----99\n",
    "# 2-----98\n",
    "# 3-----97\n",
    "# ..\n",
    "# 98-----2\n",
    "# 99-----1\n",
    "\n",
    "# range(1, 100) for 1,2,3,...,99\n",
    "# range(99,0,-1) for 99,98,97,...,1\n",
    "\n",
    "n_decrement = 99\n",
    "for i in range(1, 100):\n",
    "    print(i, \"-----\", n_decrement, sep=\"\")\n",
    "    n_decrement = n_decrement - 1"
   ]
  },
  {
   "cell_type": "code",
   "execution_count": 11,
   "metadata": {},
   "outputs": [
    {
     "name": "stdout",
     "output_type": "stream",
     "text": [
      "1\n",
      "2\n",
      "3\n",
      "5\n",
      "7\n",
      "11\n",
      "13\n",
      "17\n",
      "19\n",
      "23\n",
      "29\n",
      "31\n",
      "37\n",
      "41\n",
      "43\n",
      "47\n",
      "53\n",
      "59\n",
      "61\n",
      "67\n",
      "71\n",
      "73\n",
      "79\n",
      "83\n",
      "89\n",
      "97\n",
      "prime numbers between 1 and 100 : 283\n"
     ]
    }
   ],
   "source": [
    "# Ex 4\n",
    "\n",
    "# Write a python program to print all prime numbers between 1 to 100, \n",
    "# and print how many prime numbers are there.\n",
    "\n",
    "N = 100\n",
    "n_prime = 0 \n",
    "for i in range(1,N+1):\n",
    "    i_is_prime = True\n",
    "    for div in range(2,i): # avoid to used 1 and i itself as div\n",
    "        if i % div == 0:\n",
    "            i_is_prime = False\n",
    "            n_prime = n_prime + 1\n",
    "    if i_is_prime:\n",
    "        print(i)\n",
    "print(\"prime numbers between 1 and\", N, \":\", n_prime)\n"
   ]
  }
 ],
 "metadata": {
  "kernelspec": {
   "display_name": "Python 3",
   "language": "python",
   "name": "python3"
  },
  "language_info": {
   "codemirror_mode": {
    "name": "ipython",
    "version": 3
   },
   "file_extension": ".py",
   "mimetype": "text/x-python",
   "name": "python",
   "nbconvert_exporter": "python",
   "pygments_lexer": "ipython3",
   "version": "3.5.2"
  },
  "varInspector": {
   "cols": {
    "lenName": 16,
    "lenType": 16,
    "lenVar": 40
   },
   "kernels_config": {
    "python": {
     "delete_cmd_postfix": "",
     "delete_cmd_prefix": "del ",
     "library": "var_list.py",
     "varRefreshCmd": "print(var_dic_list())"
    },
    "r": {
     "delete_cmd_postfix": ") ",
     "delete_cmd_prefix": "rm(",
     "library": "var_list.r",
     "varRefreshCmd": "cat(var_dic_list()) "
    }
   },
   "types_to_exclude": [
    "module",
    "function",
    "builtin_function_or_method",
    "instance",
    "_Feature"
   ],
   "window_display": false
  }
 },
 "nbformat": 4,
 "nbformat_minor": 2
}
