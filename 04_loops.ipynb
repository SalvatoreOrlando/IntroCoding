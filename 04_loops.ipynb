{
 "cells": [
  {
   "cell_type": "markdown",
   "metadata": {},
   "source": [
    "# Simple repetition (`for`)\n",
    "\n",
    "If we have to repeat a piece of code many times, we can use the simple `for` statement, which repeats for a given number of timed the nested block of instruction, i.e., the *body* of the `for`. \n",
    "\n",
    "Also the `for` needs  a column '**:**' at the end of the first line, before the **indented body** of the `for`, indeed a block of statements. \n",
    "\n",
    "In the simple example below, we repeat for 5 times a `print` statement. This is specified by `range(5)`. "
   ]
  },
  {
   "cell_type": "code",
   "execution_count": 7,
   "metadata": {},
   "outputs": [
    {
     "name": "stdout",
     "output_type": "stream",
     "text": [
      "Hello\n",
      "Hello\n",
      "Hello\n",
      "Hello\n",
      "Hello\n"
     ]
    }
   ],
   "source": [
    "for i in range(5):\n",
    "    print(\"Hello\")"
   ]
  },
  {
   "cell_type": "markdown",
   "metadata": {},
   "source": [
    "A `for` statement is also called a **loop** because the *flow of execution* runs through the body\n",
    "and then loops back to the top. \n",
    "\n",
    "The general syntax of a <tt>for</tt> loop is\n",
    "  ```python\n",
    "  for <var> in <list>:\n",
    "      <statement>\n",
    "      ....\n",
    "      <statement>\n",
    "  ```\n",
    "  \n",
    "Function `range(n)` generate a list of integers from *0* up to *n-1*:  `[0,1,2,3,...,n-1]`.\n",
    "So the variable `<var>` of the `for` *iterates* over the list created by `range`, and for each value executes the code block of the body.\n",
    "\n",
    "The general form of <tt>range</tt> has 3 parameters \n",
    "  ```python\n",
    "  range(begin, end, step)\n",
    "  ```\n",
    "where the list produced is `[begin, begin + step, begin + 2\\*step, begin + 3\\*step, ...]`.\n",
    "<br>\n",
    "The element `end` will **not** be included in the final list, and `step` can be negative.\n",
    "\n",
    "Function `range` can be called with 1, 2, or 3 parameters. These are the equivalence between the various forms:\n",
    "\n",
    "  ```python\n",
    "  range(end) = range(0, end, 1)\n",
    "  range(begin, end) = range(begin, end, 1)\n",
    "  ```\n",
    "\n",
    "Look at the following example, where we use the variable of the `for` instantiated at each iteration of the loop.\n"
   ]
  },
  {
   "cell_type": "code",
   "execution_count": 3,
   "metadata": {},
   "outputs": [
    {
     "name": "stdout",
     "output_type": "stream",
     "text": [
      "Hello! Iteration: 0\n",
      "Hello! Iteration: 1\n",
      "Hello! Iteration: 2\n",
      "Hello! Iteration: 3\n",
      "+++++++++++++++++++\n",
      "\n",
      "Hello! Iteration: 2\n",
      "Hello! Iteration: 3\n",
      "===================\n",
      "\n",
      "Hello! Iteration: 1\n",
      "Hello! Iteration: 3\n",
      "*******************\n",
      "\n",
      "Hello! Iteration: 6\n",
      "Hello! Iteration: 5\n",
      "Hello! Iteration: 4\n",
      "Hello! Iteration: 3\n"
     ]
    }
   ],
   "source": [
    "for i in range(4):\n",
    "    print('Hello! Iteration:', i)\n",
    "print('+++++++++++++++++++\\n')\n",
    "\n",
    "for i in range(2, 4):\n",
    "    print('Hello! Iteration:', i)\n",
    "print('===================\\n')\n",
    "\n",
    "for i in range(1, 5, 2):\n",
    "    print('Hello! Iteration:', i)    \n",
    "print('*******************\\n')\n",
    "\n",
    "for i in range(6, 2, -1):\n",
    "    print('Hello! Iteration:', i)    "
   ]
  },
  {
   "cell_type": "markdown",
   "metadata": {},
   "source": [
    "The `for` loop can be **nested**, i.e., within the body of the loop we can insert another  `for` loop.\n",
    "\n",
    "This code print a $5 \\times 5$ *multiplication table*."
   ]
  },
  {
   "cell_type": "code",
   "execution_count": 13,
   "metadata": {},
   "outputs": [
    {
     "name": "stdout",
     "output_type": "stream",
     "text": [
      "1 2 3 4 5 \n",
      "2 4 6 8 10 \n",
      "3 6 9 12 15 \n",
      "4 8 12 16 20 \n",
      "5 10 15 20 25 \n"
     ]
    }
   ],
   "source": [
    "for i in range(1,6):\n",
    "    for j in range(1,6):\n",
    "        print(i*j, end=' ')\n",
    "    print()"
   ]
  },
  {
   "cell_type": "markdown",
   "metadata": {},
   "source": [
    "Now we try to complete a program that prints a grid like the following ($2 \\times 3$):\n",
    "\n",
    "    ----------------\n",
    "    |    |    |    |\n",
    "    ----------------\n",
    "    |    |    |    |\n",
    "    ----------------"
   ]
  },
  {
   "cell_type": "code",
   "execution_count": 25,
   "metadata": {},
   "outputs": [
    {
     "name": "stdout",
     "output_type": "stream",
     "text": [
      "--------------------------\n",
      "|    |    |    |    |    |\n",
      "--------------------------\n",
      "|    |    |    |    |    |\n",
      "--------------------------\n",
      "|    |    |    |    |    |\n",
      "--------------------------\n",
      "|    |    |    |    |    |\n",
      "--------------------------\n",
      "|    |    |    |    |    |\n",
      "--------------------------\n",
      "|    |    |    |    |    |\n",
      "--------------------------\n",
      "|    |    |    |    |    |\n",
      "--------------------------\n",
      "|    |    |    |    |    |\n",
      "--------------------------\n",
      "|    |    |    |    |    |\n",
      "--------------------------\n",
      "|    |    |    |    |    |\n",
      "--------------------------\n"
     ]
    }
   ],
   "source": [
    "r = 10\n",
    "c = 5\n",
    "\n",
    "for j in range(r):\n",
    "# first row\n",
    "    for i in range(c):\n",
    "        print('-----', end='')\n",
    "    print('-')\n",
    "    \n",
    "    for i in range(c):\n",
    "        print('|    ', end='')\n",
    "    print('|')\n",
    "\n",
    "# continue\n",
    "for i in range(c):\n",
    "    print('-----', end='')\n",
    "print('-')\n",
    "\n"
   ]
  },
  {
   "cell_type": "markdown",
   "metadata": {
    "collapsed": true
   },
   "source": [
    "# Exercise\n",
    "\n",
    "1. Read from input an integer *n*, and then read the *n* numbers, compute and return to the user the sum. The user can interrupt the input of the numbers by typing -1.\n",
    "<br>\n",
    "(**hint**:  You can use the statement `break` to force a `for` loop to stop running).\n",
    "\n",
    "2. Read from input an integer *n*, and then read the *n* numbers, compute and return to the user the sum and the average of the numbers that are even and are multiple of 3."
   ]
  },
  {
   "cell_type": "code",
   "execution_count": 26,
   "metadata": {},
   "outputs": [
    {
     "name": "stdout",
     "output_type": "stream",
     "text": [
      "Input the length of a number list:5\n",
      "Input the number #1: 86\n",
      "Input the number #2: 100\n",
      "Input the number #3: 567\n",
      "Input the number #4: 89\n",
      "Input the number #5: 78\n",
      "Sum: 920\n"
     ]
    }
   ],
   "source": [
    "# exercise 1\n",
    "\n",
    "n_string = input(\"Input the length of a number list:\")\n",
    "n = int(n_string)\n",
    "sum = 0\n",
    "for i in range(n):\n",
    "    msg = 'Input the number #' + str(i+1) + ': '\n",
    "    num = int(input(msg))\n",
    "    if num == -1:\n",
    "        break\n",
    "    sum = sum + int(num)    \n",
    "print('Sum:', sum)"
   ]
  },
  {
   "cell_type": "code",
   "execution_count": 7,
   "metadata": {
    "collapsed": true
   },
   "outputs": [],
   "source": [
    "# exercise 2"
   ]
  },
  {
   "cell_type": "markdown",
   "metadata": {},
   "source": [
    "# While loop\n",
    "\n",
    "There is a more flexible alternative to `for` loop. This is an example of **countdown**:\n",
    "\n",
    "  ```python\n",
    "  for n in range(10, 0, -1):\n",
    "      print(n)\n",
    "  print('Launch the rocket!')\n",
    "  ```\n",
    "\n",
    "\n",
    "The general syntax of a <tt>while</tt> loop is\n",
    "  ```python\n",
    "  while <condition>:\n",
    "      <statement>\n",
    "      ....\n",
    "      <statement>\n",
    "  <next statement>\n",
    "  ```\n",
    "  \n",
    "where the flow of execution is:\n",
    "\n",
    "1. Determine whether the *condition* is *True* or *False*.\n",
    "2. If *False*, exit the <tt>while</tt> statement and continue execution at the first statement after of the *body* (`next statement`).\n",
    "3. If the condition is *True*, run the *body*, and then go back to step 1.\n",
    "\n",
    "The *body* has to contain some statements that change the value of the *condition*,  to allow the control flow to eventually exit from the loop. Otherwise the loop will repeat forever,\n",
    "which is called an **infinite loop**.\n",
    "\n",
    "Below we show the example above of the **countdown** computation expressed with a `while`. \n",
    "<br>\n",
    "Note that you can almost read the `while` statement as if it were written English. It means: “While **n** is greater\n",
    "than 0, display the value of **n** and then decrement **n**. When you get to 0, display the phrase \\'Launch the rocket!\\'”."
   ]
  },
  {
   "cell_type": "code",
   "execution_count": 28,
   "metadata": {},
   "outputs": [
    {
     "name": "stdout",
     "output_type": "stream",
     "text": [
      "10\n",
      "9\n",
      "8\n",
      "7\n",
      "6\n",
      "5\n",
      "4\n",
      "3\n",
      "2\n",
      "1\n",
      "Launch the rocket!\n"
     ]
    }
   ],
   "source": [
    "n = 10\n",
    "while n > 0:\n",
    "    print(n)\n",
    "    n = n-1\n",
    "print('Launch the rocket!')"
   ]
  },
  {
   "cell_type": "markdown",
   "metadata": {},
   "source": [
    "### break\n",
    "\n",
    "Sometimes you don’t know the time to end a loop, until you get half way through the body.\n",
    "In that case you can use the `break` statement to jump out of the loop.\n",
    "\n",
    "For example, suppose you want to take input from the user until they type done. You could\n",
    "write:"
   ]
  },
  {
   "cell_type": "code",
   "execution_count": 9,
   "metadata": {},
   "outputs": [
    {
     "name": "stdout",
     "output_type": "stream",
     "text": [
      "> d\n",
      "d\n",
      "> eee\n",
      "eee\n",
      "> q\n",
      "q\n",
      "> uuu\n",
      "uuu\n",
      "> done\n"
     ]
    }
   ],
   "source": [
    "while True:\n",
    "    line = input('> ')\n",
    "    if line == 'done':\n",
    "        break\n",
    "    print(line)"
   ]
  },
  {
   "cell_type": "markdown",
   "metadata": {},
   "source": [
    "An alternative way without `break` requires a Boolean variable, initialized to *True* and then modified in the body to force the loop to exit:"
   ]
  },
  {
   "cell_type": "code",
   "execution_count": 10,
   "metadata": {},
   "outputs": [
    {
     "name": "stdout",
     "output_type": "stream",
     "text": [
      "> sss\n",
      "sss\n",
      "> dfff\n",
      "dfff\n",
      "> done\n"
     ]
    }
   ],
   "source": [
    "not_done = True\n",
    "while not_done:\n",
    "    line = input('> ')\n",
    "    if line == 'done':\n",
    "        not_done = False\n",
    "    else:\n",
    "        print(line)"
   ]
  },
  {
   "cell_type": "markdown",
   "metadata": {},
   "source": [
    "## Exercises\n",
    "\n",
    "1. Compute the variance of numbers in the given range [n,N] (extremes included). \n",
    "<br>\n",
    "*Hint: the variance is the average squared distance from the mean.*\n",
    "2. Print the 5 largest even numbers between 0 and a given N (extremes not included).\n",
    "3. Write a python program to get the following output:\n",
    "```\n",
    "1-----99\n",
    "2-----98\n",
    "3-----97\n",
    "..\n",
    "98-----2\n",
    "99-----1\n",
    "```\n",
    "4. Write a python program to print all prime numbers between 1 to 100, and print how many prime numbers are there."
   ]
  },
  {
   "cell_type": "code",
   "execution_count": null,
   "metadata": {},
   "outputs": [],
   "source": []
  }
 ],
 "metadata": {
  "kernelspec": {
   "display_name": "Python 3",
   "language": "python",
   "name": "python3"
  },
  "language_info": {
   "codemirror_mode": {
    "name": "ipython",
    "version": 3
   },
   "file_extension": ".py",
   "mimetype": "text/x-python",
   "name": "python",
   "nbconvert_exporter": "python",
   "pygments_lexer": "ipython3",
   "version": "3.5.2"
  }
 },
 "nbformat": 4,
 "nbformat_minor": 2
}
