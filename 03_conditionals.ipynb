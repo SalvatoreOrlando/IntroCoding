{
 "cells": [
  {
   "cell_type": "markdown",
   "metadata": {},
   "source": [
    "# Conditionals\n",
    "\n",
    "In the following, we discuss the statements `if` and `if-else`, which *select* different codes to execute, depending on the state of the program. \n",
    "\n",
    "The first line of the statement define a **Boolean Test** or **Condition** that can be *True* or *False*. \n",
    "On the basis of the result of the test, different code blocks (sequences of statements) can be executed.\n",
    "\n",
    "*if*:\n",
    "\n",
    "     .....\n",
    "     if <Boolean test is equal to True>\n",
    "          <exec code_block>       # only executed if the test succeeds\n",
    "     .....\n",
    "      \n",
    "*if-else*:\n",
    "\n",
    "      .....\n",
    "      if <Boolean test is equal to True>\n",
    "           <exec code block 1>    # only executed if the test succeeds\n",
    "      else\n",
    "           <exec code block 2>    # only executed if the test fails\n",
    "      .....\n",
    "      \n",
    "# Boolean expressions (tests)\n",
    "\n",
    "Before discussing the **syntax of conditionals**, let us introduce *Boolean expressions* (the adjective Boolean derives from the mathematician George Boole, who first defined an algebraic system of *logic* in the mid 19th century).\n",
    "\n",
    "These are expressions that can be either *True* or *False*, usually denoted 1 and 0 respectively. \n",
    "\n",
    "The following examples use the **relational operator** `==`, which *compares* two operands/expressions and produces *True* if they are equal, and *False* otherwise.\n"
   ]
  },
  {
   "cell_type": "code",
   "execution_count": 6,
   "metadata": {},
   "outputs": [
    {
     "name": "stdout",
     "output_type": "stream",
     "text": [
      "<class 'bool'>\n",
      "True\n",
      "False\n"
     ]
    }
   ],
   "source": [
    "a = 3\n",
    "b = 4\n",
    "print (type(a==b))\n",
    "print(a+1==b)\n",
    "\n",
    "print(a+1==3)"
   ]
  },
  {
   "cell_type": "markdown",
   "metadata": {},
   "source": [
    "# Relational operators\n",
    "\n",
    "The `==` operator is one of the *relational operators* we can use to express Boolean tests.\n",
    "<br>\n",
    "A common error is to use a single equal sign (`=`), which is an *assignment*, instead of a double equal sign (`==`).\n",
    "\n",
    "The complete list of *relational operators* is reported below, where `x` and `y` are single variables or more complex expressions: \n",
    "```python       \n",
    "     x == y           # test if x is equal to y\n",
    "     x != y           # test if x is not equal to y\n",
    "     x > y            # test if x is greater than y\n",
    "     x < y            # test if x is less than y\n",
    "     x >= y           # test if x is greater than or equal to y\n",
    "     x <= y           # test if x is less than or equal to y\n",
    "```\n",
    "\n"
   ]
  },
  {
   "cell_type": "code",
   "execution_count": 8,
   "metadata": {},
   "outputs": [
    {
     "name": "stdout",
     "output_type": "stream",
     "text": [
      "3 != 5.0   :    True\n",
      "3 > 5    :    False\n",
      "5 > 3    :    True\n",
      "5 >= 5   :    True\n",
      "7 <= 4   :    False\n"
     ]
    }
   ],
   "source": [
    "print ('3 != 5.0   :   ', 3 != 5.0)\n",
    "print ('3 > 5    :   ', 3 > 5)\n",
    "print ('5 > 3    :   ', 5 > 3)\n",
    "print ('5 >= 5   :   ', 5 >= 3)\n",
    "print ('7 <= 4   :   ', 7 <= 4)"
   ]
  },
  {
   "cell_type": "markdown",
   "metadata": {},
   "source": [
    "# Logical operators\n",
    "\n",
    "In the Booolean algebra there are three logical operators: *and*, *or*, and *not*. The semantics (meaning) of these operators is similar to their meaning in English. We can combine these logical operators along with the relational ones to build complex Boolean expressions.\n",
    "\n",
    "### Operator \"`and`\" with True Table\n",
    "\n",
    "The logical expression:\n",
    "```python\n",
    "      (x > 0) and (x < 10)\n",
    "```       \n",
    "is *True* only if `x` is greater than 0 *and* less than 10, i.e., if `x` is included in the interval `(0,19)`.\n",
    "\n",
    "\n",
    "|  **A**   |  **B**  || **A** *and* **B** |          \n",
    "| :------: | :-----: || :---------------: |         \n",
    "| *False*  | *False* ||  *False*          | \n",
    "| *False*  | *True*  ||  *False*          |\n",
    "| *True*   | *False* ||  *False*          |\n",
    "| *True*   | *True*  ||  *True*           |\n",
    "\n",
    "\n",
    "\n",
    "### Operator \"`or`\" with True Table\n",
    "The logical expression:\n",
    "```python\n",
    "      (x > 20) or (x < 0)\n",
    "```        \n",
    "is *True* only if <tt>x</tt> is greater than 20 *or* less than 0.\n",
    "\n",
    "\n",
    "|  **A**   |  **B**  || **A** *or* **B** |          \n",
    "| :------: | :-----: || :--------------: |         \n",
    "| *False*  | *False* ||  *False*         | \n",
    "| *False*  | *True*  ||  *True*          |\n",
    "| *True*   | *False* ||  *True*          |\n",
    "| *True*   | *True*  ||  *True*          |\n",
    "\n",
    "\n",
    "### Operator  \"`not`\" with True Table\n",
    "\n",
    "Finally, the *not* operator negates a Boolean expression. For example, the Boolean expression:\n",
    "```python\n",
    "      not (x > y) \n",
    "```\n",
    "is equal to *True* if <tt>x > y</tt> is *False*, i.e., if `x <= y`.\n",
    "\n",
    "\n",
    "|  **A**   || *not* **A** |          \n",
    "| :------: || :---------: |         \n",
    "| *True*  || *False*     | \n",
    "| *False*   || *True*     |\n",
    "\n",
    "   "
   ]
  },
  {
   "cell_type": "code",
   "execution_count": 3,
   "metadata": {},
   "outputs": [
    {
     "name": "stdout",
     "output_type": "stream",
     "text": [
      "True\n",
      "False\n",
      "False\n",
      "True\n",
      "True\n"
     ]
    }
   ],
   "source": [
    "a = True\n",
    "b = False\n",
    "print(a or b)\n",
    "print(a and b)\n",
    "print(not a)\n",
    "print(not(a and b))\n",
    "c = 4\n",
    "print(c > 25 or c < 25)  # precedence of relational operators over logical ones "
   ]
  },
  {
   "cell_type": "markdown",
   "metadata": {},
   "source": [
    "# Syntax of Conditionals\n",
    "\n",
    "We almost always need the ability to check Boolean conditions,  and change the behavior of the program accordingly. *Conditional statements* (also called *Selection statement*) give us this ability. The simplest form is the <tt>if</tt> statement:\n",
    "```python\n",
    "    if x > 0:\n",
    "        print('the condition is True')\n",
    "        print('x is positive')\n",
    "```         \n",
    "The Boolean expression after <tt>if</tt> is called the *condition*, which *must end with a colon* **':'** char. \n",
    "Then we have an **indented body**, which is a *block of statements* containing any number of statements.\n",
    "By convention, indentation is always four spaces, but the *editor* indents automatically.\n",
    "\n",
    "\n",
    "About the semantics of <tt>if</tt>, if the condition is *True*, the *indented block* runs.  Otherwise, nothing happens.\n",
    "\n",
    "Note that in *python* the blocks are identified by **indented and aligned statements**, and this differs from other programming languages, where the blocks are identified by couples of curly brackets <tt>{ ... }</tt>, or couple of specific statements <tt>begin ... end</tt>, without forcing programmers to indent and align blocks. \n",
    "\n",
    "In this way, the designer of Python tried to force programmers to produce code that emphasises **readability**.\n",
    "\n",
    "A second form of conditionals is the <tt>if-else</tt> statement, or *alternative execution*. In this case  there are two possibilities and the condition determines which one runs.  The syntax looks like this:\n",
    "```python\n",
    "    if x % 2 == 0:\n",
    "        print('the first branch was taken.')\n",
    "        print('x is even')\n",
    "    else:\n",
    "        print('x is odd')\n",
    "```        \n",
    "If the remainder when <tt>x</tt> is divided by 2 is 0, then we know that x is *even*, and the program\n",
    "displays an appropriate message. It prints *odd* otherwise.\n",
    "\n",
    "Since the condition must be True or False, exactly one of the two alternatives will run. The\n",
    "alternatives are called **branches**, because they are branches in the flow of execution.\n",
    "\n",
    "Note the `else:` clause that introduces the alternative block/branch to run.\n"
   ]
  },
  {
   "cell_type": "code",
   "execution_count": 10,
   "metadata": {},
   "outputs": [
    {
     "name": "stdout",
     "output_type": "stream",
     "text": [
      "the first branch was taken.\n",
      "x is even\n"
     ]
    }
   ],
   "source": [
    "x = 1+1\n",
    "if x % 2 == 0:\n",
    "    print('the first branch was taken.')\n",
    "    print('x is even')\n",
    "else:\n",
    "    print('x is odd')"
   ]
  },
  {
   "cell_type": "code",
   "execution_count": 13,
   "metadata": {
    "scrolled": true
   },
   "outputs": [
    {
     "name": "stdout",
     "output_type": "stream",
     "text": [
      "a is odd\n",
      "hello\n",
      "this is the statement run after the \"if-else\"\n"
     ]
    }
   ],
   "source": [
    "a = 3\n",
    "if a % 2 == 0:\n",
    "    print('the first branch was taken.')\n",
    "    print('a is even')\n",
    "else:\n",
    "    print('a is odd')\n",
    "print('hello')\n",
    "print('this is the statement run after the \\\"if-else\\\"')"
   ]
  },
  {
   "cell_type": "markdown",
   "metadata": {},
   "source": [
    "# Chained conditionals\n",
    "\n",
    "Sometimes there are more than two possibilities and we need *more than two branches*.\n",
    "One way to express a computation like that is a **chained conditional**. \n",
    "We need to introduce another clause <tt>elif:</tt>, which is an abbreviation of “<tt>else if</tt>”, to express all the intermediate conditions:\n",
    "```python\n",
    "if x < y:\n",
    "    print('x is less than y')\n",
    "elif x > y:\n",
    "    print('x is greater than y')\n",
    "else:\n",
    "    print('x and y are equal')\n",
    "```\n",
    "Again, exactly one branch will run. There is no limit on\n",
    "the number of <tt>elif</tt> statements. If there is an <tt>else</tt> clause, it has to be at the end, but it is not compulsory.\n",
    "\n",
    "Each condition is checked in order. If the first is false, the next is checked, and so on. If one\n",
    "of them is true, the corresponding branch runs and the statement ends. Even if more than\n",
    "one condition is true, <u>only the first true branch runs</u>."
   ]
  },
  {
   "cell_type": "code",
   "execution_count": 15,
   "metadata": {},
   "outputs": [
    {
     "name": "stdout",
     "output_type": "stream",
     "text": [
      "Give me your choice (a, b, or c)y\n",
      "Wrong choice\n"
     ]
    }
   ],
   "source": [
    "choice = input('Give me your choice (a, b, or c)')\n",
    "if choice == 'a':\n",
    "    print('1st choice')\n",
    "elif choice == 'b':\n",
    "    print('2nd choice')\n",
    "elif choice == 'c':\n",
    "    print('3rd choice')\n",
    "else:\n",
    "    print('Wrong choice')"
   ]
  },
  {
   "cell_type": "markdown",
   "metadata": {},
   "source": [
    "# Nested conditionals\n",
    "\n",
    "Alternative way to write the above example:\n",
    "```python\n",
    "if x == y:\n",
    "    print('x and y are equal')\n",
    "else:\n",
    "    if x < y:\n",
    "        print('x is less than y')\n",
    "    else:\n",
    "        print('x is greater than y')\n",
    "```\n",
    "\n",
    "The *outer* conditional contains two branches. The first branch contains a simple statement.\n",
    "The second branch contains another if statement, which has two branches of its own."
   ]
  },
  {
   "cell_type": "markdown",
   "metadata": {},
   "source": [
    "# Exercises\n",
    "\n",
    "1. Write a program that reads from input 3 integers, and checks (returning a message on the screen) if they are all equals, or if they are sorted in numerical order, or if they are sorted in reverse order, or finally, no of the three cases above occurs.\n",
    "\n",
    "2. Write a program that reads from input 4 integers, storing them in four variables. The program has to print sum, average, minimum and maximum of the four integers. \n",
    "\n",
    "3. Write a program that prompts the user to input three stick lengths, converts them into integers, and check whether sticks with the given lengths can form a triangle. \n",
    "(*Simple test to see if it is possible to form a triangle: If no of the three lengths is greater than the sum of the other two, then you cannot form a triangle. Otherwise, you can*).\n",
    "\n",
    "4. Given 3 integer numbers, check if they can be the lengths of the sides of a **right triangle**. (*Hint: Apply the Pythagorean theorem.*)\n",
    "\n",
    "5. Given as input an integer number, print its binary representation with a maximum of 8 bits (*Hint: use the substraction method.*)"
   ]
  },
  {
   "cell_type": "code",
   "execution_count": 6,
   "metadata": {
    "collapsed": true
   },
   "outputs": [],
   "source": [
    "# Exercise 1"
   ]
  },
  {
   "cell_type": "code",
   "execution_count": 7,
   "metadata": {},
   "outputs": [
    {
     "name": "stdout",
     "output_type": "stream",
     "text": [
      "3\n",
      "23\n",
      "1\n",
      "56\n",
      "sum: 83 avg: 20.75 min: 23 max: 56\n"
     ]
    }
   ],
   "source": [
    "# Exercise 2\n",
    "\n",
    "v1 = int(input())\n",
    "sum = min = max = v1\n",
    "\n",
    "v2 = int(input())\n",
    "sum = sum + v2\n",
    "if (v2 < min):\n",
    "    min = v2\n",
    "if (v2 > max):\n",
    "    max = v2\n",
    "\n",
    "v3 = int(input())\n",
    "sum = sum + v3\n",
    "if (v3 < min):\n",
    "    min = v2\n",
    "if (v3 > max):\n",
    "    max = v3\n",
    "    \n",
    "v4 = int(input())\n",
    "sum = sum + v4\n",
    "if (v4 < min):\n",
    "    min = v4\n",
    "if (v4 > max):\n",
    "    max = v4\n",
    "    \n",
    "avg = sum/4\n",
    "\n",
    "print('sum:', sum, 'avg:', avg, 'min:', min, 'max:', max)"
   ]
  },
  {
   "cell_type": "code",
   "execution_count": 8,
   "metadata": {
    "collapsed": true
   },
   "outputs": [],
   "source": [
    "# Exercise 3"
   ]
  },
  {
   "cell_type": "code",
   "execution_count": null,
   "metadata": {},
   "outputs": [],
   "source": [
    "# Exercise 4"
   ]
  },
  {
   "cell_type": "code",
   "execution_count": null,
   "metadata": {},
   "outputs": [],
   "source": [
    "# Exercise 5\n",
    "# Given as input an integer number, print its binary representation \n",
    "# with a maximum of 8 bits (*Hint: use the substraction method. The max number we can\n",
    "# represent on 8 bit is 255.*)\n",
    "\n",
    "n = int(input(\"Positive integer < 256: \"))\n",
    "if (n - 2**7 >= 0):\n",
    "    n = n - 2**7\n",
    "    print(\"1\", sep='', end='')\n",
    "else:\n",
    "    print(\"0\", sep='', end='')\n",
    "    \n",
    "if (n - 2**6 >= 0):\n",
    "    n = n - 2**6\n",
    "    print(\"1\", sep='', end='')\n",
    "else:\n",
    "    print(\"0\", sep='', end='')\n",
    "    \n",
    "if (n - 2**5 >= 0):\n",
    "    n = n - 2**5\n",
    "    print(\"1\", sep='', end='')\n",
    "else:\n",
    "    print(\"0\", sep='', end='')\n",
    "    \n",
    "if (n - 2**4 >= 0):\n",
    "    n = n - 2**4\n",
    "    print(\"1\", sep='', end='')\n",
    "else:\n",
    "    print(\"0\", sep='', end='')\n",
    "    \n",
    "if (n - 2**3 >= 0):\n",
    "    n = n - 2**3\n",
    "    print(\"1\", sep='', end='')\n",
    "else:\n",
    "    print(\"0\", sep='', end='')\n",
    "        \n",
    "if (n - 2**2 >= 0):\n",
    "    n = n - 2**2\n",
    "    print(\"1\", sep='', end='')\n",
    "else:\n",
    "    print(\"0\", sep='', end='')\n",
    "    \n",
    "if (n - 2**1 >= 0):\n",
    "    n = n - 2**1\n",
    "    print(\"1\", sep='', end='')\n",
    "else:\n",
    "    print(\"0\", sep='', end='')\n",
    "        \n",
    "if (n - 2**0 >= 0):\n",
    "    n = n - 2**0\n",
    "    print(\"1\", sep='', end='')\n",
    "else:\n",
    "    print(\"0\", sep='', end='')\n",
    "\n",
    "print()\n"
   ]
  }
 ],
 "metadata": {
  "kernelspec": {
   "display_name": "Python 3",
   "language": "python",
   "name": "python3"
  },
  "language_info": {
   "codemirror_mode": {
    "name": "ipython",
    "version": 3
   },
   "file_extension": ".py",
   "mimetype": "text/x-python",
   "name": "python",
   "nbconvert_exporter": "python",
   "pygments_lexer": "ipython3",
   "version": "3.5.2"
  },
  "varInspector": {
   "cols": {
    "lenName": 16,
    "lenType": 16,
    "lenVar": 40
   },
   "kernels_config": {
    "python": {
     "delete_cmd_postfix": "",
     "delete_cmd_prefix": "del ",
     "library": "var_list.py",
     "varRefreshCmd": "print(var_dic_list())"
    },
    "r": {
     "delete_cmd_postfix": ") ",
     "delete_cmd_prefix": "rm(",
     "library": "var_list.r",
     "varRefreshCmd": "cat(var_dic_list()) "
    }
   },
   "types_to_exclude": [
    "module",
    "function",
    "builtin_function_or_method",
    "instance",
    "_Feature"
   ],
   "window_display": false
  }
 },
 "nbformat": 4,
 "nbformat_minor": 2
}
