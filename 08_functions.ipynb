{
 "cells": [
  {
   "cell_type": "markdown",
   "metadata": {},
   "source": [
    "# More about Functions\n",
    "\n",
    "We defined *\"programming\"* as the **process of breaking** a large, **complex computational task** into smaller and smaller **subtasks**, until the subtasks are simple enough to be performed by combining basic instructions. Sometimes it is useful to associate a **name** with these subtasks, which becomes **functions**. \n",
    "\n",
    "In the context of programming, a **function** is thus a **named group of statements** that performs\n",
    "a computation. \n",
    "Each function must be before **“defined”** and then **“called”** by its name.\n",
    "\n",
    "We already used a lot of **pre-defined functions**, by calling them with suitable **arguments**:\n",
    "```python\n",
    "                      int('32')\n",
    "                      type(1.3)\n",
    "                      len(\"Hello\")\n",
    "```\n",
    "We also used **composition of functions**, where the **return of a function** is used in turn as a argument of another, and so on:\n",
    "```python\n",
    "                      input_num = \"44\"\n",
    "                      print(str(int(input_num) + 1))\n",
    "```\n",
    "Note that the argument of a function can be any kind of expression, including arithmetic operators.\n"
   ]
  },
  {
   "cell_type": "code",
   "execution_count": 1,
   "metadata": {},
   "outputs": [
    {
     "name": "stdout",
     "output_type": "stream",
     "text": [
      "45\n"
     ]
    }
   ],
   "source": [
    "input_num = \"44\"\n",
    "print(str(int(input_num) + 1))\n"
   ]
  },
  {
   "cell_type": "markdown",
   "metadata": {
    "collapsed": true
   },
   "source": [
    "# Defining and calling a function\n",
    "\n",
    "To **define** and then **call/invoke** a function, you have to use the following **syntax**:\n",
    "\n",
    "```python\n",
    "        def name_of_function([<list of comma-separated parameters>]):  # the list can be empty\n",
    "            < indented block of statements>\n",
    "\n",
    "        ....\n",
    "        \n",
    "        name_of_function([<list of comma-separated arguments>])        # function call\n",
    "```\n",
    "\n",
    "Therefore, if **function arguments** are needed, when you define the function you have to introduce one or more variables called **parameters** between a pair of parentheses. For example:\n",
    "```python\n",
    "        def print_twice(param1, param2):\n",
    "            print(param1, param2)\n",
    "            print(param1, param2)\n",
    "```\n",
    "This function assigns the arguments, passed at calling time, to the two parameters `param1` and  `param1`. Indeed, when the function `print_twice` is called, it prints the value of the two parameters twice. For example, after the definition, you can call the function as follows:\n",
    "```python\n",
    "        print_twice(\"Thanks\", 1000)\n",
    "```\n",
    "This function works with any argument that can be printed by the build-in function `print`.\n",
    "\n",
    "You can also pass **expressions as arguments**, which are first evaluated before being assigned to the parameter variables.\n",
    "For example, look at the code below, where we also defined a function without parameters:"
   ]
  },
  {
   "cell_type": "code",
   "execution_count": 12,
   "metadata": {},
   "outputs": [
    {
     "name": "stdout",
     "output_type": "stream",
     "text": [
      "Thanks Thanks Thanks Thanks  1000\n",
      "Thanks Thanks Thanks Thanks  1000\n",
      "\n",
      "Hello!\n",
      "How are yoy from 0 to 10?\n"
     ]
    }
   ],
   "source": [
    "def print_twice(param1, param2):\n",
    "    print(param1, param2)\n",
    "    print(param1, param2)\n",
    "    \n",
    "\n",
    "def print_my_strings():\n",
    "    print(\"Hello!\")\n",
    "    print(\"How are yoy from 0 to 10?\")\n",
    "\n",
    "print_twice('Thanks ' * 4, 1000)  # you can apply '*' operator to strings too!!\n",
    "print()\n",
    "print_my_strings()                # no arguments must be passed in this case"
   ]
  },
  {
   "cell_type": "markdown",
   "metadata": {},
   "source": [
    "# Functions and Flow of control/execution\n",
    "\n",
    "Recall that program execution always begins at the first statement of the program. Statements are run one at a\n",
    "time, in order from top to bottom.\n",
    "\n",
    "**Function definitions** _do not alter the flow of execution of the program_, and the statements inside the function definintion **don't** run until the function is called.\n",
    "\n",
    "A **function call** is like a **detour in the flow of execution**. Instead of going to the next statement,\n",
    "the **flow jumps** to the body of the function, and runs the statements there, and then **comes\n",
    "back** to resume from where it left off.  \n",
    "\n",
    "This execution scheme works well even if the called function calls another, and so on. \n",
    "And Python is good at keeping track of where the flow of execution is, moving forward and backward between different functions.\n",
    "\n",
    "In summary, when you read a program, you don’t always want to read from top to bottom. Sometimes it makes more sense if you follow the flow of execution."
   ]
  },
  {
   "cell_type": "markdown",
   "metadata": {},
   "source": [
    "# Variables and parameters within functions are local\n",
    "\n",
    "When you create a **variable** inside a function definition, it is **local**, and its **lifetime** starts when the function is called and ends when the execution of the called function ends.\n",
    "\n",
    "*Parameters* are also local. For example, outside `print_twice`, there is no known variables `param1` or `param2`. See the example below, and discuss because they generate run-time errors."
   ]
  },
  {
   "cell_type": "code",
   "execution_count": 1,
   "metadata": {},
   "outputs": [
    {
     "name": "stdout",
     "output_type": "stream",
     "text": [
      "30\n",
      "20\n"
     ]
    },
    {
     "ename": "NameError",
     "evalue": "name 'incr' is not defined",
     "output_type": "error",
     "traceback": [
      "\u001b[0;31m---------------------------------------------------------------------------\u001b[0m",
      "\u001b[0;31mNameError\u001b[0m                                 Traceback (most recent call last)",
      "\u001b[0;32m<ipython-input-1-42e46b44f80f>\u001b[0m in \u001b[0;36m<module>\u001b[0;34m()\u001b[0m\n\u001b[1;32m     11\u001b[0m \u001b[0;34m\u001b[0m\u001b[0m\n\u001b[1;32m     12\u001b[0m \u001b[0mprint\u001b[0m\u001b[0;34m(\u001b[0m\u001b[0ma\u001b[0m\u001b[0;34m)\u001b[0m  \u001b[0;31m# the variable is **not** the one defined in the body of foo()\u001b[0m\u001b[0;34m\u001b[0m\u001b[0m\n\u001b[0;32m---> 13\u001b[0;31m \u001b[0mprint\u001b[0m\u001b[0;34m(\u001b[0m\u001b[0mincr\u001b[0m\u001b[0;34m)\u001b[0m \u001b[0;31m# the variable is **not** defined in this environment\u001b[0m\u001b[0;34m\u001b[0m\u001b[0m\n\u001b[0m\u001b[1;32m     14\u001b[0m \u001b[0mprint\u001b[0m\u001b[0;34m(\u001b[0m\u001b[0mval\u001b[0m\u001b[0;34m)\u001b[0m\u001b[0;34m\u001b[0m\u001b[0m\n\u001b[1;32m     15\u001b[0m \u001b[0;34m\u001b[0m\u001b[0m\n",
      "\u001b[0;31mNameError\u001b[0m: name 'incr' is not defined"
     ]
    }
   ],
   "source": [
    "def foo(val):\n",
    "    incr = 12\n",
    "    a = 10\n",
    "    val = val + incr + 10\n",
    "    print(val)\n",
    "\n",
    "\n",
    "a = 20\n",
    "\n",
    "foo(8)\n",
    "\n",
    "print(a)  # the variable is **not** the one defined in the body of foo()\n",
    "print(incr) # the variable is **not** defined in this environment\n",
    "print(val)\n",
    "    \n",
    "# try to create a variable incr and val outside the function\n",
    "# run by using pythontutor to visualize the execution"
   ]
  },
  {
   "cell_type": "markdown",
   "metadata": {},
   "source": [
    "## Default values of parameter\n",
    "\n",
    "When you define a function you can specify a default value for one or more arguments. This creates a function that can be called with fewer arguments."
   ]
  },
  {
   "cell_type": "code",
   "execution_count": 2,
   "metadata": {},
   "outputs": [
    {
     "name": "stdout",
     "output_type": "stream",
     "text": [
      "Hello Salvatore! How are you?\n",
      "Hello Salvatore! How are you?\n",
      "Ciao Salvatore! How are you?\n",
      "Ciao Salvatore! How are you?\n",
      "Hello Giovanni! How old are you?\n",
      "Hello Giovanni! How old are you?\n"
     ]
    }
   ],
   "source": [
    "def print_twice(param1, param2 = 'Salvatore!', param3 = 'How are you?'):\n",
    "    print(param1, param2, param3)\n",
    "    print(param1, param2, param3)\n",
    "    \n",
    "print_twice('Hello')\n",
    "print_twice('Ciao')\n",
    "print_twice('Hello', param2=\"Giovanni!\", param3 = 'How old are you?')\n"
   ]
  },
  {
   "cell_type": "markdown",
   "metadata": {
    "collapsed": true
   },
   "source": [
    "# Docstrings\n",
    "\n",
    "To document a function, a *docstring* should be used.\n",
    "\n",
    "It is a text put at the beginning of a function to explains the interface (“doc” is\n",
    "short for “documentation”). Here is an example:\n",
    "\n",
    "```python\n",
    "        def fib(n):    \n",
    "              \"\"\"\n",
    "                  Print a Fibonacci series up to n.\n",
    "                  \n",
    "                  Args:\n",
    "                     n: limit of the value to include in the series.\n",
    "                  Returns:\n",
    "                     No return value, but print the list.\n",
    "\n",
    "              \"\"\"\n",
    "              a = 0 # first Fibonacci value\n",
    "              b = 1 # second Fibonacci value\n",
    "              while a <= n:\n",
    "                  print(a, end='')\n",
    "                  a_old = a\n",
    "                  a = a+b\n",
    "                  b = a_old\n",
    "              print()\n",
    "```\n",
    "\n",
    "By convention, all docstrings are triple-quoted strings, also known as multiline string\n",
    "because the triple quotes allow the string to span more than one line.\n",
    "\n",
    "Docstring are treated by Python as *multiline comments*.\n",
    "\n",
    "There are tools which use docstrings to automatically produce online or printed documentation, or to let the user interactively browse through code."
   ]
  },
  {
   "cell_type": "code",
   "execution_count": 18,
   "metadata": {},
   "outputs": [
    {
     "name": "stdout",
     "output_type": "stream",
     "text": [
      "0 1 1 2 3 5 8 13 21 34 55 89 144 233 \n"
     ]
    }
   ],
   "source": [
    "def fib(n):    \n",
    "    '''\n",
    "    Print a Fibonacci series up to n.\n",
    "                  \n",
    "    Args:\n",
    "       n: limit of the value to include in the series.\n",
    "    Returns:\n",
    "       No return value, but print the list.\n",
    "    '''\n",
    "    if n == 0:\n",
    "        print(0) # first Fibonacci value\n",
    "    elif n >= 1:\n",
    "        print(0, 1, 1, end=' ') # first three Fibonacci values\n",
    "        a = 2  # 4th Fib value (to print)\n",
    "        b = 1  # 3rd Fib value (already printed)\n",
    "        while a <= n:\n",
    "            print(a, end=' ')\n",
    "            a_old = a\n",
    "            a = a + b    # compute the next Fib value and ri-assign a\n",
    "            b = a_old    # move b to the penultimate Fib value\n",
    "    print()\n",
    "    \n",
    "fib(300)  # call the function"
   ]
  },
  {
   "cell_type": "markdown",
   "metadata": {},
   "source": [
    "# Fruitful functions\n",
    "\n",
    "Many of the Python functions we have used produce return\n",
    "values. \n",
    "\n",
    "But the above functions are all **void**: they have an effect, as they print values, but they do not have a return value. How can we write **fruitful** functions?\n",
    "\n",
    "Look at this example, a function that returns the area of a circle with the given radius:\n",
    "\n",
    "```python\n",
    "    def area(radius):\n",
    "        a = 3.14 * radius**2\n",
    "        return a\n",
    "```\n",
    "\n",
    "We can use the `return` statement with or without arguments.\n",
    "If the function is *void*, the `return` statement forces the exit from function.\n",
    "If the function is *fruitful*, the `return` statement must be followed by an expression, as in the example above.\n",
    "\n",
    "You can use fruitful functions within expressions, or assign the fuction, indeed the returned value, to a variable.\n"
   ]
  },
  {
   "cell_type": "code",
   "execution_count": 4,
   "metadata": {},
   "outputs": [
    {
     "name": "stdout",
     "output_type": "stream",
     "text": [
      "323.0\n"
     ]
    }
   ],
   "source": [
    "def area_circle(radius):\n",
    "    a = 3.14 * radius**2\n",
    "    return a\n",
    "\n",
    "def area_square(side):\n",
    "    return side**2\n",
    "\n",
    "total = area_circle(10) + area_square(3) # usage of fruitful functions within expressions, eventually assigned to a variable\n",
    "print(total)"
   ]
  },
  {
   "cell_type": "markdown",
   "metadata": {
    "collapsed": true
   },
   "source": [
    "# Advanced topic: recursive functions\n",
    "\n",
    "A **recursive definition** is similar to\n",
    "a circular definition, in the sense that the definition contains a reference to the thing being\n",
    "defined.\n",
    "\n",
    "It is very common in mathematics. For example, the **factorial** $n! = 1 \\cdot 2 \\cdot \\ldots \\cdot n$ can be expressed as follows:\n",
    "\n",
    "$$ \n",
    "0! = 1\\\\\n",
    "n! = n \\cdot (n - 1)!\n",
    "$$\n",
    "\n",
    "This definition says that the factorial of $0$ is $1$, and the factorial of any other value, $n$, is $n$\n",
    "multiplied by the factorial of $n - 1$.\n",
    "\n",
    "So $3!$ is $3$ times $2!$, which is $2$ times $1!$, which is $1$ times $0!$. $0!$ is the base case, where the definition is known.\n",
    "\n",
    "Putting it all together, $3!$ is equal to $3 \\cdot 2 \\cdot 1 = 6$.\n",
    "\n",
    "\n",
    "If you can write a recursive definition of something, you can write a Python program to\n",
    "evaluate it. \n",
    "\n",
    "\n",
    "The first step is to decide what the parameters should be. In this case it should\n",
    "be clear that factorial takes an integer:\n",
    "```python\n",
    "           def factorial(n):\n",
    "```\n",
    "If the argument happens to be 0, all we have to do is return 1, otherwise we have to make a **recursive call** to find the\n",
    "factorial of $n - 1$ and then multiply it by $n$:\n",
    "\n",
    "```python\n",
    "           def factorial(n):\n",
    "               if n == 0:\n",
    "                   return 1\n",
    "               else:\n",
    "                   recurse = factorial(n-1)\n",
    "                   result = n * recurse\n",
    "                   return result        \n",
    "```\n",
    "\n",
    "Since $3$ is not $0$, we take the second branch and calculate the factorial of $n-1$ (which is $2$)...<br/>\n",
    "&nbsp;&nbsp;&nbsp;&nbsp;Since $2$ is not $0$, we take the second branch and calculate the factorial of $n-1$ (which is $1$)...<br/>\n",
    "&nbsp;&nbsp;&nbsp;&nbsp;&nbsp;&nbsp;&nbsp;&nbsp;Since $1$ is not $0$, we take the second branch and calculate the factorial\n",
    "of $n-1$ (which is $0$)...<br/>\n",
    "&nbsp;&nbsp;&nbsp;&nbsp;&nbsp;&nbsp;&nbsp;&nbsp;&nbsp;&nbsp;&nbsp;&nbsp;Since $0$ equals $0$, we take the first branch and return $1$ without making any more recursive calls.<br/>\n",
    "&nbsp;&nbsp;&nbsp;&nbsp;&nbsp;&nbsp;&nbsp;&nbsp;The return value, $1$, is multiplied by $n$, which is $1$, and the result is returned.<br/>\n",
    "&nbsp;&nbsp;&nbsp;&nbsp;The return value, $1$, is multiplied by $n$, which is $2$, and the result is returned.<br/>\n",
    "The return value ($2$) is multiplied by $n$, which is $3$, and the result, $6$, becomes the return\n",
    "value of the function call that started the whole process.\n",
    "\n",
    "Try with  [Python Tutor](http://pythontutor.com/visualize.html#mode=edit) by defining and then calling the function:\n",
    "\n",
    "```python\n",
    "           result = factorial(3)\n",
    "```\n",
    "\n",
    "\n",
    "\n"
   ]
  },
  {
   "cell_type": "markdown",
   "metadata": {},
   "source": [
    "# Advanced topic: Stack diagrams\n",
    "\n",
    "To keep track of which variables can be used where, it is sometimes useful to draw a **stack\n",
    "diagram**, which shows the value of each variable but they\n",
    "also show *the function each variable belongs to*.\n",
    "\n",
    "*Each function* is represented by a **frame**, indeed a box with the name of a function\n",
    "beside it and the parameters and variables of the function inside it. \n",
    "\n",
    "The *frames* are arranged in a **stack** that indicates which function called which, and so\n",
    "on. \n",
    "\n",
    "The following is the stack diagram of the call of \n",
    "```python\n",
    "       result = factorial(3)\n",
    "```\n",
    "\n",
    "  ![Stack diagram](images/stack.png)\n",
    "\n",
    "The return values are shown being passed back up the stack. In each frame, the return\n",
    "value is the value of ```result```, which is the product of $n$ and ```recurse```.\n",
    "\n",
    "In the last frame, the local variables ```recurse``` and ```result``` do not exist, because the branch\n",
    "that creates them does not run.\n",
    "\n",
    "Note how many different instances of variable ```result``` are generated during the recursive call.\n"
   ]
  },
  {
   "cell_type": "markdown",
   "metadata": {},
   "source": [
    "# Exercises\n",
    "\n",
    "1. Write a recursive function that realizes *fibonacci*, defined recursively as follows:\n",
    "$$ \n",
    "fib(0) = 0\\\\\n",
    "fib(1) = 1\\\\\n",
    "fib(n) = fib(n-1) + fib(n-2)\n",
    "$$\n",
    "2. Write a recursive function that computes the sum of a list of integers. \n",
    "$$ \n",
    "sum\\_list([]) = 0\\\\\n",
    "sum\\_list([elem]) = elem\\\\\n",
    "sum\\_list([elem1, elem2, ...]) = elem + sum\\_list[elem2, ...]\n",
    "$$\n",
    "3. Write a function named ```uses_all``` that takes a word and a string of required letters, and that returns *True* if the word uses all the required letters at least once, and *False* otherwise. Apply the function to the string: \"Venice is a city in northeastern Italy and the capital of the Veneto region. It is situated across a group of 118 small islands that are separated by canals and linked by bridges, of which there are 400.\" by using \"ae\" as required letters.\n",
    "4. Write a function ```check_prime``` that takes an integer and returns *True* if the number is prime, and *False* otherwise.\n"
   ]
  },
  {
   "cell_type": "code",
   "execution_count": 2,
   "metadata": {},
   "outputs": [
    {
     "name": "stdout",
     "output_type": "stream",
     "text": [
      "0 1 1 2 3 5 8 13 21 34 55 89 144 233 377 610 987 1597 2584 4181 "
     ]
    }
   ],
   "source": [
    "# Exercise 1\n",
    "def fib(n):\n",
    "    if n == 0:\n",
    "        return 0\n",
    "    elif n == 1:\n",
    "        return 1\n",
    "    else:\n",
    "        fib1 = fib(n-1)\n",
    "        fib2 = fib(n-2)\n",
    "        return fib1 + fib2\n",
    "\n",
    "for i in range(20):\n",
    "    print(fib(i), end=' ')"
   ]
  },
  {
   "cell_type": "code",
   "execution_count": null,
   "metadata": {
    "collapsed": true
   },
   "outputs": [],
   "source": []
  }
 ],
 "metadata": {
  "kernelspec": {
   "display_name": "Python 3",
   "language": "python",
   "name": "python3"
  },
  "language_info": {
   "codemirror_mode": {
    "name": "ipython",
    "version": 3
   },
   "file_extension": ".py",
   "mimetype": "text/x-python",
   "name": "python",
   "nbconvert_exporter": "python",
   "pygments_lexer": "ipython3",
   "version": "3.5.2"
  },
  "varInspector": {
   "cols": {
    "lenName": 16,
    "lenType": 16,
    "lenVar": 40
   },
   "kernels_config": {
    "python": {
     "delete_cmd_postfix": "",
     "delete_cmd_prefix": "del ",
     "library": "var_list.py",
     "varRefreshCmd": "print(var_dic_list())"
    },
    "r": {
     "delete_cmd_postfix": ") ",
     "delete_cmd_prefix": "rm(",
     "library": "var_list.r",
     "varRefreshCmd": "cat(var_dic_list()) "
    }
   },
   "types_to_exclude": [
    "module",
    "function",
    "builtin_function_or_method",
    "instance",
    "_Feature"
   ],
   "window_display": false
  }
 },
 "nbformat": 4,
 "nbformat_minor": 2
}
