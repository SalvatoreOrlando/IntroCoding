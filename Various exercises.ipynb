{
 "cells": [
  {
   "cell_type": "markdown",
   "metadata": {},
   "source": [
    "## Ex 1\n",
    "\n",
    "The following two lists represents a series of rolls of two dies (6 sides): \n",
    "```python\n",
    "      rolls1 = [1,5,2,3,5,4,4,3,1,1,6,2,3,1,5,6,2] \n",
    "      rolls2 = [6,5,3,4,5,2,1,6,5,3,2,2,1,1,2,3,2] \n",
    "```\n",
    "The obtained outcome for each roll is the sum of the two numbers. \n",
    "Write a program that finds the average outcome.\n"
   ]
  },
  {
   "cell_type": "markdown",
   "metadata": {},
   "source": [
    "## Ex 2\n",
    "\n",
    "Write a program that removes from a homogeneous list (which can be sorted) the elements that are replicated, by keeping only a unique instance in the final list.  \n"
   ]
  },
  {
   "cell_type": "markdown",
   "metadata": {},
   "source": [
    "## Ex 3\n",
    "\n",
    "Write a function that given a number **n**, print **n** lines as follows:\n",
    "\n",
    "\n",
    "```python\n",
    "1 *\n",
    "4 ++\n",
    "8 ***\n",
    "16 ++++\n",
    "32  …\n",
    "```\n",
    "\n"
   ]
  },
  {
   "cell_type": "markdown",
   "metadata": {},
   "source": [
    "## Ex 4\n",
    "\n",
    "Given a list:\n",
    "\n",
    "```python\n",
    "  months = ['Gen', 'Feb', 'Mar', 'Apr', 'May', 'Jun', 'Jul', \n",
    "            'Aug', 'Sep', 'Oct', 'Nov', 'Dec']\n",
    "```\n",
    "\n",
    "write a program that insert in a dictionary `dict` the pairs `(1,'Gen')`, `(2,'Feb')`, .\n",
    "\n",
    "Write a function that takes a list of 3 integers representing a date, for example `[25, 7, 2018]`, and the previous dictionary `dict`, and returns a string like the following `'25-Jul-2018'`.\n",
    "\n"
   ]
  },
  {
   "cell_type": "markdown",
   "metadata": {},
   "source": [
    "## Ex 5\n",
    "\n",
    "A **3x3** matrix of integers can be represented as a list of lists as follows:\n",
    "```python\n",
    "   list = [ [3,4,5],  [8,9,10],  [0,2,-1] ]\n",
    "```\n",
    "Write a function `sum_matrix(lst_of_lst)` that scans an input matrix **NxM** (i.e., a list of lists), and prepares and returns a list of sum values, namely an integer sum for each row. \n",
    "The result for the above example should be: `[12,27,1]`."
   ]
  },
  {
   "cell_type": "markdown",
   "metadata": {},
   "source": [
    "## Ex 6\n",
    "\n",
    "Write the Python function `wlen(lst_w)` that takes a list of words and returns the length of the longest one.    \n",
    "\n",
    "Modify the program to return the tuple `(len_word, word)`, i.e., the longest word along with its length. "
   ]
  },
  {
   "cell_type": "markdown",
   "metadata": {},
   "source": [
    "## Ex 7\n",
    "\n",
    "Define two functions `mean(list)` and `median(list)` that receive as input a list of numbers and return the mean (average value) or the median (the middle value in the sorted list), respectively.  \n",
    "Lists can be sorted in ascending order by method `list.sort()`. \n",
    "\n",
    "We can have `len(list)` that is even or odd. \n"
   ]
  },
  {
   "cell_type": "markdown",
   "metadata": {},
   "source": [
    "## Ex 8\n",
    "\n",
    "Invert the following dictionary:\n",
    "\n",
    "```python\n",
    "   d = {'a':10, 'b':10, 'c':3, 'd':3, 'e':2}\n",
    "```\n",
    "\n",
    "thus producing:\n",
    "\n",
    "```python\n",
    "   d_out = {10: ['a', 'b'], 3: ['c','d'], 2:['e']}\n",
    "```\n"
   ]
  }
 ],
 "metadata": {
  "kernelspec": {
   "display_name": "Python 3",
   "language": "python",
   "name": "python3"
  },
  "language_info": {
   "codemirror_mode": {
    "name": "ipython",
    "version": 3
   },
   "file_extension": ".py",
   "mimetype": "text/x-python",
   "name": "python",
   "nbconvert_exporter": "python",
   "pygments_lexer": "ipython3",
   "version": "3.5.2"
  },
  "varInspector": {
   "cols": {
    "lenName": 16,
    "lenType": 16,
    "lenVar": 40
   },
   "kernels_config": {
    "python": {
     "delete_cmd_postfix": "",
     "delete_cmd_prefix": "del ",
     "library": "var_list.py",
     "varRefreshCmd": "print(var_dic_list())"
    },
    "r": {
     "delete_cmd_postfix": ") ",
     "delete_cmd_prefix": "rm(",
     "library": "var_list.r",
     "varRefreshCmd": "cat(var_dic_list()) "
    }
   },
   "types_to_exclude": [
    "module",
    "function",
    "builtin_function_or_method",
    "instance",
    "_Feature"
   ],
   "window_display": false
  }
 },
 "nbformat": 4,
 "nbformat_minor": 2
}
