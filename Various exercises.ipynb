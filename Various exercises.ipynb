{
 "cells": [
  {
   "cell_type": "markdown",
   "metadata": {},
   "source": [
    "## Ex 1\n",
    "\n",
    "The following two lists represents a series of rolls of two dies (6 sides): \n",
    "```python\n",
    "      rolls1 = [1,5,2,3,5,4,4,3,1,1,6,2,3,1,5,6,2] \n",
    "      rolls2 = [6,5,3,4,5,2,1,6,5,3,2,2,1,1,2,3,2] \n",
    "```\n",
    "The obtained outcome for each roll is the sum of the two numbers. \n",
    "Write a program that finds the average outcome.\n"
   ]
  },
  {
   "cell_type": "code",
   "execution_count": 73,
   "metadata": {},
   "outputs": [
    {
     "name": "stdout",
     "output_type": "stream",
     "text": [
      "107\n",
      "6.294117647058823\n",
      "6.294117647058823\n"
     ]
    }
   ],
   "source": [
    "rolls1 = [1,5,2,3,5,4,4,3,1,1,6,2,3,1,5,6,2] \n",
    "rolls2 = [6,5,3,4,5,2,1,6,5,3,2,2,1,1,2,3,2]\n",
    "\n",
    "# scan both lists, and compute:    rolls1[i] + rolls2[i]\n",
    "# accumulate these sums in a variable: S\n",
    "# divide S by the numbers of rolls\n",
    "\n",
    "S = 0\n",
    "for i in range(len(rolls1)):\n",
    "    S = S + rolls1[i] + rolls2[i]\n",
    "print(S)\n",
    "print(S/len(rolls1))\n",
    "\n",
    "# below an alternative for answering the question, using the builtin function sum()\n",
    "print((sum(rolls1) + sum(rolls2))/len(rolls1))\n"
   ]
  },
  {
   "cell_type": "markdown",
   "metadata": {},
   "source": [
    "## Ex 2\n",
    "\n",
    "Write a program that removes from a homogeneous list (which can be sorted) the elements that are replicated, by keeping only a unique instance in the final list.  \n"
   ]
  },
  {
   "cell_type": "code",
   "execution_count": 27,
   "metadata": {},
   "outputs": [
    {
     "name": "stdout",
     "output_type": "stream",
     "text": [
      "[2, 4, 5, 6, 2, 6, 7, 6]\n",
      "[4, 5, 2, 7, 6]\n",
      "[2, 2, 4, 5, 6, 6, 6, 7]\n",
      "[2, 4, 5, 6, 7]\n"
     ]
    }
   ],
   "source": [
    "inl = [2,4,5,6,2,6,7,6]\n",
    "print(inl)\n",
    "\n",
    "# FIRST ALTERNATIVE SOLUTION WITHOUT SORTING\n",
    "i = 0\n",
    "while i < len(inl)-1:\n",
    "    if inl[i] in inl[i+1:]:\n",
    "        del inl[i] #  I deleated, so I don't increment i\n",
    "    else:\n",
    "        i = i + 1\n",
    "print(inl)\n",
    "      \n",
    "    \n",
    "# SECOND ALTERNATIVE SOLUTION WITH SORTING  \n",
    "inl = [2,4,5,6,2,6,7,6]\n",
    "\n",
    "inl.sort()\n",
    "print(inl)\n",
    "\n",
    "i = 0\n",
    "while i < len(inl)-1:\n",
    "    if inl[i] == inl[i+1]:   # pos i is the same as pos i+1\n",
    "        del inl[i] #  I deleated, so I don't increment i\n",
    "    else:\n",
    "        i = i + 1\n",
    "\n",
    "print(inl)"
   ]
  },
  {
   "cell_type": "markdown",
   "metadata": {},
   "source": [
    "## Ex 3\n",
    "\n",
    "Write a function that given a number **n**, print **n** lines as follows:\n",
    "\n",
    "\n",
    "```python\n",
    "1 *\n",
    "2 ++\n",
    "4 ***\n",
    "8 ++++\n",
    "16  …\n",
    "```\n",
    "\n"
   ]
  },
  {
   "cell_type": "code",
   "execution_count": 36,
   "metadata": {},
   "outputs": [
    {
     "name": "stdout",
     "output_type": "stream",
     "text": [
      "1 *\n",
      "2 ++\n",
      "4 ***\n",
      "8 ++++\n",
      "16 *****\n",
      "32 ++++++\n",
      "64 *******\n",
      "128 ++++++++\n",
      "256 *********\n",
      "512 ++++++++++\n",
      "1024 ***********\n",
      "2048 ++++++++++++\n"
     ]
    }
   ],
   "source": [
    "# the series 1,2,4,8,16 ...     2**0, 2**1, 2**2, .....  ===>  2**i\n",
    "# the other series corresponds to =>  1,2,3,4,..... repetitions of a character\n",
    "# if you need to generate a string \"*****\"    <====    5 * \"*\" <=== 5 repetitions of string \"*\"\n",
    "\n",
    "\n",
    "n = 12\n",
    "for i in range(n):\n",
    "    if (i+1) % 2 == 0:   # even\n",
    "        print(2**i, (i+1) * \"+\")\n",
    "    else:   # odd\n",
    "        print(2**i, (i+1) * \"*\")\n",
    "        "
   ]
  },
  {
   "cell_type": "markdown",
   "metadata": {},
   "source": [
    "## Ex 4\n",
    "\n",
    "Given a list:\n",
    "\n",
    "```python\n",
    "  months = ['Gen', 'Feb', 'Mar', 'Apr', 'May', 'Jun', 'Jul', \n",
    "            'Aug', 'Sep', 'Oct', 'Nov', 'Dec']\n",
    "```\n",
    "\n",
    "write a program that inserts the pairs `(1,'Gen')`, `(2,'Feb')`, etc. into a dictionary `dict`. \n",
    "\n",
    "Write a function that takes a list of 3 integers representing a date, for example `[25, 7, 2018]`, and the previous dictionary `dict`, and returns a string like the following `'25-Jul-2018'`.\n",
    "\n"
   ]
  },
  {
   "cell_type": "code",
   "execution_count": 82,
   "metadata": {},
   "outputs": [
    {
     "name": "stdout",
     "output_type": "stream",
     "text": [
      "{1: 'Gen', 2: 'Feb', 3: 'Mar', 4: 'Apr', 5: 'May', 6: 'Jun', 7: 'Jul', 8: 'Aug', 9: 'Sep', 10: 'Oct', 11: 'Nov', 12: 'Dec'}\n",
      "25-Jul-2018\n",
      "25-Dec-2019\n"
     ]
    }
   ],
   "source": [
    "months = ['Gen', 'Feb', 'Mar', 'Apr', 'May', 'Jun', 'Jul', \n",
    "            'Aug', 'Sep', 'Oct', 'Nov', 'Dec']\n",
    "\n",
    "# scan the list months, and for each element insert (i, elem) in the dictionary\n",
    "dict = {}\n",
    "for i in range(len(months)):\n",
    "    # insert in dict:    (i+1, month[i])\n",
    "    dict[i+1] = months[i]\n",
    "print(dict)\n",
    "\n",
    "def date_transform(l3, num2str):\n",
    "    # suppose that l3 is, for example:   [25, 7, 2018]\n",
    "    new_date = str(l3[0]) + \"-\" + num2str[l3[1]] + \"-\" + str(l3[2])\n",
    "    return new_date\n",
    "\n",
    "print(date_transform([25,7,2018], dict))\n",
    "print(date_transform([25,12,2019], dict))\n",
    "  \n",
    "    "
   ]
  },
  {
   "cell_type": "markdown",
   "metadata": {},
   "source": [
    "## Ex 5\n",
    "\n",
    "A **3x3** matrix of integers can be represented as a list of lists as follows:\n",
    "```python\n",
    "   list = [ [3,4,5],  [8,9,10],  [0,2,-1] ]\n",
    "```\n",
    "Write a function `sum_matrix(lst_of_lst)` that scans an input matrix **NxM** (i.e., a list of lists), and prepares and returns a list of sum values, namely an integer sum for each row. \n",
    "The result for the above example should be: `[12,27,1]`.\n",
    "\n",
    "**Try to solve by summing by column rather than by row ....**"
   ]
  },
  {
   "cell_type": "code",
   "execution_count": 48,
   "metadata": {},
   "outputs": [
    {
     "name": "stdout",
     "output_type": "stream",
     "text": [
      "[12, 27, 1]\n"
     ]
    }
   ],
   "source": [
    "list = [ [3,4,5],  [8,9,10],  [0,2,-1] ]\n",
    "\n",
    "\n",
    "def sum_matrix(lst_of_lst):\n",
    "    finall = []\n",
    "    for sublist in lst_of_lst:\n",
    "        s = sum(sublist)\n",
    "        # print(s)\n",
    "        finall.append(s)\n",
    "    return finall\n",
    "\n",
    "print(sum_matrix(list))"
   ]
  },
  {
   "cell_type": "markdown",
   "metadata": {},
   "source": [
    "## Ex 6\n",
    "\n",
    "Write the Python function `wlen(lst_w)` that takes a list of words and returns the length of the longest one.    \n",
    "\n",
    "Modify the program to return the tuple `(len_word, word)`, i.e., the longest word along with its length. "
   ]
  },
  {
   "cell_type": "code",
   "execution_count": 72,
   "metadata": {},
   "outputs": [
    {
     "name": "stdout",
     "output_type": "stream",
     "text": [
      "9\n",
      "(9, 'ysysysysy')\n"
     ]
    }
   ],
   "source": [
    "l = [\"awe\", \"tttt\", \"tata\", \"ysysysysy\", \"ahhhhh\"]\n",
    "\n",
    "# simply return the maximum len\n",
    "def wlen(lst_w):\n",
    "    m = len(lst_w[0])\n",
    "    for w in lst_w[1:]:\n",
    "        if len(w) > m:\n",
    "            m = len(w)\n",
    "    return m\n",
    "            \n",
    "print(wlen(l))\n",
    "    \n",
    "    \n",
    "    \n",
    "# return the maximum len along with the string\n",
    "def wlen1(lst_w):\n",
    "    pos_m = 0\n",
    "    m = len(lst_w[0])\n",
    "    \n",
    "    for i in range(1, len(lst_w)):\n",
    "        if len(lst_w[i]) > m:\n",
    "            m = len(lst_w[i])\n",
    "            pos_m = i\n",
    "    return (m, lst_w[pos_m])\n",
    " \n",
    "print(wlen1(l))\n",
    "    "
   ]
  },
  {
   "cell_type": "markdown",
   "metadata": {},
   "source": [
    "## Ex 7\n",
    "\n",
    "Define two functions `mean(list)` and `median(list)` that receive as input a list of numbers and return the mean (average value) or the median (the middle value in the sorted list), respectively.  \n",
    "Lists can be sorted in ascending order by method `list.sort()`. \n",
    "\n",
    "We can have `len(list)` that is even or odd. \n"
   ]
  },
  {
   "cell_type": "code",
   "execution_count": 83,
   "metadata": {},
   "outputs": [
    {
     "name": "stdout",
     "output_type": "stream",
     "text": [
      "mean: 5.142857142857143\n",
      "mean: None\n",
      "sorted list: [1, 3, 4, 5, 6, 8, 9]\n",
      "median: 5\n",
      "sorted list: [0, 1, 2, 4, 5, 9]\n",
      "median: 3.0\n",
      "sorted list: [1]\n",
      "median: 1\n",
      "sorted list: [1, 2]\n",
      "median: 1.5\n",
      "sorted list: [1, 3, 8]\n",
      "median: 3\n",
      "median: None\n"
     ]
    }
   ],
   "source": [
    "\n",
    "def mean(l):\n",
    "    if len(l) == 0:\n",
    "        return\n",
    "    return sum(l)/len(l)\n",
    "\n",
    "def median(l):\n",
    "    if len(l) == 0:\n",
    "        return\n",
    "    \n",
    "    l1 = l.copy() # create a copy of the list, before sorting\n",
    "    l1.sort()     # sort the local copy, and then use this copy\n",
    "    print(\"sorted list:\", l1)\n",
    "    i = len(l1) // 2\n",
    "    if len(l1) % 2 == 1:    # the len is odd\n",
    "        return(l1[i])\n",
    "    else:                   # the len is even, so the meadian if the mean of the two central elements\n",
    "        return( (l1[i-1]+l1[i]) / 2)\n",
    "\n",
    "    \n",
    "    \n",
    "a = [9,8,1,3,4,5,6]\n",
    "b = [2,4,5,9,1,0]\n",
    "\n",
    "c = [1]\n",
    "d = [2,1]\n",
    "e = [3,1,8]\n",
    "\n",
    "f = []\n",
    "    \n",
    "print(\"mean:\", mean(a))\n",
    "print(\"mean:\", mean(f))  # empty list\n",
    "\n",
    "print(\"median:\", median(a))  # len(a) is odd\n",
    "print(\"median:\", median(b))  # len(b) is even \n",
    "\n",
    "\n",
    "print(\"median:\", median(c))  # limit case len = 1\n",
    "print(\"median:\", median(d))  # limit case len = 2\n",
    "print(\"median:\", median(e))  # limit case len = 3\n",
    "\n",
    "print(\"median:\", median(f))  # empty list\n",
    "\n"
   ]
  },
  {
   "cell_type": "markdown",
   "metadata": {},
   "source": [
    "## Ex 8\n",
    "\n",
    "Invert the following dictionary:\n",
    "\n",
    "```python\n",
    "   d = {'a':10, 'b':10, 'c':3, 'd':3, 'e':2}\n",
    "```\n",
    "\n",
    "thus producing:\n",
    "\n",
    "```python\n",
    "   d_out = {10: ['a', 'b'], 3: ['c','d'], 2:['e']}\n",
    "```\n"
   ]
  },
  {
   "cell_type": "code",
   "execution_count": 10,
   "metadata": {},
   "outputs": [
    {
     "name": "stdout",
     "output_type": "stream",
     "text": [
      "d 3\n",
      "c 3\n",
      "a 10\n",
      "b 10\n",
      "e 2\n",
      "{10: ['a', 'b'], 3: ['d', 'c'], 2: ['e']}\n"
     ]
    }
   ],
   "source": [
    "# we have to scan dictionary d\n",
    "# for each (k,v), and specifically v, check if v is a KEY in dictionary d_out\n",
    "# if NO add (v, [k])\n",
    "# if YES append k to the list associated with v within d_out\n",
    "\n",
    "d = {'a':10, 'b':10, 'c':3, 'd':3, 'e':2}\n",
    "d_out = {}\n",
    "\n",
    "for k in d:\n",
    "    v = d[k]\n",
    "    print(k, v) # this is the pair (k,v)\n",
    "    if v not in d_out:   # check if v is a KEY in dictionary d_out\n",
    "        d_out[v] = [k]     # if NO add (v, [k])\n",
    "    else:  \n",
    "        d_out[v].append(k) # [....., k] # if YES append k to the list associated with v \n",
    "                                       # within d_out\n",
    "\n",
    "print(d_out)"
   ]
  },
  {
   "cell_type": "code",
   "execution_count": null,
   "metadata": {},
   "outputs": [],
   "source": []
  }
 ],
 "metadata": {
  "kernelspec": {
   "display_name": "Python 3",
   "language": "python",
   "name": "python3"
  },
  "language_info": {
   "codemirror_mode": {
    "name": "ipython",
    "version": 3
   },
   "file_extension": ".py",
   "mimetype": "text/x-python",
   "name": "python",
   "nbconvert_exporter": "python",
   "pygments_lexer": "ipython3",
   "version": "3.5.2"
  },
  "varInspector": {
   "cols": {
    "lenName": 16,
    "lenType": 16,
    "lenVar": 40
   },
   "kernels_config": {
    "python": {
     "delete_cmd_postfix": "",
     "delete_cmd_prefix": "del ",
     "library": "var_list.py",
     "varRefreshCmd": "print(var_dic_list())"
    },
    "r": {
     "delete_cmd_postfix": ") ",
     "delete_cmd_prefix": "rm(",
     "library": "var_list.r",
     "varRefreshCmd": "cat(var_dic_list()) "
    }
   },
   "types_to_exclude": [
    "module",
    "function",
    "builtin_function_or_method",
    "instance",
    "_Feature"
   ],
   "window_display": false
  }
 },
 "nbformat": 4,
 "nbformat_minor": 2
}
