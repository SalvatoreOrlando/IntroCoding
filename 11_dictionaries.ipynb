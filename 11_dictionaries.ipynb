{
 "cells": [
  {
   "cell_type": "markdown",
   "metadata": {},
   "source": [
    "# Dictionaries\n",
    "\n",
    "In Python there is another important built-in type, called **dictionary**. \n",
    "\n",
    "We can think of a dictionary as a more general list, where the indices can be (almost) any type, not only ```int``` types.\n",
    "\n",
    "A dictionary contains a collection of (**key-value pair**). More specifically:\n",
    "\n",
    "1. a collection of *distinct* indices, which are called **keys**;\n",
    "2. a collection of **values**, where each key is associated with a single value .\n",
    "\n",
    "In mathematical language, a dictionary represents a mapping  $keys \\rightarrow values$, so you\n",
    "can also say that “each key maps to a value”. \n",
    "\n",
    "As an example, we can build a dictionary that\n",
    "maps from English to Italian words, so the keys and the values are all strings.\n",
    "\n"
   ]
  },
  {
   "cell_type": "code",
   "execution_count": 7,
   "metadata": {},
   "outputs": [
    {
     "name": "stdout",
     "output_type": "stream",
     "text": [
      "{'two': 'due', 'one': 'uno'}\n",
      "uno\n",
      "due\n",
      "tre\n",
      "uno\n",
      "due\n",
      "tre\n",
      "******************\n",
      "two --> due\n",
      "one --> uno\n",
      "three --> tre\n",
      "******************\n",
      "{'two': 'due', 'one': 'uno', 'three': 'tre'}\n"
     ]
    }
   ],
   "source": [
    "eng2ita = {}              # empty dictionary   \n",
    "\n",
    "eng2ita['one'] = 'uno'    # this statement add a pair\n",
    "eng2ita['two'] = 'due'    # this statement add a pair\n",
    "\n",
    "print(eng2ita)\n",
    "\n",
    "\n",
    "l = ['uno', 'due', 'tre'] \n",
    "for el in l:\n",
    "    print(el)\n",
    "\n",
    "for i in range(len(l)):\n",
    "    print(l[i])\n",
    "\n",
    "\n",
    "print('******************')\n",
    "eng2ita = {'one' : 'uno',  'two' : 'due', 'three' : 'tre'} # initialize with 3 key-value pairs\n",
    "for k in eng2ita:  # scan a dictionary for keys\n",
    "    print(k, \"-->\", eng2ita[k])\n",
    "print('******************')\n",
    "print(eng2ita)\n",
    "\n"
   ]
  },
  {
   "cell_type": "markdown",
   "metadata": {},
   "source": [
    "The ```len()``` function works on dictionaries too, and returns the number of key-value pairs.\n",
    "\n",
    "Also the operator ```del```  works on dictionaries.\n",
    "\n",
    "The ```in``` operator works on dictionaries too, and tells us whether something appears as a *key*\n",
    "in the dictionary.\n",
    "\n",
    "To see whether something appears as a *value* in a dictionary, you can use the method ```.values()```  which returns a collection of values, and then use the ```in``` operator.\n",
    "\n",
    "For dictionaries, Python uses a technique called **hashtable** that has a remarkable property:\n",
    "the ```in``` operator takes about the **same amount of time** no matter how many items are\n",
    "in the dictionary. The same doesn't hold for lists, where the search is linear (as in principle a list is not sorted), and thus becomes very expensive on long lists."
   ]
  },
  {
   "cell_type": "code",
   "execution_count": 8,
   "metadata": {},
   "outputs": [
    {
     "name": "stdout",
     "output_type": "stream",
     "text": [
      "3\n",
      "True\n",
      "False\n",
      "dict_values(['due', 'uno', 'tre'])\n",
      "True\n",
      "{'two': 'due', 'three': 'tre'}\n"
     ]
    }
   ],
   "source": [
    "print(len(eng2ita))\n",
    "print('one' in eng2ita)\n",
    "print('uno' in eng2ita)  # 'uno is not found among the keys\n",
    "\n",
    "vals = eng2ita.values()  # return a collection of values, on which you can apply operator in\n",
    "print(vals)\n",
    "print('uno' in vals)     # 'uno' is found among the values \n",
    "\n",
    "if 'one' in eng2ita:\n",
    "    del eng2ita['one']       # remove the element with key 'uno'\n",
    "print(eng2ita)"
   ]
  },
  {
   "cell_type": "markdown",
   "metadata": {},
   "source": [
    "### A dictionary to build a histogram\n",
    "\n",
    "Suppose you are given a string and you want to count how many times each letter appears.\n",
    "Or you have a collection of words, and you want to count how many times each word appears in the collection.\n",
    "\n",
    "You could create a **dictionary** with the *elements to count* as **keys** and *counters* as the corresponding\n",
    "**values**. The first time you see a give elements, add the element to the dictionary, with value equal to 1. After that, you would increment the value of the existing element.\n",
    "\n",
    "An advantage of the **dictionary implementation** is that we\n",
    "don’t have to know ahead of time which element appear in the collection, and we only have to\n",
    "make room for elements that do appear.\n",
    "\n",
    "In the following we thus define a function ```histogram(elems)```, which is a *statistical term* for a collection of counters (or *frequencies*). We then apply the function to the collection of words of the book: *Alice in Wonderland*."
   ]
  },
  {
   "cell_type": "code",
   "execution_count": 11,
   "metadata": {},
   "outputs": [
    {
     "name": "stdout",
     "output_type": "stream",
     "text": [
      "{'dreamy': 1, 'fear': 1, 'hurrying': 1, 'my': 5, 'feel': 1, 'showing': 1, 'possibly': 1, 'close': 2, 'couldnt': 1, 'aloud': 1, 'please': 1, 'leaves': 1, 'truth': 1, 'cake': 1, 'histories': 1, 'back': 2, 'must': 2, 'milk': 1, 'tea-time': 1, 'long': 3, 'do': 9, 'feet': 2, 'burnt': 1, 'sometimes': 2, 'marked': 3, 'waistcoat-pocket': 2, 'label': 1, 'chapter': 1, 'miles': 2, 'to-night': 1, 'while': 1, 'bottle': 4, 'your': 1, 'advice': 1, 'curtseying': 1, 'nervous': 1, 'on': 13, 'catch': 1, 'sitting': 1, 'first': 4, 'considering': 2, 'another': 3, 'box': 2, 'opened': 2, 'buttered': 1, 'beds': 1, 'large': 3, 'hear': 2, 'question': 1, 'wonder': 6, 'end': 2, 'bleeds': 1, 'ears': 2, 'listen': 1, 'person': 1, 'burning': 1, 'thought': 8, 'are': 1, 'worth': 1, 'go': 1, 'well': 6, 'hope': 1, 'longer': 1, 'over': 3, 'happened': 2, 'alice': 25, 'croquet': 1, 'larger': 1, 'up': 12, 'later': 1, 'fell': 4, 'and': 58, 'pretend': 1, 'so': 11, 'let': 1, 'beginning': 1, 'knowledge': 1, 'without': 2, 'falling': 2, 'lit': 1, 'went': 7, 'once': 4, 'looked': 4, 'remember': 3, 'than': 1, 'lovely': 1, 'into': 7, 'felt': 2, 'burn': 1, 'other': 2, 'rabbit-hole': 3, 'brightened': 1, 'reading': 1, 'knelt': 1, 'thing': 2, 'girl': 1, 'should': 2, 'daisy-chain': 1, 'carroll': 1, 'zealand': 1, 'table': 5, 'managed': 1, 'scolded': 1, 'got': 3, 'presently': 1, 'certain': 1, 'was': 51, 'downward': 1, 'white': 2, 'going': 6, 'there': 10, 'nor': 1, 'deep': 2, 'lately': 1, 'near': 1, 'beasts': 1, 'head': 2, 'time': 8, 'cried': 1, 'hoping': 1, 'seen': 3, 'mice': 1, 'them': 3, 'plenty': 1, 'just': 3, 'or': 12, 'shall': 5, 'itself': 1, 'they': 4, 'child': 1, 'lewis': 1, 'began': 3, 'air': 2, 'delight': 1, 'bring': 1, 'bats': 4, 'drop': 1, 'disappointment': 1, 'tried': 5, 'finger': 1, 'by': 6, 'dark': 3, 'hanging': 1, 'peeped': 1, 'lying': 1, 'hurry': 1, 'earnestly': 1, 'pretending': 1, 'tiny': 1, 'labelled': 1, 'impossible': 1, 'pleasure': 1, 'letters': 1, 'pink': 1, 'afterwards': 1, 'led': 1, 'see': 10, 'were': 7, 'own': 2, 'finished': 1, 'rather': 3, 'after': 5, 'corner': 2, 'somebody': 1, 'rabbit': 6, 'legs': 1, 'funny': 1, 'too': 5, 'be': 12, 'glass': 3, 'its': 4, 'poison': 3, 'now': 4, 'get': 6, 'reach': 1, 'daisies': 1, 'wonderland': 1, 'out': 11, 'climb': 1, 'along': 1, 'this': 12, 'few': 2, 'taught': 1, 'curiosity': 1, 'at': 11, 'glad': 1, 'disagree': 1, 'came': 3, 'that': 23, 'down': 23, 'make': 2, 'eat': 5, 'playing': 1, 'day': 1, 'tired': 2, 'would': 7, 'ive': 2, 'open': 1, 'killing': 1, 'it': 57, 'solid': 1, 'empty': 1, 'through': 6, 'why': 2, 'quite': 2, 'rules': 2, 'rat-hole': 1, 'pine-apple': 1, 'shrink': 1, 'twice': 1, 'a': 51, 'anything': 2, 'their': 2, 'ever': 4, 'moment': 4, 'pop': 1, 'centre': 1, 'followed': 1, 'things': 4, 'leave': 1, 'picking': 1, 'doors': 2, 'waited': 1, 'loveliest': 1, 'size': 1, 'flowers': 1, 'fifteen': 1, 'those': 2, 'locks': 1, 'home': 1, 'ask': 2, 'antipathies': 1, 'said': 6, 'usually': 1, 'look': 3, 'mixed': 1, 'deeply': 1, 'best': 1, 'bright': 1, 'ten': 1, 'no': 11, 'tell': 1, 'mouse': 1, 'one': 8, 'ignorant': 1, 'top': 1, 'house': 1, 'paper': 1, 'seemed': 2, 'heads': 1, 'locked': 1, 'earth': 2, 'lost': 1, 'when': 9, 'wild': 1, 'been': 1, 'maps': 1, 'then': 5, 'maam': 1, 'enough': 1, 'lamps': 1, 'left': 1, 'true': 1, 'dear': 3, 'put': 2, 'game': 1, 'hardly': 1, 'did': 3, 'beautifully': 1, 'as': 14, 'fountains': 1, 'slippery': 1, 'watch': 2, 'candle': 3, 'minutes': 1, 'think--': 2, 'further': 1, 'the': 82, 'from': 3, 'decided': 1, 'natural': 1, 'finding': 2, 'asking': 1, 'under': 2, 'wander': 1, 'country': 1, 'happen': 1, 'much': 5, 'next': 1, 'fond': 1, 'who': 1, 'dry': 1, 'lock': 1, 'cats': 4, 'eaten': 1, 'dinahll': 1, 'heap': 1, 'poor': 4, 'use': 5, 'turned': 2, 'walk': 1, 'how': 9, 'late': 2, 'custard': 1, 'before': 5, 'really': 1, 'great': 2, 'side': 1, 'actually': 1, 'passed': 1, 'low': 2, 'nice': 3, 'begin': 1, 'fortunately': 1, 'hot': 2, 'sat': 1, 'still': 2, 'i': 27, 'sooner': 1, 'word': 1, 'jumped': 1, 'had': 19, 'orange': 1, 'dream': 1, 'coming': 1, 'flavour': 1, 'printed': 1, 'curious': 2, 'hung': 1, 'more': 1, 'across': 2, 'however': 3, 'you': 18, 'sound': 1, 'people': 4, 'took': 2, 'hall': 4, 'remarkable': 1, 'thats': 2, 'blown': 1, 'fallen': 1, 'off': 5, 'world': 1, 'found': 7, 'know': 4, 'like': 11, 'waiting': 1, 'sadly': 1, 'itll': 2, 'hedge': 1, 'high': 2, 'what': 10, 'words': 2, 'seldom': 1, 'didnt': 2, 'sister': 2, 'alices': 2, 'adventures': 1, 'field': 1, 'whiskers': 1, 'all': 10, 'drink': 3, 'listening': 1, 'me': 9, 'wish': 2, 'red-hot': 1, 'fitted': 1, 'occurred': 1, 'getting': 3, 'for': 20, 'could': 8, 'started': 1, 'dozing': 1, 'her': 24, 'dipped': 1, 'which': 5, 'conversation': 1, 'having': 3, 'several': 2, 'very': 22, 'if': 8, 'might': 4, 'is': 6, 'walked': 1, 'wind': 1, 'manage': 1, 'golden': 3, 'walking': 1, 'shut': 1, 'turkey': 1, 'unpleasant': 1, 'inches': 2, 'learnt': 1, 'read': 1, 'with': 11, 'somewhere': 2, 'thump': 2, 'again': 4, 'but': 18, 'overhead': 1, 'take': 1, 'stairs': 1, 'two': 2, 'matter': 1, 'eyes': 2, 'hurt': 1, 'hold': 1, 'sharply': 1, 'pegs': 1, 'seem': 1, 'small': 3, 'cupboards': 2, 'some': 1, 'shoulders': 1, 'lessons': 1, 'slowly': 1, 'cheated': 1, 'marmalade': 1, 'an': 2, 'likely': 1, 'middle': 1, 'herself': 12, 'bit': 1, 'little': 14, 'saucer': 1, 'simple': 1, 'whether': 2, 'certainly': 1, 'wondered': 1, 'right': 4, 'australia': 1, 'neck': 1, 'tunnel': 1, 'straight': 1, 'will': 1, 'schoolroom': 1, 'book-shelves': 1, 'book': 3, 'row': 1, 'here': 4, 'afraid': 1, 'round': 3, 'rate': 2, 'miss': 1, 'trouble': 1, 'name': 1, 'cat': 1, 'to': 67, 'saying': 2, 'every': 1, 'trying': 3, 'have': 2, 'indeed': 2, 'in': 25, 'theres': 2, 'curtain': 1, 'doorway': 1, 'about': 8, 'nothing': 6, 'key': 5, 'longed': 1, 'suddenly': 5, '--yes': 1, '--but': 1, 'because': 1, 'wise': 1, 'stupid': 1, 'roast': 1, 'feeling': 1, 'sight': 1, 'cut': 1, 'soon': 3, 'three-legged': 1, 'grand': 1, 'advise': 1, 'friends': 1, 'perhaps': 1, 'tumbling': 1, 'conversations': 1, 'made': 2, 'shelves': 1, 'youre': 1, 'forgotten': 2, 'flame': 1, 'spoke--fancy': 1, 'roof': 1, 'opportunity': 1, 'she': 75, 'answer': 1, 'telescope': 2, 'shutting': 2, 'telescopes': 1, 'plainly': 1, 'any': 4, 'sleepy': 2, 'curtsey': 1, 'way': 5, 'sort': 3, 'good': 3, 'cherry-tart': 1, 'bat': 2, 'only': 2, 'hand': 2, 'wondering': 1, 'out-of-the-way': 1, 'second': 1, 'im': 1, 'distance--but': 1, 'many': 2, 'toffee': 1, 'else': 1, 'making': 1, 'ill': 1, 'poker': 1, 'eye': 1, 'even': 3, 'toast': 1, 'such': 3, 'think': 9, 'among': 2, 'pictures': 3, 'altogether': 1, 'say': 6, 'sticks': 1, 'wouldnt': 1, 'latitude': 2, 'generally': 1, 'alas': 2, 'come': 3, 'crying': 1, 'garden': 3, 'minute': 1, 'saw': 2, 'except': 1, 'behind': 2, 'jar': 2, 'four': 1, 'past': 1, 'against': 1, 'though': 2, 'never': 5, 'gave': 1, 'upon': 4, 'face': 1, 'bank': 1, 'half': 1, 'stopping': 1, 'not': 16, 'filled': 1, 'cool': 1, 'knife': 1, 'ventured': 1, 'ran': 2, 'passage': 3, 'new': 1, 'shell': 1, 'mind': 2, 'almost': 1, 'thousand': 1, 'dinah': 4, 'taste': 1, 'ought': 1, 'of': 39, 'begun': 2, 'brave': 1, 'children': 1, 'theyll': 2, 'remembered': 1, 'practice': 1, 'find': 1, 'away': 1, 'oh': 4, 'respectable': 1, 'fancy': 1, 'noticed': 2, 'severely': 1, 'hurried': 1, 'either': 5, 'tears': 1, 'flashed': 1, 'fact': 1, 'longitude': 2, 'talking': 1, 'written': 1, 'fall': 4, 'idea': 1, 'door': 6, 'sides': 1, 'belong': 1}\n"
     ]
    }
   ],
   "source": [
    "f = open(\"Alice_in_Wonderland_ok.txt\")  # \"r\" is the default mode\n",
    "book_content = f.read()                # single string\n",
    "f.close()\n",
    "\n",
    "book_words = book_content.split()  # list of all words with repetitions \n",
    "\n",
    "def histogram(elems):\n",
    "    \"\"\" \n",
    "        Algorithm to create and return a dictionary <key, value>, where 'key' belong\n",
    "        to the input collection 'elems', and 'value' if the count of how many time \n",
    "        'key' appear in 'elems' (frequency)\n",
    "        \n",
    "        Args:\n",
    "                 elems: a list of elements with replications\n",
    "        Returns:\n",
    "                 the created dictionary\n",
    "    \"\"\"\n",
    "\n",
    "    histo = dict()   # is the same as histo = {}\n",
    "    \n",
    "    # for each e in the list elems\n",
    "    for e in elems:\n",
    "        e = e.lower()\n",
    "        if e in histo:  # check if e was already found and previously inserted\n",
    "            histo[e] = histo[e] + 1 # if YES then update the associated value (+1)\n",
    "        else:\n",
    "            histo[e] = 1   # otherwise introduce a new pair (e:1)\n",
    "    return histo\n",
    "        \n",
    "hist_dict = histogram(book_words[:2000])  # create the histogram\n",
    "print(hist_dict)"
   ]
  },
  {
   "cell_type": "markdown",
   "metadata": {},
   "source": [
    "### Invert the histogram\n",
    "\n",
    "An interesting exercise is to invert the dictionary: for each value identify the list of keys that map to the same value. \n",
    "\n",
    "The following figure illustrates a dictionary along with the inverted dictionary, where the original dictionary maps single characters to integer counts.\n",
    "\n",
    "![Inverted Dictionary](./images/inverted_dict.png)\n",
    "\n",
    "We apply the new function ```def invert_dict(d)``` to the histogram dictionary of all the words of the book: *Alice in Wonderland*. \n",
    "Hence, for each count the interted dictionary identifies a list of words that occur the same number of times.\n",
    "\n",
    "Then we print the most frequent words, with the corresponding counts.\n",
    "\n",
    "Note that in the following we use an alternative method to sort lists. Besides the built-in ```sort()``` method that modifies the list in-place, python also provides the ```sorted()``` built-in function that builds a new sorted list from an iterable, e.g., from a list or a dictionary.\n",
    "\n"
   ]
  },
  {
   "cell_type": "code",
   "execution_count": 5,
   "metadata": {},
   "outputs": [
    {
     "name": "stdout",
     "output_type": "stream",
     "text": [
      "1514 : ['the']\n",
      "772 : ['and']\n",
      "716 : ['to']\n",
      "609 : ['a']\n",
      "498 : ['she']\n",
      "494 : ['of']\n",
      "480 : ['it']\n",
      "453 : ['said']\n",
      "396 : ['I']\n",
      "385 : ['Alice']\n",
      "353 : ['in']\n",
      "352 : ['was']\n",
      "307 : ['you']\n",
      "256 : ['that']\n",
      "245 : ['as']\n",
      "243 : ['her']\n",
      "199 : ['at']\n",
      "189 : ['on']\n",
      "177 : ['had']\n",
      "175 : ['with']\n",
      "171 : ['all']\n",
      "144 : ['be']\n",
      "139 : ['for']\n",
      "128 : ['not']\n",
      "126 : ['very', 'but']\n",
      "124 : ['little']\n",
      "121 : ['so']\n",
      "112 : ['out']\n",
      "111 : ['this']\n",
      "107 : ['The', 'they']\n",
      "98 : ['down']\n",
      "97 : ['he']\n",
      "96 : ['up']\n",
      "94 : ['his', 'about']\n",
      "91 : ['one']\n",
      "90 : ['is', 'what']\n",
      "89 : ['its']\n",
      "87 : ['were']\n",
      "84 : ['like']\n",
      "83 : ['them', 'herself', 'went']\n"
     ]
    }
   ],
   "source": [
    "def invert_dict(d):\n",
    "    \"\"\" \n",
    "        Algorithm to invert the input dictionary 'd', returning a new dictionary.\n",
    "        Each 'key' of the new dictionary is a 'value' of the old one.\n",
    "        Each 'value' of the new dictionary is a list of keys of the old dictionary, each mapping \n",
    "        to the same value (the new key)\n",
    "                \n",
    "        Args:\n",
    "                 d: the old dictionary\n",
    "        Returns:\n",
    "                 the created new inverted dictionary\n",
    "    \"\"\"\n",
    "    inverse = dict() # the new dictionary\n",
    "    for key in d:\n",
    "        val = d[key]\n",
    "        if val not in inverse:\n",
    "            inverse[val] = [key]\n",
    "        else:\n",
    "            inverse[val].append(key)\n",
    "    return inverse\n",
    "\n",
    "\n",
    "inverted = invert_dict(hist_dict)\n",
    "\n",
    "list_vals = []\n",
    "for v in inverted:\n",
    "    list_vals.append(v)\n",
    "list_vals.sort(reverse = True)  # sort in reverse order\n",
    "\n",
    "\n",
    "#list_vals = [v for v in inverted] # alternative 1 to produce the sorted list of keys\n",
    "#list_vals.sort(Reverse = True)\n",
    "\n",
    "\n",
    "#list_vals = sorted(inverted)  # alternative 2 to produce the sorted list of keys\n",
    "\n",
    "for i in list_vals[:40]:  # scan the first 40 most frequent elements\n",
    "        print(i,':',inverted[i])"
   ]
  },
  {
   "cell_type": "markdown",
   "metadata": {},
   "source": [
    "## MATPLOTLIB\n",
    "\n",
    "By using ```matplotlib```, we can plot for each frequency *f* the number of words occurring in the text  *f* times. \n",
    "\n",
    "See many possible examples here [matplotlib](https://matplotlib.org/gallery/index.html).\n"
   ]
  },
  {
   "cell_type": "code",
   "execution_count": 6,
   "metadata": {},
   "outputs": [
    {
     "name": "stdout",
     "output_type": "stream",
     "text": [
      "Len of the list of frequencies:  110\n"
     ]
    },
    {
     "data": {
      "image/png": "[encoded data removed]",
      "text/plain": [
       "<Figure size 432x288 with 1 Axes>"
      ]
     },
     "metadata": {},
     "output_type": "display_data"
    }
   ],
   "source": [
    "#### This is a special command for the jupyter notebook\n",
    "# asking to render plots within the notebook itself\n",
    "# It should be used just one at the beginning of the notebbok\n",
    "%matplotlib inline\n",
    "\n",
    "\n",
    "# This is the way we access to the matplotlib library\n",
    "# The main library name is matplotlib\n",
    "# We need the sub-package pyplot\n",
    "# and we want to refer to it with a friendly alias plt\n",
    "import matplotlib.pyplot as plt\n",
    "\n",
    "list_freq = sorted(inverted)\n",
    "print(\"Len of the list of frequencies: \", len(list_vals))\n",
    "list_num_words = []\n",
    "for  k in list_freq: \n",
    "    list_num_words.append(len(inverted[k]))\n",
    "                   \n",
    "# The simplest plot!\n",
    "# The 1st param is a list with the values for the X axis\n",
    "# The 2nd param is alist with the values for the Y axis\n",
    "# The 3rd param is the type of plot r=red  o=circles -=dash\n",
    "# The 4th param is the label of each (x,y) point\n",
    "plt.plot(list_freq, list_num_words, 'ro-', label = '# words')\n",
    "\n",
    "plt.xlabel(\"Frequency\", fontsize=12)\n",
    "plt.ylabel(\"Number of words\", fontsize=12)\n",
    "plt.title(\"Number of words for each frequency\", fontsize=14)\n",
    "plt.legend( loc='lower right', fontsize=8)\n",
    "\n",
    "plt.show()\n"
   ]
  },
  {
   "cell_type": "markdown",
   "metadata": {},
   "source": [
    "The methods ```.items()```, ```.keys()```, and ```.values()``` returns the list of pairs, keys, and values of a dictionary: "
   ]
  },
  {
   "cell_type": "code",
   "execution_count": 7,
   "metadata": {},
   "outputs": [
    {
     "name": "stdout",
     "output_type": "stream",
     "text": [
      "dict_items([('id2', 'Marco'), ('id1', 'Andrea'), ('id3', 'Luca'), ('id4', 'Giovanni')])\n",
      "<class 'dict_items'>\n",
      "dict_keys(['id2', 'id1', 'id3', 'id4'])\n",
      "<class 'dict_keys'>\n",
      "dict_values(['Marco', 'Andrea', 'Luca', 'Giovanni'])\n",
      "<class 'dict_values'>\n"
     ]
    }
   ],
   "source": [
    "student_data = {\n",
    " 'id1': 'Andrea', \n",
    " 'id2': 'Marco',\n",
    " 'id3': 'Luca',\n",
    " 'id4': 'Giovanni'\n",
    "}\n",
    "\n",
    "print(student_data.items())\n",
    "print(type(student_data.items()))\n",
    "\n",
    "print(student_data.keys())\n",
    "print(type(student_data.keys()))\n",
    "\n",
    "print(student_data.values())\n",
    "print(type(student_data.values()))\n"
   ]
  },
  {
   "cell_type": "markdown",
   "metadata": {
    "collapsed": true
   },
   "source": [
    "## Exercises\n",
    "\n",
    "1. Write a Python function to combine two dictionaries, by adding values for common keys. \n",
    "2. Write a Python program to create a dictionary from a string, where each pair is ```(c, count)``` where ```c``` is a char of the string, and ```count``` registers the number of occurrences of the char in the string.\n",
    "3. Write a function that takes a date in the “dd-MMM-yy” format (a string) and responds with a tuple of integers ```(y, m, d)``` (a tuple in an immutable list). \n",
    "<br/>\n",
    "Create a *dictionary* suitable for decoding month names to numbers. Use the string operations to split the date into 3 items using the “-” character as a separator.\n",
    "Correct the year to include all of the digits (the years goes from 1950 till 2010).\n",
    "\n",
    "\n"
   ]
  },
  {
   "cell_type": "code",
   "execution_count": 18,
   "metadata": {},
   "outputs": [
    {
     "name": "stdout",
     "output_type": "stream",
     "text": [
      "{'1': 6, 'A': 2, 'a': 3}\n",
      "{'C': 0, '6': 0, 'c': 0, '1': 6, '0': 0, '2': 0, '8': 0, '5': 0, '9': 0, 'A': 2, 'b': 0, 'a': 3, 'B': 0, '3': 0, '4': 0, '7': 0}\n",
      "{'eee': [1, 2, 3], 1: 'aaa', 'hhh': 'cscs', 1.2: 34}\n"
     ]
    }
   ],
   "source": [
    "# Write a function that takes a string, and returns the number of \n",
    "# occurrences of each character within a given SET \n",
    "\n",
    "\n",
    "\n",
    "def count_char(s):\n",
    "    printable = \"abcABC12345678910\"\n",
    "    # return a dictionary \n",
    "    # {'A':2, 'a':3, '1':6}   <=====  \"11AaaaA1111\"\n",
    "    count = {}  \n",
    "    for c in s:\n",
    "        if c in printable:\n",
    "            # check if c is already in the count dictionary\n",
    "            if c in count:\n",
    "                count[c] =  count[c] + 1   # TRUE: +1\n",
    "            else:\n",
    "                count[c] = 1               # FALSE: create pair (c:1)\n",
    "    return count\n",
    "\n",
    "\n",
    "def count_char1(s):\n",
    "    printable = \"abcABC12345678910\"\n",
    "    # return a dictionary \n",
    "    # {'A':2, 'a':3, '1':6}   <=====  \"11AaaaA1111\"\n",
    "\n",
    "    count = {} \n",
    "    for c in printable:\n",
    "        count[c] = 0     # {'a':0, 'b':0, 'c':0, 'A':0, ....}\n",
    "        \n",
    "    for c in s:\n",
    "        if c in count:\n",
    "            count[c] =  count[c] + 1 \n",
    "    return count\n",
    "\n",
    "\n",
    "\n",
    "\n",
    "example = \"11AaaaA1111\"\n",
    "print(count_char(example))\n",
    "print(count_char1(example))\n",
    "\n",
    "my_dict = {1:'aaa', 1.2:34, \"hhh\":\"cscs\", \"eee\":[1,2,3]}\n",
    "print(my_dict)\n",
    "\n",
    "    "
   ]
  },
  {
   "cell_type": "code",
   "execution_count": 20,
   "metadata": {},
   "outputs": [
    {
     "name": "stdout",
     "output_type": "stream",
     "text": [
      "{'beer': 1010, 'diaper': 12, 'wine': 110, 'bread': 100}\n"
     ]
    }
   ],
   "source": [
    "# Write a Python function to combine two dictionaries, by adding values for common keys\n",
    "\n",
    "first = {'beer':10, 'wine':100, 'diaper':12}\n",
    "second = {'beer':1000, 'bread':100, 'wine':10}\n",
    "total = {'beer':1010, 'wine':110, 'diaper':12, 'bread':100}\n",
    "\n",
    "def union_multiset(set1, set2):\n",
    "    union = set1\n",
    "    \n",
    "#    for k in set1:\n",
    "#        if k in union:  # if the key k is already present, then increment, otherwise create a new entry in union\n",
    "#            union[k] = union[k] + set1[k]\n",
    "#       else:\n",
    "#            union[k] = set1[k]\n",
    "    for k in set2:\n",
    "        if k in union:  # if the key k is already present, then increment, otherwise create a new entry in union\n",
    "            union[k] = union[k] + set2[k]\n",
    "        else:\n",
    "            union[k] = set2[k]\n",
    "\n",
    "    return union\n",
    "\n",
    "print(union_multiset(first, second))\n",
    "\n"
   ]
  }
 ],
 "metadata": {
  "kernelspec": {
   "display_name": "Python 3",
   "language": "python",
   "name": "python3"
  },
  "language_info": {
   "codemirror_mode": {
    "name": "ipython",
    "version": 3
   },
   "file_extension": ".py",
   "mimetype": "text/x-python",
   "name": "python",
   "nbconvert_exporter": "python",
   "pygments_lexer": "ipython3",
   "version": "3.5.2"
  },
  "varInspector": {
   "cols": {
    "lenName": 16,
    "lenType": 16,
    "lenVar": 40
   },
   "kernels_config": {
    "python": {
     "delete_cmd_postfix": "",
     "delete_cmd_prefix": "del ",
     "library": "var_list.py",
     "varRefreshCmd": "print(var_dic_list())"
    },
    "r": {
     "delete_cmd_postfix": ") ",
     "delete_cmd_prefix": "rm(",
     "library": "var_list.r",
     "varRefreshCmd": "cat(var_dic_list()) "
    }
   },
   "types_to_exclude": [
    "module",
    "function",
    "builtin_function_or_method",
    "instance",
    "_Feature"
   ],
   "window_display": false
  }
 },
 "nbformat": 4,
 "nbformat_minor": 2
}
