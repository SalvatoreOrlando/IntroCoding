{
 "cells": [
  {
   "cell_type": "markdown",
   "metadata": {
    "collapsed": true
   },
   "source": [
    "# Files\n",
    "\n",
    "While a program is running,  data is stored in random access memory (RAM). RAM is **volatile**, and when a program ends, data in RAM disappears. \n",
    "\n",
    "To make data available the next time the computer is turned on and the program is started, it has to be written to a **non-volatile storage medium**, such a hard drive, usb drive, or CD-RW.\n",
    "The non-volatile storage can be also remote, managed a server in the *cloud* accessed remotely using the network.\n",
    "\n",
    "Data on **non-volatile** storage media is stored in **named locations** on the media called **files**. The operating system is in charge of managing these files, and can be invoked from within Python to read/write data. In the following, we discuss the abstractions made available by Python for accessing and managing files.\n",
    "\n",
    "Working with files is like working with a *notebook*. \n",
    "\n",
    "1. To use a notebook, it has to be opened. \n",
    "2. When done, it has to be closed. \n",
    "3. While the notebook is open, it can either be read from or written to.\n",
    "4. Read/Write can occur in natural order or skipping part of the pages."
   ]
  },
  {
   "cell_type": "markdown",
   "metadata": {},
   "source": [
    "## Writing a file \n",
    "\n",
    "Let’s begin with a simple program that writes three lines of text into a file.\n",
    "\n",
    "**Opening a file** creates what we call a **file handle**. In this example, the variable ```myfile``` refers to the new handle object. Our program calls **methods on the handle** (```.write``` and ```.close```) to make changes to the actual file located on the disk.\n",
    "\n",
    "With **\"w\"** we indicate the **opening mode** of the file: \n",
    "1. if there is no file named ```test.txt``` on the disk, it will be created. \n",
    "2. if there already is a file named ```test.txt```, it will be replaced by the file we are writing."
   ]
  },
  {
   "cell_type": "code",
   "execution_count": 2,
   "metadata": {},
   "outputs": [],
   "source": [
    "myfile = open(\"test.txt\", \"w\")  # opening in \"w\" mode\n",
    "\n",
    "myfile.write(\"My first file written from Python\\n\")\n",
    "myfile.write(\"---------------------------------\\n\")\n",
    "myfile.write(\"Hello Salvatore, world!\\n\")\n",
    "\n",
    "myfile.close()                  # close the file"
   ]
  },
  {
   "cell_type": "markdown",
   "metadata": {},
   "source": [
    "## Reading a file line-at-a-time\n",
    "\n",
    "Now that the file exists on our disk, we can open it for reading, and read all the lines\n",
    "in the file, one at a time.  This time, the mode argument is **\"r\"** (reading).\n",
    "\n",
    "We will use the method ```.readline```, which returns everything up to and including the **newline character**. Since the read string already has its own newline, we suppress the **\\n** character that ```print()``` usually appends to our strings.\n",
    "\n",
    "If we tried to open a file that doesn't exist, we should get a run-time error:\n",
    ">  mynewhandle = open(\"wharrah.txt\", \"r\")<br/>\n",
    ">  **FileNotFoundError**: [Errno 2] No such file or directory: \"wharrah.txt\""
   ]
  },
  {
   "cell_type": "code",
   "execution_count": 3,
   "metadata": {},
   "outputs": [
    {
     "name": "stdout",
     "output_type": "stream",
     "text": [
      "My first file written from Python\n",
      "---------------------------------\n",
      "Hello Salvatore, world!\n"
     ]
    }
   ],
   "source": [
    "mynewhandle = open(\"test.txt\", \"r\")\n",
    "\n",
    "while True: # Keep reading forever\n",
    "    theline = mynewhandle.readline() # Try to read next line\n",
    "    if len(theline) == 0: # If there are no more lines\n",
    "        break # leave the loop\n",
    "    # Now process the line we’ve just read\n",
    "    print(theline, end=\"\") # print by suppressing the \\n character\n",
    "\n",
    "mynewhandle.close()"
   ]
  },
  {
   "cell_type": "markdown",
   "metadata": {},
   "source": [
    "## Read a file as a list of lines\n",
    "\n",
    "It is often useful to fetch data from a disk file and turn it into a list of lines. \n",
    "\n",
    "Suppose we have a file containing our friends and their email addresses, one per line in the file. \n",
    "If the file is not sorted, we could read everything into a list of lines (using the file method ```.readlines```), then\n",
    "sort the list (using the list method ```.sort```), and then write the sorted list back to another file:"
   ]
  },
  {
   "cell_type": "code",
   "execution_count": 5,
   "metadata": {},
   "outputs": [
    {
     "name": "stdout",
     "output_type": "stream",
     "text": [
      "*** FILE UNSORTED ***\n",
      "<class 'list'>\n",
      "Salvatore; orlando@unive.it\n",
      "Mario; mario80@gmail.com\n",
      "Andrea; andreaaa@yahoo.com\n",
      "\n",
      "\n",
      "*** FILE SORTED ***\n",
      "Andrea; andreaaa@yahoo.com\n",
      "Mario; mario80@gmail.com\n",
      "Salvatore; orlando@unive.it\n"
     ]
    }
   ],
   "source": [
    "\n",
    "print('*** FILE UNSORTED ***')\n",
    "f = open(\"friends.txt\", \"r\")\n",
    "xs = f.readlines()\n",
    "print(type(xs))\n",
    "for s in xs:\n",
    "    print(s, end='')\n",
    "f.close()\n",
    "\n",
    "xs.sort()\n",
    "\n",
    "g = open(\"sortedfriends.txt\", \"w\")\n",
    "for v in xs:\n",
    "    g.write(v)\n",
    "g.close()\n",
    "\n",
    "\n",
    "print('\\n\\n*** FILE SORTED ***')\n",
    "g = open(\"sortedfriends.txt\", \"r\")\n",
    "line = g.readline()\n",
    "while len(line) != 0:\n",
    "    print(line, end='')\n",
    "    line = g.readline()\n",
    "g.close()"
   ]
  },
  {
   "cell_type": "markdown",
   "metadata": {},
   "source": [
    "## try ... except (Catching exceptions)\n",
    "\n",
    "Things may go wrong when you try to read and write files. \n",
    "If you try to open a file that doesn’t exist, you get an error:\n",
    "\n",
    "```python\n",
    "    fin = open('bad_file')  # default is mode=\"r\"\n",
    "    FileNotFoundError: [Errno 2] No such file or directory: 'bad_file'\n",
    "```\n",
    "\n",
    "You can check the existyence of a file by using functions like `os.path.exists` and `os.path.isfile`. \n",
    "\n",
    "However, it is better to go ahead and try — and deal with problems if they happen — which is exactly\n",
    "what the `try` statement does in combintion with `except`. \n",
    "\n",
    "The syntax is similar to an `if...else` statement, where the `except` branch is taken only if some exceptions are raised in the `try` branch:\n",
    "\n",
    "```python\n",
    "    try:\n",
    "        fin = open('bad_file')\n",
    "    except:\n",
    "        print('Something went wrong.')\n",
    "```\n",
    "\n",
    "Look at the following code box, which checks if a file exists. \n",
    "If it exists, the code prints it line by line, otherwise the file is created.\n",
    "\n",
    "Note also that we show another way to read the lines of a text file: within a `for` loop, by using directly the file handle:\n",
    "\n",
    "```python\n",
    "    for line in file_handle:\n",
    "        ...\n",
    "```"
   ]
  },
  {
   "cell_type": "code",
   "execution_count": 10,
   "metadata": {},
   "outputs": [
    {
     "name": "stdout",
     "output_type": "stream",
     "text": [
      "File opened for reading\n",
      "This is line 0\n",
      "This is line 1\n",
      "This is line 2\n",
      "This is line 3\n",
      "This is line 4\n",
      "This is line 5\n",
      "This is line 6\n",
      "This is line 7\n",
      "This is line 8\n",
      "This is line 9\n",
      "This is line 10\n",
      "This is line 11\n",
      "This is line 12\n",
      "This is line 13\n",
      "This is line 14\n",
      "file closed for reading\n"
     ]
    }
   ],
   "source": [
    "# Example of opening that can cause an exception\n",
    "# try ...  except \n",
    "\n",
    "filename=\"newfile\"\n",
    "try:\n",
    "    file=open(filename,'r')\n",
    "    print(\"File opened for reading\")\n",
    "    for line in file:   # new way to read lines of a text file\n",
    "        print(line, end='')\n",
    "    file.close()\n",
    "    print(\"file closed for reading\")\n",
    "except IOError:\n",
    "    file=open(filename,'w')\n",
    "    print(\"File created\")\n",
    "    for i in range(15):\n",
    "        l = \"This is line \" + str(i) + \"\\n\"\n",
    "        file.write(l)\n",
    "    print(\"write operation done\")\n",
    "    file.close()"
   ]
  },
  {
   "cell_type": "markdown",
   "metadata": {},
   "source": [
    "# Reading a text file as a single string\n",
    "\n",
    "We use this method of processing files if we were not interested in the line structure\n",
    "of the file, or the file doesn't possess a structure with newlines that break the text file in lines.\n",
    "\n",
    "In the following, we open a file in read mode (the default mode), read a single string, and then split the string to produce a list of words. \n",
    "\n"
   ]
  },
  {
   "cell_type": "code",
   "execution_count": 6,
   "metadata": {},
   "outputs": [
    {
     "name": "stdout",
     "output_type": "stream",
     "text": [
      "There are 6 words in the file.\n",
      "['Andrea;', 'andreaaa@yahoo.com', 'Mario;', 'mario80@gmail.com', 'Salvatore;', 'orlando@unive.it']\n",
      "['Andrea', 'andreaaa@yahoo.com', 'Mario', 'mario80@gmail.com', 'Salvatore', 'orlando@unive.it']\n"
     ]
    }
   ],
   "source": [
    "f = open(\"sortedfriends.txt\")  # \"r\" is the default mode\n",
    "content = f.read()             # single string\n",
    "f.close()\n",
    "\n",
    "words = content.split()\n",
    "print(\"There are\", len(words), \"words in the file.\")\n",
    "print(words)                   # print the list obtained after the split\n",
    "\n",
    "# remove ';' from the single words\n",
    "for i in range(len(words)):\n",
    "    words[i] = words[i].replace(';','')  \n",
    "    \n",
    "print(words)                   # print the list obtained after the split\n"
   ]
  },
  {
   "cell_type": "markdown",
   "metadata": {},
   "source": [
    "## Working with binary files\n",
    "\n",
    "Files storing *photos*, *videos*, *zip files*, *executable programs*, etc. are called **binary files**.\n",
    "They are not organized into lines, and cannot be opened with a normal text editor. \n",
    "\n",
    "Since the stream of bytes stored in the file does not store printable characters, if a text editor tries to interpret the file in terms of and ASCII encoding, the result produced is meaningless.\n",
    "\n",
    "For such file, we read/write blocks of raw bytes. \n",
    "In the example, we copy one binary file to another, using as the opening modes **\"rb\"** and **\"wb\"** (binary read/write).\n"
   ]
  },
  {
   "cell_type": "code",
   "execution_count": 7,
   "metadata": {},
   "outputs": [
    {
     "name": "stdout",
     "output_type": "stream",
     "text": [
      "<class 'bytes'>\n"
     ]
    }
   ],
   "source": [
    "f = open(\"sortedfriends.txt\", \"rb\")\n",
    "g = open(\"copied_file.txt\", \"wb\")\n",
    "\n",
    "while True:\n",
    "    buf = f.read(20)  # we read 20 or less bytes at a time\n",
    "    if len(buf) == 0:\n",
    "        break\n",
    "    g.write(buf)\n",
    "\n",
    "print(type(buf))    # note that in this case read() returns a type 'bytes', due to the mode \"rb\"\n",
    "    \n",
    "f.close()\n",
    "g.close()"
   ]
  },
  {
   "cell_type": "markdown",
   "metadata": {},
   "source": [
    "## Other ways to open a file\n",
    "\n",
    "**'a'**\t: Open for appending at the end of the file without truncating it. Creates a new file if it does not exist. All the subsequent writes occurs at the end of the file, by increasing the size of the file.\n",
    "\n",
    "**'+'**: Open a disk file for updating (reading and writing)\n",
    "\n",
    "If we use **'w+'**, we open for reading/writing by truncating the file to 0 bytes. \n",
    "If we **'r+'**, we open for reading/writing without truncation.\n",
    "\n",
    "## Fetching a file from the Web\n",
    "\n",
    "Python includes modules (libraries of functions) to do almost everythings. There is a simple module to download Web pages, and eventually store on the local disk.\n",
    "\n",
    "```python\n",
    "             import urllib.request\n",
    "```\n"
   ]
  },
  {
   "cell_type": "code",
   "execution_count": 8,
   "metadata": {},
   "outputs": [
    {
     "data": {
      "text/plain": [
       "('local.htm', <http.client.HTTPMessage at 0x7f29ec18ce10>)"
      ]
     },
     "execution_count": 8,
     "metadata": {},
     "output_type": "execute_result"
    }
   ],
   "source": [
    "import urllib.request\n",
    "\n",
    "url = \"http://finanza.repubblica.it/BorsaItalia/Azioni\"\n",
    "destination_filename = \"local.htm\"\n",
    "\n",
    "urllib.request.urlretrieve(url, destination_filename)"
   ]
  },
  {
   "cell_type": "markdown",
   "metadata": {},
   "source": [
    "We can also open the url (Uniform Resource Locator) of the page, and read like a file."
   ]
  },
  {
   "cell_type": "code",
   "execution_count": 9,
   "metadata": {},
   "outputs": [
    {
     "name": "stdout",
     "output_type": "stream",
     "text": [
      "b'\\r\\n\\r\\n<!DOCTYPE html>\\r\\n\\r\\n<html xmlns=\"http://www.w3.org/1999/xhtml\" class=\"no-js\" lang=\"it\">\\r\\n<head><meta http-equiv=\"Content-Type\" content=\"text/html; charset=UTF-8\" /><title>\\r\\n\\tLa borsa italiana dalla A alla Z - Economia e Finanza - Repubblica.it\\r\\n</title><meta name=\"viewport\" content=\"width=1024\" /><link rel=\"dns-prefetch\" href=\"//www.repstatic.it\" /><link rel=\"dns-prefetch\" href=\"//oasjs.repubblica.it\" /><link rel=\"dns-prefetch\" href=\"//oasjs.kataweb.it\" /><link rel=\"dns-prefetch\" href=\"//data'\n"
     ]
    }
   ],
   "source": [
    "import urllib.request\n",
    "\n",
    "url = \"http://finanza.repubblica.it/BorsaItalia/Azioni\"\n",
    "\n",
    "f = urllib.request.urlopen(url)\n",
    "str_all = f.read(500) # read the first 500 characters\n",
    "f.close()\n",
    "\n",
    "print(str_all)"
   ]
  },
  {
   "cell_type": "markdown",
   "metadata": {},
   "source": [
    "## Exercises\n",
    "\n",
    "1. Write a program that reads a file and writes out a new file with the lines in reversed order (i.e. the first line in the old file becomes the last one in the new file.)\n",
    "2. Write a program that reads a text file and produces an output file which is a copy of the input text file, except for the first five columns of each line, which have to contain a four digit line number, followed by a space. Start numbering the first line in the output file at 1. Ensure that every line number is formatted to the same width in the output file. <br/>\n",
    "*Hint: to print a string that contains an integer formatted to 4 digits (padded with leading 0's), use the followint syntax:  \"{0:04d}.format(number)\"*\n"
   ]
  },
  {
   "cell_type": "code",
   "execution_count": null,
   "metadata": {},
   "outputs": [],
   "source": [
    "# Ex 1"
   ]
  },
  {
   "cell_type": "code",
   "execution_count": 2,
   "metadata": {},
   "outputs": [
    {
     "name": "stdout",
     "output_type": "stream",
     "text": [
      "0034 bla bla bla\n"
     ]
    }
   ],
   "source": [
    "# Ex 2\n",
    "\n",
    "line = \"bla bla bla\"\n",
    "line = \"{0:04d} \".format(34)  + line   # add 0034 at the beginning of the line\n",
    "print(line)\n",
    "\n",
    "\n",
    "    \n"
   ]
  }
 ],
 "metadata": {
  "kernelspec": {
   "display_name": "Python 3",
   "language": "python",
   "name": "python3"
  },
  "language_info": {
   "codemirror_mode": {
    "name": "ipython",
    "version": 3
   },
   "file_extension": ".py",
   "mimetype": "text/x-python",
   "name": "python",
   "nbconvert_exporter": "python",
   "pygments_lexer": "ipython3",
   "version": "3.5.2"
  }
 },
 "nbformat": 4,
 "nbformat_minor": 2
}
