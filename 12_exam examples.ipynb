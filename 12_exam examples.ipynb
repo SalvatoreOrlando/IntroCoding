{
 "cells": [
  {
   "cell_type": "markdown",
   "metadata": {},
   "source": [
    "# Some questions\n",
    "\n",
    "In the following we discuss some simple questions and exercises.\n",
    "\n",
    "1. Find a numerical binary encoding (that minimizes the number of bits used) of the following list of judgements: <ul>\n",
    "<li>'very low' \n",
    "<li>'low' \n",
    "<li>'medium'\n",
    "<li>'high'\n",
    "<li>'very high'\n",
    "</ul>\n",
    "We aim at maintaning the judgement ordering in the encoding.\n",
    "\n",
    "2. How many characters can be represented in 1 GB (Giga Bytes)?\n",
    "\n",
    "3. What is the value of a digit, represented in positional notation in base $B$ as a sequence of 5 symbols: $d_4 d_3 d_2 d_1 d_0$?\n",
    "\n",
    "4. What is the value of the binary digit $101011$?\n",
    "\n",
    "5. Why programming languages are *formal languages*?\n",
    "\n",
    "6. What is the main difference among high-level language, assembly language, and machine language? Relate the answer to the the concept of abstraction. \n",
    "\n",
    "7. What is the *control flow* of a program. For example, what does it happen when an `if` statement is executed, or a *function* is called.\n",
    " \n",
    "8. The process of *digitization* requires to *discretise* a signal (analog signal sampled at regular time intervals) and to *quantise* (samples transformed into a fixed set of numbers of a given length). Why we can loose quality when we digitise an analog signal?\n"
   ]
  },
  {
   "cell_type": "markdown",
   "metadata": {},
   "source": [
    "## Exercise 1\n",
    "\n",
    "Compare the behaviour of the two programs below, and explain what are the possible output on the screen (make hypotheses on the possible input):\n",
    "\n",
    "```python\n",
    "      # program 1\n",
    "      v1 = input('Give me the 1st number: ')    # input a string composed of chars 1,...,9,0\n",
    "      v2 = input('Give me the 2nd number: ')    # input a string composed of chars 1,...,9,0\n",
    "      v_out = v1 + v2\n",
    "      print(v_out)\n",
    "```\n",
    "\n",
    "\n",
    "```python\n",
    "      # progran 2\n",
    "      v1 = input('Give me the 1st number: ')    # input a string composed of chars 1,...,9,0\n",
    "      v2 = input('Give me the 2nd number: ')    # input a string composed of chars 1,...,9,0\n",
    "      v1 = int(v1)\n",
    "      v2 = int(v2)\n",
    "      v_out = v1 + v2\n",
    "      print(v_out)\n",
    "```"
   ]
  },
  {
   "cell_type": "markdown",
   "metadata": {},
   "source": [
    "## Exercises 2\n",
    "\n",
    "Given a list referenced by a variable `var_l`, \n",
    "the list method `var_l.insert(i, x)` inserts an item `x` at a given position `i`, increasing the length of the list by one. The first argument `i` is thus the index of the (old) element before which to insert  `x`. Note that `var_l.insert(len(var_l), x)` is equivalent to appending `x` to the end of the list `var_l`.\n",
    "\n",
    "We have to write a function that inserts a number in a list of integers, sorted in ascending ordering, by keeping the list sorted. \n",
    "For example, given a list `[1,4,7,9]`, if we insert `8` the list becomes `[1,4,7,8,9]` (**'8' inserted in position 3**), and if we insert `4`, the list becomes `[1,4,4,7,8,9]` (**'4'  inserted in position 2**).\n",
    "\n",
    "Comment and complete the following function (by specifying the *test* of the `if` statement nested in the `for`). In which case does the control arrive at executing the statement at line 7? \n",
    "\n",
    "```python\n",
    "1. def insert_sorted(x, var_l):\n",
    "2.     for i in range(len(var_l)):\n",
    "3.        if ............. :\n",
    "4.             var_l.insert(i, x)\n",
    "5.             print('inserted in pos ', i)\n",
    "6.             return\n",
    "7.     var_l.append(x) # the list is extended by appendig x at the end\n",
    "8.     print('inserted at the end of the list')\n",
    "9.     return\n",
    "```\n",
    "\n"
   ]
  },
  {
   "cell_type": "code",
   "execution_count": null,
   "metadata": {},
   "outputs": [],
   "source": []
  },
  {
   "cell_type": "markdown",
   "metadata": {},
   "source": [
    "## Exercise 3\n",
    "\n",
    "Given the following program, discuss what it computes and finally, *by commenting line by line*,  detail how the control flows on the program statements.\n",
    "\n",
    "How should the program change if the for statement was: `for i in range(len(v)):`\n",
    "```python\n",
    "v = [4, 8, 25, 1]\n",
    "m = v[0]\n",
    "for el in v:\n",
    "    if el > m:\n",
    "         m = el\n",
    "print(m)\n",
    "```\n"
   ]
  },
  {
   "cell_type": "code",
   "execution_count": null,
   "metadata": {},
   "outputs": [],
   "source": []
  },
  {
   "cell_type": "markdown",
   "metadata": {},
   "source": [
    "## Exercise 4\n",
    "\n",
    "Given the following code, trace the execution step by step (showing the values assumed by the variables involved per line executed), and determine why the code does not work (generating an error at run time).\n",
    "\n",
    "Modify the code, and determine the last value taken by variable `a`:\n",
    "\n",
    "```python\n",
    "1. l = ['1', '2', '3', '4']\n",
    "2. i = 0\n",
    "3. s = 0\n",
    "4. while i <= len(l):\n",
    "5.     v = int(l[i])\n",
    "6.     s = s + v\n",
    "7.     i = i + 1\n",
    "8. a = s/len(l)\n",
    "```\n",
    "\n",
    "\n"
   ]
  },
  {
   "cell_type": "code",
   "execution_count": null,
   "metadata": {},
   "outputs": [],
   "source": []
  },
  {
   "cell_type": "markdown",
   "metadata": {},
   "source": [
    "## Exercise 5\n",
    "\n",
    "3.\tDiscuss the execution of the following program (showing the values assumed by the variables involved): \n",
    "```python\n",
    "        cnt = 0\n",
    "        sum = 0\n",
    "        for i in range(6):\n",
    "            if (i+1)%2 == 1:\n",
    "                sum = sum + (i+1)\n",
    "                cnt += 1\n",
    "\n",
    "        for j in range(7):         \n",
    "            if j%2 == 0:\n",
    "                cnt +=1\n",
    "                sum += j\n",
    "        print(cnt, sum)\n",
    "```"
   ]
  },
  {
   "cell_type": "code",
   "execution_count": 3,
   "metadata": {},
   "outputs": [
    {
     "name": "stdout",
     "output_type": "stream",
     "text": [
      "3 9\n",
      "7 21\n"
     ]
    }
   ],
   "source": [
    "cnt = 0\n",
    "sum = 0\n",
    "for i in range(6):\n",
    "  if (i+1)%2 == 1:\n",
    "      sum = sum + (i+1)\n",
    "      cnt += 1\n",
    "print(cnt, sum)\n",
    "\n",
    "for j in range(7):         \n",
    "  if j%2 == 0:\n",
    "      cnt +=1\n",
    "      sum = sum + j\n",
    "print(cnt, sum)"
   ]
  },
  {
   "cell_type": "markdown",
   "metadata": {},
   "source": [
    "## Exercise 6\n",
    "\n",
    "Write a function that given a positive integer **N**, returns the largest positive integer  **x**  such that  **x<sup>3</sup> <N**.\n"
   ]
  },
  {
   "cell_type": "code",
   "execution_count": null,
   "metadata": {},
   "outputs": [],
   "source": [
    "def ex6(N):\n",
    "    for x in range(N):\n",
    "        if not (x**3 < N):\n",
    "            break\n",
    "    return x-1\n",
    "\n",
    "\n",
    "def ex6_1(N):\n",
    "    x = N ** (1/3)\n",
    "    print(type(x))\n",
    "    x = int(x)\n",
    "    print(type(x))\n",
    "    return x\n",
    "    \n",
    "    \n",
    "\n",
    "print(ex6_1(200))"
   ]
  },
  {
   "cell_type": "markdown",
   "metadata": {},
   "source": [
    "## Exercise 7\n",
    "\n",
    "Write a function that, given a list of integers sorted in decreasing order, and an element to search, locate the element returning the position if found, or -1 otherwise.\n"
   ]
  },
  {
   "cell_type": "code",
   "execution_count": null,
   "metadata": {},
   "outputs": [],
   "source": [
    "l = [10, 7, 7, 7, 7, 7, 6, 4, 3, 2, 1]\n",
    "\n",
    "def cerca(ll, el):\n",
    "    if el in ll:\n",
    "        return ll.index(el)\n",
    "    else:\n",
    "        return -1\n",
    "\n",
    "    \n",
    "def cerca1(ll, el):\n",
    "    for i in range(len(ll)):\n",
    "        if el == ll[i]:\n",
    "            return i\n",
    "    return -1\n",
    "\n",
    "\n",
    "def cerca_bin(ll, el):\n",
    "    lb = 0\n",
    "    ub = len(ll)\n",
    "    while True:\n",
    "        if ub == lb:\n",
    "            return -1\n",
    "        mid = (ub+lb)//2\n",
    "        if ll[mid] == el:\n",
    "            i = mid\n",
    "            while i >= 0:\n",
    "                if ll[i] == el:\n",
    "                    i = i-1\n",
    "                else:\n",
    "                    break\n",
    "            return i+1\n",
    "            #return mid\n",
    "        \n",
    "        if el < ll[mid]:\n",
    "            #vado a destra, ord decrescente\n",
    "            lb = mid+1\n",
    "        else:  # el > ll[mid]\n",
    "            #vado a sinistra, ord decrescente\n",
    "            ub = mid\n",
    "\n",
    "    \n",
    "\n",
    "print(\"el =\", 4, \" : \", cerca_bin(l, 4))\n",
    "print(\"el =\", 3, \" : \", cerca_bin(l, 3))\n",
    "print(\"el =\", 11, \" : \", cerca_bin(l,11))\n",
    "print(\"el =\", 7, \" : \", cerca_bin(l,7))\n",
    "\n",
    "    \n"
   ]
  },
  {
   "cell_type": "code",
   "execution_count": null,
   "metadata": {},
   "outputs": [],
   "source": [
    "\n",
    "def bin_s(l, x):\n",
    "    lb = 0\n",
    "    ub = len(l)\n",
    "    while True:\n",
    "        if lb == ub:\n",
    "            return -1\n",
    "        mid = (ub + lb) // 2\n",
    "        if l[mid] == x:\n",
    "            return(mid)\n",
    "        if x > l[mid]:\n",
    "            ub = mid\n",
    "        else:\n",
    "            lb = mid+1\n",
    "\n",
    "ll = [9,7,5,2,1]\n",
    "print(\"2, pos=\", bin_s(ll,2))\n",
    "print(\"3, pos=\", bin_s(ll,3))\n",
    "print(\"9, pos=\", bin_s(ll,9))\n",
    "print(\"1, pos=\", bin_s(ll,1))\n",
    "\n"
   ]
  },
  {
   "cell_type": "markdown",
   "metadata": {},
   "source": [
    "## Exercise 8\n",
    "\n",
    "Write a function that given a list **L**, checks whether all the elements are numbers.\n",
    "Moreover, if they are numbers in the set  **N** = *{0,1, …, 8,9}*, the function modifies the input list with the same elements in reverse order. \n",
    "\n",
    "It returns -1 is the first test above fails, 1 if the test succeeds, and 2 if the test succeeds and all the number in the set **N** are present in **L**. \n",
    "\n",
    "(*Hint: to check if **n** is an integer, use the function:  `isinstance(n, int)`)*\n"
   ]
  },
  {
   "cell_type": "code",
   "execution_count": 4,
   "metadata": {},
   "outputs": [
    {
     "name": "stdout",
     "output_type": "stream",
     "text": [
      "2 [7, 5, 4, 1]\n",
      "-1 [0.1, 1, '02']\n"
     ]
    }
   ],
   "source": [
    "l = [1,4,5,7]\n",
    "l1 = [0.1, 1, '02']\n",
    "\n",
    "def chk(ll):\n",
    "    for el in ll:\n",
    "        if not isinstance(el, int):\n",
    "            return -1\n",
    "    # if we arrive here, they are all integers\n",
    "    \n",
    "    for el in ll:\n",
    "        if not (0 <= el <= 9):\n",
    "            return 1\n",
    "    # if we arrive here, they are all integers between 0 and 9\n",
    "    \n",
    "    # invert the list\n",
    "    ll.reverse()\n",
    "    return 2\n",
    "\n",
    "print(chk(l), l)\n",
    "print(chk(l1), l1)"
   ]
  },
  {
   "cell_type": "markdown",
   "metadata": {},
   "source": [
    "## Exercise 9\n",
    "\n",
    "Write a function that given a list of dictionaries, returns a new dictionary resulting from the merging of the two. \n",
    "Consider, for example, to have two dictionaries to combine. \n",
    "If the element come from the 1st disctionary, the element added to the merged dictionary should be a list  `merged[key] = [[0, value]]`, and `merged[key] = [[1, value]]` otherwise.\n",
    "In case the two dictionaries share a key, the new merged dictionary should contain both values as a list of lists: `merged[shared_key] = [[0, value_1], [1, value_2]]`.\n",
    "\n",
    "*(Hint: You can scan all the keys of a dictionary **b** with*\n",
    "```python \n",
    "    for k in b:\n",
    "```\n",
    "*You can check if a key **k** is (is not) in a dictionary with*\n",
    "```python \n",
    "   if k in b:   (if k not in b:)\n",
    "```    \n",
    "*)*\n"
   ]
  },
  {
   "cell_type": "code",
   "execution_count": 8,
   "metadata": {},
   "outputs": [
    {
     "name": "stdout",
     "output_type": "stream",
     "text": [
      "{24: 5, 1: 67, 2: 10, 5: 1}\n",
      "{24: [[3, 5]], 1: [[1, 56], [2, 4], [3, 7]], 2: [[1, 10]], 5: [[2, 1]]}\n"
     ]
    }
   ],
   "source": [
    "# Merge a list of dictionaries. \n",
    "# The keys found in more than one dictiorary are inserted once, \n",
    "# and the associated values inserted in the merged dictionary are the SUM \n",
    "# of all the values associated with a key  \n",
    "def merge(list_of_dict):\n",
    "    merged = {}\n",
    "    for d in list_of_dict:\n",
    "        for k in d:\n",
    "            if k in merged:\n",
    "                merged[k] = merged[k] + d[k]\n",
    "            else:\n",
    "                merged[k] = d[k]\n",
    "    return merged\n",
    "\n",
    "\n",
    "\n",
    "# Merge a list of dictionaries. \n",
    "# The keys found in more than one dictiorary are inserted once, \n",
    "# and the associated values inserted in the merged dictionary are LISTS of LISTS  \n",
    "# as requested:\n",
    "# merged[shared_key] = [[i, value_i], [j, value_j], [k, value_k]]\n",
    "# the indexes i,j,k are the index of the various dictionaries in the input parameter \n",
    "# list_of_dict\n",
    "def merge_list(list_of_dict):\n",
    "    merged = {}\n",
    "    i = 0\n",
    "    for d in list_of_dict:\n",
    "        for k in d:\n",
    "            if k in merged:\n",
    "                merged[k].append([i+1, d[k]])\n",
    "            else:\n",
    "                merged[k] = [[i+1, d[k]]]\n",
    "        i = i+1\n",
    "    return merged\n",
    "\n",
    "d1 ={1:56, 2:10}\n",
    "d2 = {1:4, 5:1}\n",
    "d3 = {1:7, 24:5}\n",
    "\n",
    "list_d = [d1,d2,d3]\n",
    "\n",
    "print(merge(list_d))\n",
    "\n",
    "print(merge_list(list_d))\n",
    "\n",
    "        \n",
    "                             \n",
    "    \n",
    "        "
   ]
  },
  {
   "cell_type": "code",
   "execution_count": null,
   "metadata": {},
   "outputs": [],
   "source": []
  }
 ],
 "metadata": {
  "kernelspec": {
   "display_name": "Python 3",
   "language": "python",
   "name": "python3"
  },
  "language_info": {
   "codemirror_mode": {
    "name": "ipython",
    "version": 3
   },
   "file_extension": ".py",
   "mimetype": "text/x-python",
   "name": "python",
   "nbconvert_exporter": "python",
   "pygments_lexer": "ipython3",
   "version": "3.5.2"
  },
  "varInspector": {
   "cols": {
    "lenName": 16,
    "lenType": 16,
    "lenVar": 40
   },
   "kernels_config": {
    "python": {
     "delete_cmd_postfix": "",
     "delete_cmd_prefix": "del ",
     "library": "var_list.py",
     "varRefreshCmd": "print(var_dic_list())"
    },
    "r": {
     "delete_cmd_postfix": ") ",
     "delete_cmd_prefix": "rm(",
     "library": "var_list.r",
     "varRefreshCmd": "cat(var_dic_list()) "
    }
   },
   "types_to_exclude": [
    "module",
    "function",
    "builtin_function_or_method",
    "instance",
    "_Feature"
   ],
   "window_display": false
  }
 },
 "nbformat": 4,
 "nbformat_minor": 2
}
