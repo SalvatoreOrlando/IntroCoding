{
 "cells": [
  {
   "cell_type": "markdown",
   "metadata": {
    "slideshow": {
     "slide_type": "-"
    }
   },
   "source": [
    "# A simple program\n",
    "\n",
    "People usually introduce *courses on computer programming* with a **simple program** that prints \"Hello, World!\" on the screen.\n",
    "\n",
    "Just write the following in a text file, save the file `first.py`, and then exec the command in a console: <tt>python first.py</tt>.\n",
    "\n",
    "Alternatively, use the following box to interactively ask the *python interpreter* for executing the command. The output will be diplayed below the box."
   ]
  },
  {
   "cell_type": "code",
   "execution_count": 1,
   "metadata": {
    "scrolled": true
   },
   "outputs": [
    {
     "name": "stdout",
     "output_type": "stream",
     "text": [
      "Hello, world!\n"
     ]
    }
   ],
   "source": [
    "print(\"Hello, world!\")"
   ]
  },
  {
   "cell_type": "markdown",
   "metadata": {},
   "source": [
    "To execute the code in the above `cell` you can click on it and then do one of the following:\n",
    " - click on the `Run/Play` button in the toolbar\n",
    " - click on the menu `Cell > Run Cells`\n",
    " - click on the menu `Help > Keyboard shortcuts` to discover that you can also\n",
    " - press `Alt`+`Enter`\n",
    " - press `Control`+`Enter`\n",
    " \n",
    " \n",
    "Using the menu `Cell > Cell Type` you can change the content of the cell: either *Code*  or *Markdown*, where Markdown is a simple method to format text (https://en.wikipedia.org/wiki/Markdown). Click on the menu `Help > Markdown` to discover how format a text cell.\n",
    " \n",
    "The current cell is a *Markdown* one. To access the original Markdown text, double click on this cell.\n",
    "\n",
    "To pretty visualize this Markdown cell, you have to follow the same steps illustrated above for a code cell, asking for running the cell."
   ]
  },
  {
   "cell_type": "markdown",
   "metadata": {},
   "source": [
    "# A program that prints multiple lines\n",
    "\n",
    "You can also print many lines.\n",
    "\n",
    "*Python* will execute a line after the other, following the **sequential order** fixed by the programmer.\n",
    "\n",
    "The sequence of characters between a pair of double/single quotation marks, i.e. between two symbols `\"` or two symbols `'` (double or single quotation), are called <i>strings</i>, and are printed on the screen as they are. For example:\n",
    "\n",
    "       \"Hello, World!\"\n",
    "       'Hello, World!'\n",
    "       \n",
    "The function **print** can be invoked with many parameters, e.g., multiple strings. \n",
    "*python* concatenates them one after another, thus producing a single string. \n",
    "\n",
    "Then it appends a newline character <tt>\\n</tt> at the end (*newline*), and print on the screen the final result.\n",
    "\n",
    "\n",
    "Note the *comment* below associated with each line of code.\n",
    "<br/>\n",
    "In general, the lines (or portions of lines) starting from character **\\#** are ignored by the *python* interpreter that executes the code."
   ]
  },
  {
   "cell_type": "code",
   "execution_count": 2,
   "metadata": {
    "scrolled": true
   },
   "outputs": [
    {
     "name": "stdout",
     "output_type": "stream",
     "text": [
      "Hello!  I'm a computer ... \n",
      "\n",
      "How are you?\n"
     ]
    }
   ],
   "source": [
    "print (\"Hello!\", \" \", end='')    # This is a comment. Note end='' that removes the default suffix character '\\n'\n",
    "print (\"I'm a computer ... \\n\")  # This is another comment. Note that we added a further newline at the end of the string.\n",
    "print ('How are you?')"
   ]
  },
  {
   "cell_type": "markdown",
   "metadata": {},
   "source": [
    "## Print\n",
    "\n",
    "**print** is a **built-in function**.\n",
    "\n",
    "A function is a small sub-program with a **name**, its own **input** parameters, an **output**, just like a mathematical function.\n",
    "\n",
    "The input is delimited by parantheses. Functon **print** does not have an output, but it has a side-effect: it displays its input parameters on the screen.\n",
    "\n",
    "**built-in** means that someone else wrote its code, and it is now provided to you *for free* as part of Python.\n",
    "\n",
    "You can define your own functions. We will do this a bit later.\n",
    "\n",
    "*Whenever* you see a function, you should ask for which are the input parameters, what is the output and what is it doing.\n",
    "\n",
    "The answer can be found within the documentation.\n",
    "\n",
    "Check https://docs.python.org/3/library/functions.html#print"
   ]
  },
  {
   "cell_type": "markdown",
   "metadata": {},
   "source": [
    "## Flow of control\n",
    "\n",
    "We wrote out first **program**, i.e., a **sequence of instructions** that specifies a computation. \n",
    "\n",
    "The computer starts off by executing the first instruction, then the next, and so on,  in the order that they appear in the program. \n",
    "It only stops executing the program after the last instruction is completed. We refer to the order in which the computer executes instructions as the *flow of control*. When the computer is *executing* (or *running*) a particular instruction, we can say that *control is at that instruction*.\n",
    "\n",
    "Try to use [Python Tutor](http://pythontutor.com/) to run the code above, a see how the sequential control flow works, passing from a statement to the next, and so on.\n",
    "\n",
    "\n",
    "#### Remark\n",
    "In this case, we only wrote some output on the screen by exploiting the function *print*, but a computation can be much more complex, such as solving an equations, searching text in a document, applying a filter to an image, etc.\n",
    "\n",
    "\n",
    "\n"
   ]
  },
  {
   "cell_type": "markdown",
   "metadata": {},
   "source": [
    "# Arithmetic expressions\n",
    "You can ask *python* for computing mathematical expressions by applying **operators**:\n",
    "- `+`: sum\n",
    "- `-`: subtraction\n",
    "- `/`: division\n",
    "- `*`: multiplication\n",
    "- `**`: power\n",
    "- `//`: integer division\n",
    "- `%`: module\n",
    "\n",
    " The expressions built using the above operators are <u>first evaluated, transformed into strings, and then printed</u>. \n",
    "<br>\n",
    "So, you can *mix input strings and number expression* when you invoke **print**. \n",
    "<br>\n",
    "Given a complex expression, you can force precedence of operators by using round parentheses."
   ]
  },
  {
   "cell_type": "code",
   "execution_count": 3,
   "metadata": {},
   "outputs": [
    {
     "name": "stdout",
     "output_type": "stream",
     "text": [
      "Try the result of 4 + 8 =  12\n",
      "4 - 8 =  -4\n",
      "4 * 8 =  32\n",
      "8 / 3 =  2.6666666666666665\n",
      "8 raised to the power of 3 =  512\n",
      "8 // 3 =  2  (integer division)\n",
      "8 % 3 =  2  (rest of the integer division)\n",
      "\n",
      "2*4 + 4*2 =   16\n",
      "\n",
      "2 * (4 + 4) * 2 =  32\n"
     ]
    }
   ],
   "source": [
    "print (\"Try the result of 4 + 8 = \", 4 + 8)\n",
    "print (\"4 - 8 = \", 4 - 8)\n",
    "print (\"4 * 8 = \", 4 * 8)\n",
    "print ('8 / 3 = ', 8 / 3)\n",
    "print ('8 raised to the power of 3 = ', 8 ** 3)\n",
    "print (\"8 // 3 = \", 8 // 3, \" (integer division)\")\n",
    "print (\"8 % 3 = \", 8 % 3, \" (rest of the integer division)\")\n",
    "print ()\n",
    "print (\"2*4 + 4*2 =  \", 2*4 + 4*2, end='\\n\\n')\n",
    "print (\"2 * (4 + 4) * 2 = \", 2 * (4 + 4) * 2)"
   ]
  },
  {
   "cell_type": "markdown",
   "metadata": {},
   "source": [
    "# Values and types\n",
    "All programs deals with <b>expression values</b> that can have different types. You can inspect the type of values.\n",
    "<br>\n",
    "You can also ask for the <i>length of a string</i>."
   ]
  },
  {
   "cell_type": "code",
   "execution_count": 4,
   "metadata": {},
   "outputs": [
    {
     "name": "stdout",
     "output_type": "stream",
     "text": [
      "<class 'int'>\n",
      "<class 'float'>\n",
      "<class 'str'>\n",
      "<class 'str'>\n",
      "4\n"
     ]
    }
   ],
   "source": [
    "print (type(2))\n",
    "print (type(4.5))\n",
    "print (type('Hello'))\n",
    "print (type(\"Ciao\"))\n",
    "print (len(\"Ciao\"))"
   ]
  },
  {
   "cell_type": "markdown",
   "metadata": {},
   "source": [
    "# Simple exercises\n",
    "\n",
    "1. print you name and surname\n",
    "2. compute the number of days from Jan 1st in the year, given the date \"Dec 13th\" (<i>Apr/Jun/Sep/Nov = 30 days</i>, <i>Jan/Mar/May/Jul/Aug/Oct/Dec = 31 days</i>) \n"
   ]
  },
  {
   "cell_type": "code",
   "execution_count": 5,
   "metadata": {},
   "outputs": [
    {
     "name": "stdout",
     "output_type": "stream",
     "text": [
      "Salvatore \n"
     ]
    }
   ],
   "source": [
    "# Try your program here\n",
    "print('Salvatore ')\n"
   ]
  },
  {
   "cell_type": "markdown",
   "metadata": {},
   "source": [
    "# Variables and values\n",
    "\n",
    "To manipulate expression values, you can refer to them with a **name**. We call **variable** this name. You can *refer* to a variable to access the associated value, but you can also *reassign* a variable.\n",
    "\n",
    "The *statement* that creates or reassigns a variable is the **assignment**, which exploits symbol '=': \n",
    "\n",
    "       var = expression value\n",
    "       \n",
    "We see below three example of variable creation, and the we refer to them to inspect their types."
   ]
  },
  {
   "cell_type": "code",
   "execution_count": 6,
   "metadata": {},
   "outputs": [
    {
     "name": "stdout",
     "output_type": "stream",
     "text": [
      "I would like to say you goodbye ---> <class 'str'>\n",
      "17.0 ---> <class 'float'>\n",
      "3.141592653589793 ---> <class 'float'>\n",
      "53.40707511102649\n",
      "n-> 18 <class 'int'>\n"
     ]
    }
   ],
   "source": [
    "message = 'I would like to say you goodbye'\n",
    "n = 17.0\n",
    "pi = 3.141592653589793\n",
    "print(message, '--->', type(message))\n",
    "print(n, '--->', type(n))\n",
    "print(pi, '--->', type(pi))\n",
    "print(pi * n)\n",
    "n = 17+1\n",
    "print('n->', n, type(n))"
   ]
  },
  {
   "cell_type": "markdown",
   "metadata": {},
   "source": [
    "So a **variable** is a name that refers to a value with a given type. In Python the type of a variable can change. For example:"
   ]
  },
  {
   "cell_type": "code",
   "execution_count": 7,
   "metadata": {},
   "outputs": [
    {
     "name": "stdout",
     "output_type": "stream",
     "text": [
      "18 ---> <class 'int'>\n",
      "9.0 ---> <class 'float'>\n"
     ]
    }
   ],
   "source": [
    "print(n, '--->', type(n))\n",
    "n = n/2\n",
    "print(n, '--->', type(n))"
   ]
  },
  {
   "cell_type": "markdown",
   "metadata": {},
   "source": [
    "# Assigments\n",
    "\n",
    "The statement **n = n/2** is an **assignment**, where on the *left* we have a variable, and on the *right* we have an *expression* composed of constant values, variables, and operators. \n",
    "\n",
    "The expression can be arbitrarily simple (single value) or complex (many variables/constant values/operators).  \n",
    "\n",
    "How is this assignment  **n = n/2** processed? \n",
    "\n",
    "We call *left-hand* the part of the assignment before the symbol **=**, and *right-hand* the part after. \n",
    "\n",
    "### How an assignment is computed\n",
    "\n",
    "The assignment is computed **right-to-left**: \n",
    "\n",
    "1. evaluate the *right-hand* expression (i.e., **n/2**), by computing a single result value. This evaluation **does not** modify any values of the variables appearing in the expression.\n",
    "2. assign the computed value to the single variable (i.e., **n**) on the *left-hand*.\n",
    "\n",
    "In other terms, the value of **n** appearing on the right hand of the assignment is the *old* one.\n",
    "\n",
    "Some rules about *variable names*. They has can be as long as you like. They can contain letters/numbers, but\n",
    "**cannot** begin with a number. Names must be significant. It is legal to use uppercase letters, but it is conventional to\n",
    "use only lower case for variables names.\n",
    "The underscore character _ can appear in a name. It is often used in variable names with multiple\n",
    "words, such as *person_name* or *birth_date*.\n",
    "\n",
    "\n",
    "Some examples:"
   ]
  },
  {
   "cell_type": "code",
   "execution_count": 8,
   "metadata": {},
   "outputs": [
    {
     "name": "stdout",
     "output_type": "stream",
     "text": [
      "a-> 50  b-> 50\n",
      "a-> 1  b-> 50\n",
      "a-> 100  b-> 50\n"
     ]
    }
   ],
   "source": [
    "a = 25*2\n",
    "b = a\n",
    "print (\"a->\",a, \" b->\", b)\n",
    "a = 1\n",
    "print (\"a->\",a, \" b->\", b)\n",
    "a = b*2\n",
    "print (\"a->\",a, \" b->\", b)"
   ]
  },
  {
   "cell_type": "markdown",
   "metadata": {},
   "source": [
    "# Scope of variables\n",
    "\n",
    "Not all variables are accessible from all parts of our program.\n",
    "We call the part of a program where a variable is accessible its **scope**. \n",
    "\n",
    "The scope starts from the line of code where the variable is defined, i.e., it is assigned for the first time, and proceeds for the following lines.\n",
    "\n",
    "For example, the following code does **not work**. Why?\n"
   ]
  },
  {
   "cell_type": "code",
   "execution_count": 9,
   "metadata": {},
   "outputs": [
    {
     "ename": "NameError",
     "evalue": "name 't' is not defined",
     "output_type": "error",
     "traceback": [
      "\u001b[0;31m---------------------------------------------------------------------------\u001b[0m",
      "\u001b[0;31mNameError\u001b[0m                                 Traceback (most recent call last)",
      "\u001b[0;32m<ipython-input-9-cbc2d2f54271>\u001b[0m in \u001b[0;36m<module>\u001b[0;34m()\u001b[0m\n\u001b[0;32m----> 1\u001b[0;31m \u001b[0mz\u001b[0m \u001b[0;34m=\u001b[0m \u001b[0mt\u001b[0m\u001b[0;34m\u001b[0m\u001b[0m\n\u001b[0m\u001b[1;32m      2\u001b[0m \u001b[0mt\u001b[0m \u001b[0;34m=\u001b[0m \u001b[0;36m12\u001b[0m\u001b[0;34m\u001b[0m\u001b[0m\n",
      "\u001b[0;31mNameError\u001b[0m: name 't' is not defined"
     ]
    }
   ],
   "source": [
    "z = t\n",
    "t = 12\n"
   ]
  },
  {
   "cell_type": "markdown",
   "metadata": {},
   "source": [
    "# Input from the keyboard\n",
    "\n",
    "*Python* provides a built-in function called <tt>input</tt> that stops the program, and waits for the\n",
    "user to type something. When the user presses *Return* or *Enter*, the program resumes and\n",
    "input returns what the user typed as a *string* that can be saved in a *variable*.\n",
    "\n",
    "You can also specify a prompt, suggesting to the user what she has to type."
   ]
  },
  {
   "cell_type": "code",
   "execution_count": null,
   "metadata": {},
   "outputs": [],
   "source": [
    "typed_text = input()\n",
    "print('You typed: \\\"', typed_text, '\\\"')\n",
    "print()\n",
    "typed_text2 = input(\"What is you name?  \")\n",
    "print('You typed: \\\"', typed_text2, '\\\"')"
   ]
  },
  {
   "cell_type": "markdown",
   "metadata": {},
   "source": [
    "# Type conversion\n",
    "\n",
    "Also the *numbers are typed as strings*. If you need to take these input numbers and use them in an expression, you need to convert them.\n",
    "\n",
    "However, if the user types something other than a string of digits, you get an error !!\n",
    "\n",
    "Besides integers, we can also represent and manipulated *real numbers*. The type of these numbers is **float**, and we can also convert numerical strings read from the input (e.g., 1.77) into floating point numbers."
   ]
  },
  {
   "cell_type": "code",
   "execution_count": null,
   "metadata": {},
   "outputs": [],
   "source": [
    "text_num = input('How are you old? ')\n",
    "print(type(text_num))\n",
    "# text_num = text_num + 1 error\n",
    "num = int(text_num)\n",
    "print(type(num))\n",
    "num = num+1\n",
    "print(num)\n",
    "\n",
    "text_num_float = input('How tall you old? ')\n",
    "f = float(text_num_float)\n",
    "print(type(text_num_float))\n"
   ]
  },
  {
   "cell_type": "markdown",
   "metadata": {},
   "source": [
    "# Debugger\n",
    "Programmers make mistakes.  Programming errors are called *bugs*. The possible historical reason seems to refer an insect (moth) found on a board of one of the first computers.\n",
    "\n",
    "The process of tracking bugs down is called *debugging*.\n",
    "\n",
    "The possible errors are of three kinds: syntax errors, runtime errors, and semantic errors. \n",
    "\n",
    "1. **Syntax errors**: the programs are written in a formal unambiguous language, so you have to respect the structure. Such errors disappears when you become expert. Try the following:\n",
    "\n",
    "       print (\"ciao)       # print the string \"ciao\"\n",
    "       a = 1 \" 2           # 1+2 to variable a\n",
    "2. **Runtime errors**: These errors, also called *exceptions*, occur when *python* tries to process a given program line. They are very common when the program interact with users, and the input differs from what the programmer thought at design time.\n",
    "\n",
    "       print(new_variable)\n",
    "3. **Semantic errors**: These errors are the most difficult to find and correct, since they are related to the *meaning* of software. A program  may run without generating error messages, but it may do something else with respect to the expected behavior.  Try with the following program that aims to read the name and the age of a user, and then print its age in 2020.     \n",
    "\n",
    "       name = input(\"your name: \")\n",
    "       age = input(\"your age: \")\n",
    "       year = input(\"your birth year: \")\n",
    "       future_age = int(year)+3 # assuming the current year is 2017\n",
    "       print(\"The age of\", name, \"in 2020 will be\", future_age)\n",
    "\n",
    "### How to debug semantic errors\n",
    "\n",
    "- programmers have to review line by line the program, by imagining the effect of each line. \n",
    "- programmers insert in critical points some **print** statement to check the value of a variable, or to confirm that a given point of the program is actually reached\n",
    "- use a **debugger** tool that permits running a program step-by-step, inspecting variables at each step, or fixing points of the program (**breakpoints**) where to stop the execution, thus allowing the programmer to inspect the status of variables, etc. "
   ]
  },
  {
   "cell_type": "code",
   "execution_count": null,
   "metadata": {},
   "outputs": [],
   "source": [
    "# try here your code\n"
   ]
  },
  {
   "cell_type": "markdown",
   "metadata": {
    "collapsed": true
   },
   "source": [
    "# Exercises\n",
    "\n",
    "1. Write a program that asks for the data to compute (and print) both the area and perimeter of a rectangle.\n",
    "2. Suppose that the cover price of a book is EUR 15.90, but a bookstore gets a x% discount. Shipping costs\n",
    "EUR 3 for the first copy and 75 cents for each additional copy. Ask the user for typing the discount percent and the number of copies to ship. The program has to return on the screen the total cost.  \n",
    "3. Ask the user for 3 integers: $L$, $H$, and $l$. Let $L\\times H$ be the size of a rectangle. Find how many squares of size $l \\times l$ can be contained in the rectangle. Note: $l$ must be smaller than (or equal to) both $L$ and $H$. \n",
    "<br/> \n",
    "What is the size of the area of the rectangle not covered by all these squares?\n",
    "4. Given 3 integer numbers, whose meanings are current time in hour, minutes, and seconds, compute how many seconds have passed from the beginning of the day. Ask the user for the three numbers and print the results on the screen.\n",
    "5. The same as exercise 1, but computes the total number of minutes from the beginning of the days as a real (float) number (ex: 2:23:3  corresponds to 143.05 minutes).\n",
    "<br/>\n",
    "6. Ask the user for the three coefficients of a quadratic equation, and find its solutions. *Hint: to use the square root, we need the extra module software* `math`:\n",
    "```Python\n",
    "      import math               # required to compute the square root\n",
    "      delta = 49.0\n",
    "      root = math.sqrt(delta)   # meaning: invoke the \"square root function\" of \"module math\"\n",
    "      print(root)\n",
    "```\n",
    "7. Considering that the marathon length is 42.195 Km and the current record is 2:01:39, what is the pace in *minutes per Km* you should sustain to improve the marathon record of one second?"
   ]
  },
  {
   "cell_type": "code",
   "execution_count": null,
   "metadata": {},
   "outputs": [],
   "source": [
    "# try here exercise 1"
   ]
  },
  {
   "cell_type": "code",
   "execution_count": null,
   "metadata": {},
   "outputs": [],
   "source": [
    "# try here exercise 2"
   ]
  },
  {
   "cell_type": "code",
   "execution_count": null,
   "metadata": {},
   "outputs": [],
   "source": [
    "# try here exercise 3\n",
    "L = int(input(\"L: \"))\n",
    "H = int(input(\"H: \"))\n",
    "l = int(input(\"l: \"))\n",
    "num_squares_on_L = L // l\n",
    "num_squares_on_H = H // l\n",
    "num_squares = num_squares_on_L * num_squares_on_H\n",
    "print(\"no. of squares: \", num_squares)\n",
    "area_rectangle = L * H\n",
    "area_square = l * l\n",
    "area_all_squares = area_rectangle - num_squares * area_square\n",
    "print(\"size, expressed in units^2, of the uncovered area: \", L*H - num_squares_on_L * num_squares_on_H * l * l)"
   ]
  },
  {
   "cell_type": "code",
   "execution_count": null,
   "metadata": {},
   "outputs": [],
   "source": []
  },
  {
   "cell_type": "code",
   "execution_count": null,
   "metadata": {},
   "outputs": [],
   "source": []
  },
  {
   "cell_type": "code",
   "execution_count": null,
   "metadata": {},
   "outputs": [],
   "source": []
  },
  {
   "cell_type": "code",
   "execution_count": null,
   "metadata": {},
   "outputs": [],
   "source": []
  },
  {
   "cell_type": "code",
   "execution_count": null,
   "metadata": {},
   "outputs": [],
   "source": []
  }
 ],
 "metadata": {
  "celltoolbar": "Slideshow",
  "kernelspec": {
   "display_name": "Python 3",
   "language": "python",
   "name": "python3"
  },
  "language_info": {
   "codemirror_mode": {
    "name": "ipython",
    "version": 3
   },
   "file_extension": ".py",
   "mimetype": "text/x-python",
   "name": "python",
   "nbconvert_exporter": "python",
   "pygments_lexer": "ipython3",
   "version": "3.5.2"
  }
 },
 "nbformat": 4,
 "nbformat_minor": 2
}
