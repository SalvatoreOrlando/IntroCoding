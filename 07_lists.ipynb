{
 "cells": [
  {
   "cell_type": "markdown",
   "metadata": {},
   "source": [
    "# Lists\n",
    "The **list** is a very useful built-in type in Python, along with *string*, *int*, *float*, and *bool*.\n",
    "\n",
    "Like a string, a **list** is a sequence of values. In a string, the values are simply characters, whereas in a list\n",
    "they can be of any type. The values in a list are called **elements** or sometimes **items**.\n",
    "\n",
    "```python\n",
    "     [10, 15, 2]\n",
    "     [\"Jan\", \"Feb\", \"Mar\", \"Apr\", \"May\", \"Jun\", \"Jul\", \"Aug\", \"Sep\", \"Oct\", \"Nov\", \"Dec\"]\n",
    "```\n",
    "\n",
    "The elements of a list can have different types. The following list contains a string, a float, an\n",
    "integer, but also *another list*:\n",
    "```python\n",
    "     ['spam', 2.0, 5, [10, 20]]\n",
    "```\n",
    "A list within another list is said to be **nested**.\n",
    "\n",
    "Like a empty string `''`, we can also have an **empty lists**  `[]`.\n",
    "\n",
    "What is len of  `['spam', 2.0, 5, [10, 20]]`  or  `['spam', [], '', [10, 20]]` ?"
   ]
  },
  {
   "cell_type": "code",
   "execution_count": 44,
   "metadata": {
    "slideshow": {
     "slide_type": "slide"
    }
   },
   "outputs": [
    {
     "name": "stdout",
     "output_type": "stream",
     "text": [
      "['Parmigiano', 'Pecorino', 'Piave'] [123, 42] []\n",
      "4\n",
      "4\n"
     ]
    }
   ],
   "source": [
    "cheeses = ['Parmigiano', 'Pecorino', 'Piave']\n",
    "numbers = [123, 42]\n",
    "empty = []\n",
    "print(cheeses, numbers, empty)\n",
    "\n",
    "print(len(['spam', 2.0, 5, [10, 20]]))\n",
    "print(len(['spam', [], '', [10, 20]]))"
   ]
  },
  {
   "cell_type": "markdown",
   "metadata": {},
   "source": [
    "# Lists are mutable\n",
    "\n",
    "The syntax for accessing the elements of a list is the same as the one for accessing the characters\n",
    "of a string: the **bracket operator**, with indices starting from 0.\n",
    "\n",
    "Like strings, also lists can be accessed with negative indices: -1 corresponds to the last element of the list, -2 to the penultimate element, and so on.\n",
    "\n",
    "```python\n",
    "    my_str = \"Hello!\"\n",
    "    my_lst = [10, \"In\", \"Out\", 10.2]\n",
    "    ... my_str[0]  ...\n",
    "    ... my_lst[3]  ...\n",
    "    ... my_lst[-1] ...\n",
    "```\n",
    "Unlike strings, lists are **mutable**, and thus the bracket operator can appear on the left side of an\n",
    "assignment, by identifying the element of the list that will be modified."
   ]
  },
  {
   "cell_type": "code",
   "execution_count": 17,
   "metadata": {
    "scrolled": true
   },
   "outputs": [
    {
     "name": "stdout",
     "output_type": "stream",
     "text": [
      "H\n",
      "10.2\n",
      "In\n",
      "Before the change: [10, 'In', 'Out', 10.2]\n",
      "After the change:  [10, 30, 'Out', 10.2]\n",
      "hello!\n"
     ]
    },
    {
     "ename": "TypeError",
     "evalue": "'str' object does not support item assignment",
     "output_type": "error",
     "traceback": [
      "\u001b[1;31m---------------------------------------------------------------------------\u001b[0m",
      "\u001b[1;31mTypeError\u001b[0m                                 Traceback (most recent call last)",
      "\u001b[1;32m<ipython-input-17-22a7de08af14>\u001b[0m in \u001b[0;36m<module>\u001b[1;34m()\u001b[0m\n\u001b[0;32m     12\u001b[0m \u001b[0mprint\u001b[0m\u001b[1;33m(\u001b[0m\u001b[0mnew_my_str\u001b[0m\u001b[1;33m)\u001b[0m\u001b[1;33m\u001b[0m\u001b[0m\n\u001b[0;32m     13\u001b[0m \u001b[1;33m\u001b[0m\u001b[0m\n\u001b[1;32m---> 14\u001b[1;33m \u001b[0mmy_str\u001b[0m\u001b[1;33m[\u001b[0m\u001b[1;36m5\u001b[0m\u001b[1;33m]\u001b[0m \u001b[1;33m=\u001b[0m \u001b[1;34m'.'\u001b[0m \u001b[1;31m# Error: an attempt to modify the 6th position of a string,\u001b[0m\u001b[1;33m\u001b[0m\u001b[0m\n\u001b[0m\u001b[0;32m     15\u001b[0m                 \u001b[1;31m# which is immutable\u001b[0m\u001b[1;33m\u001b[0m\u001b[1;33m\u001b[0m\u001b[0m\n\u001b[0;32m     16\u001b[0m \u001b[1;33m\u001b[0m\u001b[0m\n",
      "\u001b[1;31mTypeError\u001b[0m: 'str' object does not support item assignment"
     ]
    }
   ],
   "source": [
    "    my_str = \"Hello!\"\n",
    "    my_lst = [10, \"In\", \"Out\", 10.2]\n",
    "    print(my_str[0])\n",
    "    print(my_lst[3])\n",
    "    print(my_lst[-3])\n",
    "\n",
    "    print(\"Before the change:\", my_lst)\n",
    "    my_lst[1] = 30  # modify the 2nd position of list\n",
    "    print(\"After the change: \", my_lst)\n",
    "    \n",
    "    new_my_str = my_str.lower()\n",
    "    print(new_my_str)\n",
    "    \n",
    "    my_str[5] = '.' # Error: an attempt to modify the 6th position of a string, \n",
    "                    # which is immutable\n",
    "    "
   ]
  },
  {
   "cell_type": "markdown",
   "metadata": {},
   "source": [
    "# List traversing, concatenation and slices \n",
    "\n",
    "Traversing, concatenation and slices work like with strings.   \n",
    "\n",
    "Also, function `len()` works on both strings and lists.\n"
   ]
  },
  {
   "cell_type": "code",
   "execution_count": 45,
   "metadata": {},
   "outputs": [
    {
     "name": "stdout",
     "output_type": "stream",
     "text": [
      "1\n",
      "2\n",
      "3\n",
      "a\n",
      "b\n",
      "character 'c' is NOT in the list\n",
      "character 'b' is in the list at index: 4\n",
      "********************\n",
      "1\n",
      "4\n",
      "o\n",
      "a\n",
      "b\n"
     ]
    }
   ],
   "source": [
    "ls = [1,2,3,'a','b']\n",
    "for elem in ls:      # operator \"in\" works also on lists\n",
    "    print(elem)\n",
    "    \n",
    "if 'c' not in ls:\n",
    "    print('character \\'c\\' is NOT in the list')\n",
    "if 'b' in ls:\n",
    "    print('character \\'b\\' is in the list at index:', ls.index('b')) \n",
    "          \n",
    "    \n",
    "\n",
    "print(\"********************\")\n",
    "    \n",
    "my_list = [1,4,'o','a','b']\n",
    "for i in range(len(my_list)):  # function len() works also on lists\n",
    "    print(my_list[i])\n"
   ]
  },
  {
   "cell_type": "markdown",
   "metadata": {},
   "source": [
    "### Exercise taken from assignment 1, re-implemented with lists\n",
    "\n",
    "1. Write a program which asks you for the starting day of a holiday  (one of the strings: \"Mon\", \"Tue\", \"Wed\", \"Thu\", \"Fry\", \"Sat\" or \"Sun\"),  and the length of the stay (no. of days). \n",
    "<br/>\n",
    "The program has to print the name of day of the week you will return on.\n",
    "\n"
   ]
  },
  {
   "cell_type": "code",
   "execution_count": 2,
   "metadata": {},
   "outputs": [
    {
     "name": "stdout",
     "output_type": "stream",
     "text": [
      "give me the start of the vacation: tue\n",
      "give me the length of the vacation: 10\n",
      "you return on: fri\n"
     ]
    }
   ],
   "source": [
    "week = [\"mon\", \"tue\", \"wed\", \"thu\", \"fri\", \"sat\", \"sun\"]\n",
    "\n",
    "dep_day = input('give me the start of the vacation: ')\n",
    "\n",
    "dep_day_lower = dep_day.lower()\n",
    "\n",
    "if dep_day_lower not in week:\n",
    "    print(\"input error\")\n",
    "else:\n",
    "    index = week.index(dep_day_lower)  # from a string to a numerical index\n",
    "\n",
    "    # print(index)\n",
    "\n",
    "    n_days = input('give me the length of the vacation: ')\n",
    "    index = (index + int(n_days)) % 7\n",
    "\n",
    "    print(\"you return on:\", week[index]) # from a numerical index to a string"
   ]
  },
  {
   "cell_type": "code",
   "execution_count": 1,
   "metadata": {},
   "outputs": [
    {
     "name": "stdout",
     "output_type": "stream",
     "text": [
      "l1:  [1, 2, 3]\n",
      "l2:  ['A', 'a', 'c']\n",
      "l3:  [1, 2, 3, 'A', 'a', 'c']\n"
     ]
    }
   ],
   "source": [
    "l1 = [1,2,3]\n",
    "l2 = ['A', 'a', 'c']\n",
    "l3 = l1 + l2   # concatenation\n",
    "print(\"l1: \", l1)\n",
    "print(\"l2: \", l2)\n",
    "print(\"l3: \", l3)"
   ]
  },
  {
   "cell_type": "code",
   "execution_count": 5,
   "metadata": {},
   "outputs": [
    {
     "ename": "NameError",
     "evalue": "name 'l3' is not defined",
     "output_type": "error",
     "traceback": [
      "\u001b[0;31m---------------------------------------------------------------------------\u001b[0m",
      "\u001b[0;31mNameError\u001b[0m                                 Traceback (most recent call last)",
      "\u001b[0;32m<ipython-input-5-7abaa08c1236>\u001b[0m in \u001b[0;36m<module>\u001b[0;34m()\u001b[0m\n\u001b[0;32m----> 1\u001b[0;31m \u001b[0mprint\u001b[0m\u001b[0;34m(\u001b[0m\u001b[0ml3\u001b[0m\u001b[0;34m[\u001b[0m\u001b[0;36m2\u001b[0m\u001b[0;34m:\u001b[0m\u001b[0;36m4\u001b[0m\u001b[0;34m]\u001b[0m\u001b[0;34m)\u001b[0m \u001b[0;31m# from the 3rd to the 4th items (2 items)\u001b[0m\u001b[0;34m\u001b[0m\u001b[0m\n\u001b[0m\u001b[1;32m      2\u001b[0m \u001b[0mprint\u001b[0m\u001b[0;34m(\u001b[0m\u001b[0ml3\u001b[0m\u001b[0;34m[\u001b[0m\u001b[0;34m:\u001b[0m\u001b[0;34m-\u001b[0m\u001b[0;36m1\u001b[0m\u001b[0;34m:\u001b[0m\u001b[0;36m1\u001b[0m\u001b[0;34m]\u001b[0m\u001b[0;34m)\u001b[0m \u001b[0;31m# from the init to the end (end excluded), step 1\u001b[0m\u001b[0;34m\u001b[0m\u001b[0m\n\u001b[1;32m      3\u001b[0m \u001b[0mprint\u001b[0m\u001b[0;34m(\u001b[0m\u001b[0ml3\u001b[0m\u001b[0;34m[\u001b[0m\u001b[0;34m:\u001b[0m\u001b[0;34m:\u001b[0m\u001b[0;36m1\u001b[0m\u001b[0;34m]\u001b[0m\u001b[0;34m)\u001b[0m \u001b[0;31m# from the init to the end, step 1\u001b[0m\u001b[0;34m\u001b[0m\u001b[0m\n\u001b[1;32m      4\u001b[0m \u001b[0mprint\u001b[0m\u001b[0;34m(\u001b[0m\u001b[0ml3\u001b[0m\u001b[0;34m[\u001b[0m\u001b[0;34m:\u001b[0m\u001b[0;34m-\u001b[0m\u001b[0;36m1\u001b[0m\u001b[0;34m:\u001b[0m\u001b[0;36m2\u001b[0m\u001b[0;34m]\u001b[0m\u001b[0;34m)\u001b[0m \u001b[0;31m# from the init to the end (end excluded), step 2\u001b[0m\u001b[0;34m\u001b[0m\u001b[0m\n\u001b[1;32m      5\u001b[0m \u001b[0mprint\u001b[0m\u001b[0;34m(\u001b[0m\u001b[0ml3\u001b[0m\u001b[0;34m[\u001b[0m\u001b[0;36m1\u001b[0m\u001b[0;34m:\u001b[0m\u001b[0;34m:\u001b[0m\u001b[0;36m2\u001b[0m\u001b[0;34m]\u001b[0m\u001b[0;34m)\u001b[0m  \u001b[0;31m# from the 2nd element to the end, step 2\u001b[0m\u001b[0;34m\u001b[0m\u001b[0m\n",
      "\u001b[0;31mNameError\u001b[0m: name 'l3' is not defined"
     ]
    }
   ],
   "source": [
    "print(l3[2:4]) # from the 3rd to the 4th items (2 items)\n",
    "print(l3[:-1:1]) # from the init to the end (end excluded), step 1\n",
    "print(l3[::1]) # from the init to the end, step 1\n",
    "print(l3[:-1:2]) # from the init to the end (end excluded), step 2\n",
    "print(l3[1::2])  # from the 2nd element to the end, step 2\n",
    "print(l3[-1:-4:-1]) # from the last element to the last but three (included). \n",
    "                    # The list is printed in reverse order\n",
    "\n",
    "# The same slicing applies to strings\n",
    "string=\"abdec\"\n",
    "print(string[-1::-1]) # from the last to the first, in reverse order"
   ]
  },
  {
   "cell_type": "markdown",
   "metadata": {},
   "source": [
    "# List methods\n",
    "\n",
    "Lists provide *methods* that perform a variety of useful operations. \n",
    "\n",
    "Since the list are mutable, these methods can change the values of the list on which the method operates. For example:\n",
    "```python\n",
    "     t = ['a', 'b', 'c']\n",
    "     t.append('d')   # append at the end a new element\n",
    "```\n",
    "makes longer the current list, by inserting a \"single\" new element at the end of the list. This is the result:\n",
    "```python  \n",
    "     ['a', 'b', 'c', 'd'] \n",
    "```\n",
    "The new element can also be a list!\n",
    "\n",
    "For example:\n",
    " ```python\n",
    "     t = ['a', 'b', 'c']\n",
    "     t.append(['d'])   # append at the end a new element\n",
    "```\n",
    "transform the list as follows:\n",
    "```python  \n",
    "     t = ['a', 'b', 'c', ['d']] \n",
    "\n",
    "\n",
    "The method `extend` attaches a list (the attribute of the method) at the end of list modified by the method. Specifically, it appends each element of an iterable argument (e.g.,  another list) to the end of the list.\n",
    "```python\n",
    "     t = ['a', 'b', 'c']\n",
    "     t.extend(['k', 'k'])   # append at the end a new element\n",
    "```\n",
    "and thus it is equivalent to:\n",
    "```python\n",
    "     t = ['a', 'b', 'c']\n",
    "     t = t + ['k', 'k']\n",
    "```\n"
   ]
  },
  {
   "cell_type": "code",
   "execution_count": 12,
   "metadata": {},
   "outputs": [
    {
     "name": "stdout",
     "output_type": "stream",
     "text": [
      "['a', 'b', 'c', 'd']\n",
      "['a', 'b', 'c', 'd', ['h', 'm']]\n",
      "['a', 'b', 'c', 'd', 'k']\n",
      "['a', 'b', 'c', 'd', 'k', 'b', 'l', 'a']\n",
      "['a', 'b', 'c', 'k', 'k']\n"
     ]
    }
   ],
   "source": [
    "t =  ['a', 'b', 'c']\n",
    "\n",
    "# append\n",
    "t.append('d')\n",
    "print(t)\n",
    "\n",
    "t.append(['h', 'm'])\n",
    "print(t)\n",
    "\n",
    "# extend\n",
    "t =  ['a', 'b', 'c']\n",
    "t.extend(['d', 'k'])\n",
    "print(t)\n",
    "\n",
    "t.extend(\"bla\") # we can extend with a string\n",
    "print(t)\n",
    "\n",
    "# simple concatenation \n",
    "t = ['a', 'b', 'c']\n",
    "t = t + ['k', 'k']\n",
    "print(t)"
   ]
  },
  {
   "cell_type": "markdown",
   "metadata": {
    "slideshow": {
     "slide_type": "-"
    }
   },
   "source": [
    "# List sort\n",
    "\n",
    "You can sort lists of homogeneous elements of the same type (also composed of numbers):\n",
    "\n",
    "```python\n",
    "     words = [\"cal\", \"ca\", \"Ga\", \"Ga \", \"Ga1\", \"123\"]\n",
    "     words.sort()\n",
    "```"
   ]
  },
  {
   "cell_type": "code",
   "execution_count": 3,
   "metadata": {},
   "outputs": [
    {
     "name": "stdout",
     "output_type": "stream",
     "text": [
      "['cal', 'ca', 'Ga', 'Ga ', 'Ga1', '123']\n",
      "['123', 'Ga', 'Ga ', 'Ga1', 'ca', 'cal']\n"
     ]
    }
   ],
   "source": [
    "s = [\"cal\", \"ca\", \"Ga\", \"Ga \", \"Ga1\", \"123\"]\n",
    "#s = [\"cal\", \"ca\", \"Ga\", \"Ga \", \"Ga1\", 1] # strings along with int\n",
    "#s = [1, 45, 2, 17.1]   # a list of numerical values\n",
    "\n",
    "print(s)\n",
    "\n",
    "s.sort()  # to apply the method \"sort\", the element types must be the same \n",
    "print(s) "
   ]
  },
  {
   "cell_type": "markdown",
   "metadata": {},
   "source": [
    "# List and strings\n",
    "\n",
    "Lists and strings are different:\n",
    "```python\n",
    "     my_string = 'Hello'\n",
    "     my_list = ['H', 'e', 'l', 'l', 'o']\n",
    "```\n",
    "\n",
    "Function `list()`  transforms a string into a list, by breaking the string into individual letters. \n",
    "\n",
    "Consider that, besides `list()`, we already met function to transform data from a type to another:\n",
    "\n",
    "- from `int` or `float` to `string`:   `str(12)` or `str(23.8)`\n",
    "\n",
    "- from `string` to `int`: `int('123')`\n",
    "\n",
    "- from `string` to `float`: `float('12.34')`\n",
    "\n",
    "- from `string` to `list`: `list('1234')`"
   ]
  },
  {
   "cell_type": "code",
   "execution_count": 14,
   "metadata": {},
   "outputs": [
    {
     "name": "stdout",
     "output_type": "stream",
     "text": [
      "124\n",
      "12.94\n",
      "150\n",
      "150.8\n",
      "['H', 'e', 'l', 'l', 'o']\n"
     ]
    }
   ],
   "source": [
    "int_var = int('123')\n",
    "float_var = float('12.34')\n",
    "string_num1_var = str(150)\n",
    "string_num2_var = str(150.8)\n",
    "list_var = list(\"Hello\")\n",
    "\n",
    "print(int_var + 1)\n",
    "print(float_var + 0.6)\n",
    "print(string_num1_var)\n",
    "print(string_num2_var)\n",
    "print(list_var)"
   ]
  },
  {
   "cell_type": "markdown",
   "metadata": {},
   "source": [
    "We have seen how to transform a string into a list. Suppose you have a list, where all elements are string. We can join it with a program, but we can also use the string method \n",
    "```python\n",
    "     l = ['a', 'b', 'cd', 'e']\n",
    "     new_string = ' '.joint(l)\n",
    "```\n",
    "thus producing the \n",
    "```python\n",
    "     new_string = 'abcde'\n",
    "```\n",
    "Note the white character `' '` which result the separator between the strings in the list.\n",
    "\n",
    "Try with others:\n",
    "```python\n",
    "     new_string = '-'.joint(l)  # dash \n",
    "     new_string = ''.joint(l)   # no separator\n",
    "```\n"
   ]
  },
  {
   "cell_type": "code",
   "execution_count": 4,
   "metadata": {},
   "outputs": [
    {
     "name": "stdout",
     "output_type": "stream",
     "text": [
      "using for:  a b cd e\n",
      "using join with a whitespace as separator:  a b cd e\n",
      "using join with no separators:  abcde\n"
     ]
    }
   ],
   "source": [
    "l = ['a', 'b', 'cd', 'e']\n",
    "\n",
    "new_string = l[0]\n",
    "for i in range(1, len(l)):\n",
    "    new_string = new_string + \" \" + l[i]\n",
    "print(\"using for: \", new_string)\n",
    "\n",
    "\n",
    "new_string = ' '.join(l)\n",
    "print(\"using join with a whitespace as separator: \", new_string)\n",
    "\n",
    "new_string = ''.join(l)\n",
    "print(\"using join with no separators: \", new_string)\n",
    "\n"
   ]
  },
  {
   "cell_type": "markdown",
   "metadata": {},
   "source": [
    "# Delete / Insert elements from / into a list\n",
    "\n",
    "We can use the operator `del` along with the *slice* operator to remove elements from a list using the indices of the elements to remove.\n",
    "\n",
    "If you need to remove an element and return the value of the element removed, we have the method `.pop(index)`. \n",
    "\n",
    "You can also delete elements from a list by providing the element to remove (not the index) by using the `.remove()` method.\n",
    "\n",
    "Finally, the method `list.insert(i, x)` inserts an item at a given position. The first argument is the index of the element *before* which to insert. So, `list.insert(0, x)` inserts element `x` at the front of the list, and `list.insert(len(list), x)` is equivalent to `list.append(x)`."
   ]
  },
  {
   "cell_type": "code",
   "execution_count": 9,
   "metadata": {},
   "outputs": [
    {
     "name": "stdout",
     "output_type": "stream",
     "text": [
      "[4, 5, 'cat', 'dog', 'cat', 1.2]\n",
      "5\n",
      "[4, 'cat', 'dog', 'cat', 1.2]\n",
      "[4, 'dog', 'cat', 1.2]\n",
      "[4, 'dog', 1.2]\n"
     ]
    },
    {
     "ename": "ValueError",
     "evalue": "list.remove(x): x not in list",
     "output_type": "error",
     "traceback": [
      "\u001b[0;31m---------------------------------------------------------------------------\u001b[0m",
      "\u001b[0;31mValueError\u001b[0m                                Traceback (most recent call last)",
      "\u001b[0;32m<ipython-input-9-84e3ccff85f0>\u001b[0m in \u001b[0;36m<module>\u001b[0;34m()\u001b[0m\n\u001b[1;32m     14\u001b[0m \u001b[0mprint\u001b[0m\u001b[0;34m(\u001b[0m\u001b[0mlist_var\u001b[0m\u001b[0;34m)\u001b[0m\u001b[0;34m\u001b[0m\u001b[0m\n\u001b[1;32m     15\u001b[0m \u001b[0;34m\u001b[0m\u001b[0m\n\u001b[0;32m---> 16\u001b[0;31m \u001b[0mlist_var\u001b[0m\u001b[0;34m.\u001b[0m\u001b[0mremove\u001b[0m\u001b[0;34m(\u001b[0m\u001b[0;34m'cat'\u001b[0m\u001b[0;34m)\u001b[0m\u001b[0;34m\u001b[0m\u001b[0m\n\u001b[0m\u001b[1;32m     17\u001b[0m \u001b[0;34m\u001b[0m\u001b[0m\n\u001b[1;32m     18\u001b[0m \u001b[0;32mif\u001b[0m \u001b[0;34m(\u001b[0m\u001b[0;34m'cat'\u001b[0m \u001b[0;32min\u001b[0m \u001b[0mlist_var\u001b[0m\u001b[0;34m)\u001b[0m\u001b[0;34m:\u001b[0m\u001b[0;34m\u001b[0m\u001b[0m\n",
      "\u001b[0;31mValueError\u001b[0m: list.remove(x): x not in list"
     ]
    }
   ],
   "source": [
    "list_var = [1, 3, 4, 5, 'cat', 'dog', 'cat', 1.2]\n",
    "\n",
    "del list_var[0:2]        # remove the first two elements of the list\n",
    "print(list_var)\n",
    "\n",
    "val = list_var.pop(1)    # remove and return the first element of the list \n",
    "print(val)\n",
    "print(list_var)\n",
    "\n",
    "list_var.remove('cat')   # remove the first occurrence of the element 'cat'\n",
    "print(list_var)\n",
    "\n",
    "list_var.remove('cat')   # remove the first (previously second) occurrence of the element 'cat'\n",
    "print(list_var)\n",
    "\n",
    "# list_var.remove('cat') # error\n",
    "\n",
    "if ('cat' in list_var):\n",
    "    list_var.remove('cat')   # remove the first occurrence of the element 'cat'\n",
    "    print(list_var)\n",
    "else:\n",
    "    print(\"list_var doesn't contain \\'cat\\'\")\n",
    "    \n",
    "list_var.insert(2, 'bear')\n",
    "print(list_var)"
   ]
  },
  {
   "cell_type": "markdown",
   "metadata": {},
   "source": [
    "# Split a long string in substring\n",
    "\n",
    "This is a very common task. Suppose you read a long line of text, composed of many words (or tokens), and you need to *split the line* to access the composing words/tokens.\n",
    "\n",
    "To this end, we can use the string method `split()`, which returns a list of splitted elements, where each element is a sub-string.\n",
    "\n",
    "In the following we also use the string method `strip()`, which returns a copy of the string in which all the *space characters* are stripped from both the beginning and the end of the string (we can change the *default whitespace* characters to strip)."
   ]
  },
  {
   "cell_type": "code",
   "execution_count": 10,
   "metadata": {},
   "outputs": [
    {
     "name": "stdout",
     "output_type": "stream",
     "text": [
      "['Python', 'Tutor', 'helps', 'people', 'to', 'overcome', 'a', 'fundamental', 'barrier', 'to', 'learning', 'programming:', 'understanding', 'what', 'happens', 'as', 'the', 'computer', 'runs', 'each', 'line', 'of', 'source', 'code.']\n",
      "['AW124ad', ' BD444CJ', ' DE765TR', ' BE145TI']\n",
      "['AW124ad', 'BD444CJ', 'DE765TR', 'BE145TI']\n"
     ]
    }
   ],
   "source": [
    "long_line = \"Python Tutor helps people to overcome a fundamental barrier to learning programming: \\\n",
    "understanding what happens as the computer    runs each line     of source code.\"\n",
    "\n",
    "list_of_words = long_line.split() # default separator is the space character ' '. Indeed, one or more space chars\n",
    "print(list_of_words)\n",
    "\n",
    "long_line_codes = \"AW124ad; BD444CJ; DE765TR; BE145TI\"\n",
    "list_of_codes = long_line_codes.split(';') # in this case we need the separator to be ';' \n",
    "print(list_of_codes)\n",
    "\n",
    "for i in range(len(list_of_codes)):\n",
    "    list_of_codes[i] = list_of_codes[i].strip() # remove spaces  \n",
    "print(list_of_codes)"
   ]
  },
  {
   "cell_type": "markdown",
   "metadata": {},
   "source": [
    "# Exercises\n",
    "\n",
    "1. Write a program that takes two lists and print *True* if they have at least one common member. \n",
    "2. Write a program that takes a list of integers, and print the list after removing *even* numbers from it.\n",
    "3. Write a program that takes a list of homogeneous elements (len(list) > 1). The program has to print *ASC* if the list is sorted in ascending order, *DES* if the list is sorted in descending order, *NO* otherwise.\n",
    "4. Two words are *anagrams* if you can rearrange the letters from one to spell the other. Write a program that takes two strings and returns True if they are anagrams. *Hint*: Words transformed in lists can be modified, thus allowing to remove elements from the 2nd list for each char of the 1st. \n",
    "<br>Apply this program to find in a list of words the pairs where one is the anagram of the other.\n"
   ]
  },
  {
   "cell_type": "code",
   "execution_count": 3,
   "metadata": {},
   "outputs": [
    {
     "name": "stdout",
     "output_type": "stream",
     "text": [
      "False\n"
     ]
    }
   ],
   "source": [
    "#Exercise 1\n",
    "# Write a program that takes two lists and print True if they have at least one common member.\n",
    "\n",
    "l1 = [1,3,6,8,10]\n",
    "l2 = [4,5,9,10]\n",
    "\n",
    "\n",
    "ret = False\n",
    "for el1 in l1:\n",
    "    for el2 in l2:\n",
    "        if el1 == el2:\n",
    "            ret = True\n",
    "print(ret)\n",
    "\n",
    "#ret = False\n",
    "#for el1 in l1:\n",
    "#    if el1 in l2:\n",
    "#        ret = True\n",
    "#        break\n",
    "#print(ret)"
   ]
  },
  {
   "cell_type": "code",
   "execution_count": 3,
   "metadata": {},
   "outputs": [
    {
     "name": "stdout",
     "output_type": "stream",
     "text": [
      "[1, 4, 5, 6, 7, 8, 13, 17, 2]\n",
      "[4, 6, 8, 2]\n"
     ]
    }
   ],
   "source": [
    "#Exercise 2\n",
    "# Write a program that takes a list of integers, and \n",
    "# print the list after removing even numbers from it.\n",
    "\n",
    "l = [1,4,5,6,7,8,13,17,2]\n",
    "print(l)\n",
    "i = 0\n",
    "while i < len(l):\n",
    "    if l[i] % 2 != 0:\n",
    "        del l[i]\n",
    "    else:\n",
    "        i += 1\n",
    "print(l)\n",
    "        \n",
    "    "
   ]
  },
  {
   "cell_type": "code",
   "execution_count": null,
   "metadata": {
    "collapsed": true
   },
   "outputs": [],
   "source": [
    "#Exercise 3\n",
    "# Write a program that takes a list of homogeneous elements (len(list) > 1). \n",
    "# The program has to print ASC if the list is sorted in ascending order, \n",
    "# DES if the list is sorted in descending order, NO otherwise.\n",
    "\n",
    "#ls= [1, 3, 5, 6, 7]  #ascending\n",
    "#ls = ['za', 'pa', 'ma', 'de', 'ab']  #descending\n",
    "ls = [2,6,3,8,2]  #no descending/ascending\n",
    "\n",
    "if len(ls) <= 1:\n",
    "    print('list too short')\n",
    "ASC = True\n",
    "for i in range(len(ls) - 1):\n",
    "    if ls[i] > ls[i+1]:\n",
    "        ASC = False\n",
    "        break\n",
    "\n",
    "DES = True\n",
    "\n",
    "# complete the code\n",
    "\n",
    "if ASC:\n",
    "    print(\"ASC\")\n",
    "elif DES:\n",
    "    print(\"DES\")\n",
    "else:\n",
    "    print(\"NO\")\n",
    "\n",
    "    \n"
   ]
  },
  {
   "cell_type": "code",
   "execution_count": 8,
   "metadata": {},
   "outputs": [
    {
     "name": "stdout",
     "output_type": "stream",
     "text": [
      "['a', 'm', 'o', 'r']\n",
      "True\n"
     ]
    }
   ],
   "source": [
    "#Exercise 4\n",
    "# Two words are anagrams if you can rearrange the letters from one to spell the other. \n",
    "# Write a program that takes two strings and returns True if they are anagrams. \n",
    "# (Hint: Words transformed in lists can be modified, thus allowing to remove elements \n",
    "# from the 2nd list for each char of the 1st)\n",
    "\n",
    "w1 = \"roma\"\n",
    "w2 = \"amor\"\n",
    "\n",
    "if len(w1) != len (w2):\n",
    "    print(\"False\")\n",
    "else:\n",
    "    l2 = list(w2)\n",
    "    print(l2)\n",
    "    for c in w1:\n",
    "        if c in l2:\n",
    "            ii = l2.index(c)\n",
    "            del l2[ii]\n",
    "            #print(l2)\n",
    "        else:\n",
    "            break;\n",
    "    if len(l2) != 0:\n",
    "        print(\"False\")\n",
    "    else:\n",
    "        print(\"True\")\n"
   ]
  },
  {
   "cell_type": "code",
   "execution_count": 7,
   "metadata": {},
   "outputs": [
    {
     "name": "stdout",
     "output_type": "stream",
     "text": [
      "ANAGRAM! roma amor\n",
      "ANAGRAM! state taste\n",
      "ANAGRAM! study dusty\n"
     ]
    }
   ],
   "source": [
    "#Exercise 4\n",
    "# Apply this program to find in a list of words the pairs where one is the anagram of the other.\n",
    "\n",
    "lwords = [\"roma\", \"state\", \"taste\", \"study\", \"dusty\", \"amor\", \"lake\"]\n",
    "\n",
    "def anagr(w1,w2):\n",
    "    if len(w1) != len (w2):\n",
    "        return False\n",
    "    else:\n",
    "        l2 = list(w2)\n",
    "        for c in w1:\n",
    "            if c in l2:\n",
    "                ii = l2.index(c)\n",
    "                del l2[ii]\n",
    "                #print(l2)\n",
    "            else:\n",
    "                break;\n",
    "        if len(l2) != 0:\n",
    "            return False\n",
    "        else:\n",
    "            return True\n",
    "        \n",
    "for i in range(len(lwords)-1):\n",
    "    for j in range(i+1, len(lwords)):\n",
    "        if anagr(lwords[i], lwords[j]):\n",
    "            print(\"ANAGRAM!\", lwords[i], lwords[j])\n",
    "        "
   ]
  },
  {
   "cell_type": "code",
   "execution_count": null,
   "metadata": {
    "collapsed": true
   },
   "outputs": [],
   "source": [
    "l = [1,3,5]"
   ]
  }
 ],
 "metadata": {
  "kernelspec": {
   "display_name": "Python 3",
   "language": "python",
   "name": "python3"
  },
  "language_info": {
   "codemirror_mode": {
    "name": "ipython",
    "version": 3
   },
   "file_extension": ".py",
   "mimetype": "text/x-python",
   "name": "python",
   "nbconvert_exporter": "python",
   "pygments_lexer": "ipython3",
   "version": "3.5.2"
  },
  "varInspector": {
   "cols": {
    "lenName": 16,
    "lenType": 16,
    "lenVar": 40
   },
   "kernels_config": {
    "python": {
     "delete_cmd_postfix": "",
     "delete_cmd_prefix": "del ",
     "library": "var_list.py",
     "varRefreshCmd": "print(var_dic_list())"
    },
    "r": {
     "delete_cmd_postfix": ") ",
     "delete_cmd_prefix": "rm(",
     "library": "var_list.r",
     "varRefreshCmd": "cat(var_dic_list()) "
    }
   },
   "types_to_exclude": [
    "module",
    "function",
    "builtin_function_or_method",
    "instance",
    "_Feature"
   ],
   "window_display": false
  }
 },
 "nbformat": 4,
 "nbformat_minor": 2
}
