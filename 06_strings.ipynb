{
 "cells": [
  {
   "cell_type": "markdown",
   "metadata": {},
   "source": [
    "# More about <tt>strings</tt> \n",
    "\n",
    "A string is a sequence of characters. You can access the characters one at a time with the\n",
    "bracket operator, where indexes within brackets starts from 0.  \n",
    "\n",
    "<tt>len</tt>  is a built-in function that returns the number of characters in a string.\n",
    "\n"
   ]
  },
  {
   "cell_type": "code",
   "execution_count": 7,
   "metadata": {},
   "outputs": [
    {
     "name": "stdout",
     "output_type": "stream",
     "text": [
      "n\n",
      "<class 'str'>\n",
      "<class 'str'>\n",
      "len of variable 'fruit': 6\n"
     ]
    }
   ],
   "source": [
    "fruit = 'banana'\n",
    "letter_1st = fruit[0]\n",
    "letter_2nd = fruit[2]\n",
    "\n",
    "print(letter_2nd)\n",
    "\n",
    "print(type(fruit))\n",
    "print(type(letter_1st)) # a character is a string made of a singleton character\n",
    "\n",
    "print('len of variable \\'fruit\\' :', len(fruit))  # note the escaped special character ', where '\\' is the escape character. \n",
    "                                                 # '\\' allows an alternative interpretation on subsequent characters\n",
    "                                                 # in a sequence.  For example \\n (newline)"
   ]
  },
  {
   "cell_type": "markdown",
   "metadata": {},
   "source": [
    "### Different ways to traverse a string with loops\n",
    "\n",
    "In the following we show two traversals of string <tt>fruit</tt> with a <tt>for</tt> and a <tt>while</tt> loop.\n",
    "The string is the following, where the character indexes are shown:\n",
    "\n",
    "![Python string](images/banana.png)\n"
   ]
  },
  {
   "cell_type": "code",
   "execution_count": 4,
   "metadata": {},
   "outputs": [
    {
     "name": "stdout",
     "output_type": "stream",
     "text": [
      "char 0 :  b\n",
      "char 1 :  a\n",
      "char 2 :  n\n",
      "char 3 :  a\n",
      "char 4 :  n\n",
      "char 5 :  a\n",
      "b\n",
      "a\n",
      "n\n",
      "a\n",
      "n\n",
      "a\n"
     ]
    }
   ],
   "source": [
    "for i in range(len(fruit)):\n",
    "    print(\"char\", i, \": \", fruit[i])\n",
    "\n",
    "\n",
    "index = 0\n",
    "while index < len(fruit):\n",
    "    letter = fruit[index]\n",
    "    print(letter)\n",
    "    index = index + 1    "
   ]
  },
  {
   "cell_type": "markdown",
   "metadata": {},
   "source": [
    "The operator **in** of the <tt>for</tt> loop also works for strings, which are ordered sets too:\n",
    "```python\n",
    "      for letter in fruit:\n",
    "```\n",
    "We can thus show an alternative way for traversing strings.\n",
    "\n",
    "We also show the operator **in** and **not in**, to check whether a character is included or not in a given string."
   ]
  },
  {
   "cell_type": "code",
   "execution_count": 6,
   "metadata": {},
   "outputs": [
    {
     "name": "stdout",
     "output_type": "stream",
     "text": [
      "b   a   n   a   n   a   \n",
      "++++++++++++++++++++++++++\n",
      "'n' is in the string at index 2\n",
      "'k' is NOT in the string\n"
     ]
    }
   ],
   "source": [
    "for letter in fruit:\n",
    "    print(letter, \"  \", end='')\n",
    "    \n",
    "print('\\n++++++++++++++++++++++++++')\n",
    "if 'n' in fruit:\n",
    "    print('\\'n\\' is in the string at index', fruit.index('n'))\n",
    "    \n",
    "if 'k' not in fruit:\n",
    "    print(\"\\'k\\' is NOT in the string\")\n",
    "    "
   ]
  },
  {
   "cell_type": "markdown",
   "metadata": {
    "collapsed": true
   },
   "source": [
    "### String concatenation\n",
    "\n",
    "The operator **+** can be used also over strings, to concatenate multiple ones:\n",
    "```python\n",
    "    hello = 'Hi! ' + \"Hello \" + 'World ...'\n",
    "```\n",
    "\n",
    "The following example shows how to use concatenation (string addition) and a `for` loop\n",
    "to generate an abecedarian series (that is, in *alphabetical order*). In Robert McCloskey’s\n",
    "book *Make Way for Ducklings*, the names of the ducklings are Jack, Kack, Lack, Mack, Nack,\n",
    "Ouack, Pack, and Quack. This loop outputs these names in order, except for *“Ouack”* and *“Quack”*, which \n",
    "are misspelled. As an exercise, modify the program to fix this error.\n",
    "\n"
   ]
  },
  {
   "cell_type": "code",
   "execution_count": 1,
   "metadata": {},
   "outputs": [
    {
     "name": "stdout",
     "output_type": "stream",
     "text": [
      "Jack\n",
      "Kack\n",
      "Lack\n",
      "Mack\n",
      "Nack\n",
      "Oack\n",
      "Pack\n",
      "Qack\n"
     ]
    }
   ],
   "source": [
    "# Make Way for Ducklings\n",
    "\n",
    "prefixes = 'JKLMNOPQ'\n",
    "suffix = 'ack'\n",
    "\n",
    "for letter in prefixes:\n",
    "    string_to_print = letter + suffix\n",
    "    print(string_to_print)"
   ]
  },
  {
   "cell_type": "markdown",
   "metadata": {},
   "source": [
    "### String slicing\n",
    "\n",
    "In addition, `[n:m]` returns the part of the string from the *n-th* character to the *m-eth*\n",
    "character, including the first but excluding the last. \n",
    "This means that if you write `hello[1:1]`, the returned string is the empty one `''`.\n",
    "\n",
    "If you omit the first index (before the colon), the slice starts at the beginning of the string.\n",
    "If you omit the second index, the slice goes to the end of the string:"
   ]
  },
  {
   "cell_type": "code",
   "execution_count": 29,
   "metadata": {},
   "outputs": [
    {
     "name": "stdout",
     "output_type": "stream",
     "text": [
      "Hi! Hello World ...\n",
      "\n",
      "[1:1]:  \n",
      "[9:13]:   Wor\n",
      "[:3]:  Hi!\n",
      "[12:]:  rld ...\n"
     ]
    }
   ],
   "source": [
    "hello = 'Hi! ' + \"Hello \" + 'World ...'\n",
    "print(hello + '\\n')\n",
    "\n",
    "print(\"[1:1]: \", hello[1:1])\n",
    "print(\"[9:13]: \", hello[9:13])\n",
    "print(\"[:3]: \", hello[:3])\n",
    "print(\"[12:]: \", hello[12:])"
   ]
  },
  {
   "cell_type": "markdown",
   "metadata": {},
   "source": [
    "### Search a letter\n",
    "\n",
    "Define a function that find and return the index of the first occurrence of a letter:\n",
    "```python\n",
    "   def find(word, letter):\n",
    "```\n"
   ]
  },
  {
   "cell_type": "code",
   "execution_count": 2,
   "metadata": {},
   "outputs": [
    {
     "name": "stdout",
     "output_type": "stream",
     "text": [
      "banana :   found letter 'n' at index: 2\n"
     ]
    }
   ],
   "source": [
    "def find(word, letter):\n",
    "    for i in range(len(word)):\n",
    "        if word[i] == letter:\n",
    "            return i\n",
    "    return -1\n",
    "\n",
    "#    index = 0\n",
    "#    while index < len(word):\n",
    "#        if word[index] == letter:\n",
    "#            return index\n",
    "#        index = index + 1\n",
    "#    return -1\n",
    "\n",
    "fruit = 'banana'\n",
    "print(fruit, \":   found letter \\'n\\' at index:\", find(fruit, 'n'))\n"
   ]
  },
  {
   "cell_type": "markdown",
   "metadata": {},
   "source": [
    "### Exercises\n",
    "\n",
    "1. Modify function `find` to print directly all the occurrences (the indexes) of the second parameter 'letter'. Such kind of functions that don't return nothing are said *void*.\n",
    "\n",
    "2. Since you can check the equality between two strings, e.g., \n",
    "```python\n",
    "     if fruit[0:2] == 'ba':\n",
    "         <do something ...>\n",
    "```\n",
    "define and use a new function that searches the first occurrence of substring:\n",
    "```python\n",
    "     def find_substr(word, substr):\n",
    "         <body>\n",
    "```\n"
   ]
  },
  {
   "cell_type": "code",
   "execution_count": 3,
   "metadata": {},
   "outputs": [
    {
     "name": "stdout",
     "output_type": "stream",
     "text": [
      "2\n",
      "6\n",
      "3\n",
      "5\n"
     ]
    }
   ],
   "source": [
    "# Exercise 1\n",
    "# print directly all the occurrences (indexes) of the second parameter 'letter'\n",
    "\n",
    "def find_print(word, letter):\n",
    "    for i in range(len(word)):\n",
    "        if word[i] == letter:\n",
    "            print(i)\n",
    "\n",
    "\n",
    "find_print(\"automotive\", \"t\")\n",
    "find_print(\"automotive\", \"o\")\n",
    "\n"
   ]
  },
  {
   "cell_type": "code",
   "execution_count": 9,
   "metadata": {},
   "outputs": [
    {
     "data": {
      "text/plain": [
       "7"
      ]
     },
     "execution_count": 9,
     "metadata": {},
     "output_type": "execute_result"
    }
   ],
   "source": [
    "# Exercise 2\n",
    "\n",
    "def find_substr(word, substr):\n",
    "    l = len(substr)\n",
    "    if l > len(word):\n",
    "        return -1\n",
    "    for i in range(len(word) - l + 1):  \n",
    "        if word[i:i+l] == substr:\n",
    "            return i\n",
    "    return -1\n",
    "\n",
    "find_substr(\"automotive\", \"ive\")"
   ]
  },
  {
   "cell_type": "markdown",
   "metadata": {},
   "source": [
    "### The `in` operator\n",
    "\n",
    "The Boolean operator `in` takes 2 strings and returns *True* if the first appears\n",
    "as a substring in the second, *False* otherwise.\n",
    "\n",
    "```python\n",
    "     if 'ban' in fruit:\n",
    "         print('\\'ban\\' is a substring of', fruit)\n",
    "```\n",
    "\n",
    "### String comparison\n",
    "Not only the **+** operator works on strings, but also \n",
    "the **relational operators** used to check conditions.\n",
    "\n",
    "First, we can check if two string are equal or not by using the operators **==** and  **!=**.\n",
    "\n",
    "We can use  **>**,  **<**,  **<=** and **>=**  to compare two strings *lexicographically*, thus using the \n",
    "ASCII value of the characters.\n",
    "\n",
    "Note from the following ASCII table that before we have the number characters (smaller codes), then the uppercase letters (larger codes), and then the lowercase ones (even larger codes).\n",
    "\n",
    "![ASCII table](images/ascii.png)\n",
    "\n",
    "\n",
    "Thus, try to check if the following inequalities hold, and explain why this happens:\n",
    "```python\n",
    "     \"1utoma\" < \"automa\"\n",
    "     \"Automa\" < \"automa\"\n",
    "     \"1utoma\" < \"Automa\"\n",
    "     \"auto\" < \"automobile\"\n",
    "     \"auto \" < \"automobile\"\n",
    "```"
   ]
  },
  {
   "cell_type": "code",
   "execution_count": 9,
   "metadata": {},
   "outputs": [
    {
     "name": "stdout",
     "output_type": "stream",
     "text": [
      "True\n",
      "True\n",
      "True\n",
      "True\n",
      "True\n"
     ]
    }
   ],
   "source": [
    "print(\"1utoma\" < \"automa\")\n",
    "print(\"Automa\" < \"automa\")\n",
    "print(\"1utoma\" < \"Automa\")\n",
    "print(\"auto\" < \"automobile\")\n",
    "print(\"auto \" < \"automobile\")"
   ]
  },
  {
   "cell_type": "markdown",
   "metadata": {},
   "source": [
    "### String methods\n",
    "\n",
    "Strings provide **methods** that perform a variety of useful operations. A method is similar\n",
    "to a function — it takes arguments and returns a value — but the syntax is different. \n",
    "\n",
    "For example, the method **upper** takes a string and returns a new string with all uppercase\n",
    "letters.\n",
    "\n",
    "Given a string variable `word`, instead of the function syntax **`upper(word)`**, it uses the *method syntax* \n",
    "**`word.upper()`**.\n",
    "\n",
    "Look at this page for all the methods for strings:\n",
    "\n",
    "https://docs.python.org/3/library/stdtypes.html#string-methods\n",
    "\n",
    "One example of method for a string object **`str`** are:\n",
    "\n",
    "#### *Method find:*   `str.find(sub[, start[, end]])`\n",
    "\n",
    "Return the lowest index in the string where substring `sub` is found within the slice `s[start:end]`. Therefore, `start` and `end` are interpreted as in *slice notation*. \n",
    "<br>\n",
    "Brackets indicate *optional arguments*. So we have 3 different ways to call the method:\n",
    "```python\n",
    "     str = \"hello\"\n",
    "     str.find(\"he\")\n",
    "     str.find(\"lo\", 2)\n",
    "     str.find(\"lo\", 2, 4)\n",
    "```\n",
    "<br>\n",
    "The method returns -1 if `sub` is not found.\n",
    "\n"
   ]
  },
  {
   "cell_type": "code",
   "execution_count": 4,
   "metadata": {},
   "outputs": [
    {
     "name": "stdout",
     "output_type": "stream",
     "text": [
      "0\n",
      "-1\n",
      "-1\n"
     ]
    }
   ],
   "source": [
    "str = \"hello\"\n",
    "print(str.find(\"he\"))\n",
    "print(str.find(\"lo\", 4))\n",
    "print(str.find(\"lo\", 2, 4))"
   ]
  },
  {
   "cell_type": "markdown",
   "metadata": {},
   "source": [
    "### Exercises\n",
    "\n",
    "1. Define a function, with a single string parameter, that adds *'ing'* at the end of the input string and returns the changed string.  If the given string already ends with *'ing'* then add *'ly'* instead. If the string length of the input string is less than 3, leave it unchanged. (Examples: *'abc' => 'abcing'*,  *'string' => 'stringly'*.\n",
    "2. Write a Python program to create a Caesar encryption.\n",
    "<br>\n",
    "*Note* : In cryptography, a Caesar cipher - also known as Caesar's cipher, the shift cipher, Caesar's code, or Caesar shift - is one of the simplest and most widely known encryption techniques. \n",
    "<br>\n",
    "It is a type of *substitution cipher* in which each letter in the plaintext is replaced by a letter some fixed number of positions down the alphabet. For example, with a left shift of 3, D would be replaced by A, E would become B, and so on. The method is named after Julius Caesar, who used it in his private correspondence.\n",
    "3. Write a Python program to reverse a string. \n",
    "4. Use Python to determine the numerical difference in ASCII code between lowercase and upper case letters. <br>\n",
    "**Hint**: `ord('h')` to get the ASCII code of character *h*, and `chr(105)` to get the character corresponding to the ASCII code *105*."
   ]
  },
  {
   "cell_type": "code",
   "execution_count": 16,
   "metadata": {},
   "outputs": [
    {
     "name": "stdout",
     "output_type": "stream",
     "text": [
      "autoing\n",
      "ex\n",
      "stringly\n"
     ]
    }
   ],
   "source": [
    "# exercise 1\n",
    "\n",
    "# Define a function, with a single string parameter, \n",
    "# that adds 'ing' at the end of the input string and \n",
    "# returns the changed string. \n",
    "# If the given string already ends with 'ing' then add 'ly' instead. \n",
    "# If the string length of the input string is less than 3, leave it unchanged. \n",
    "# (Examples: 'abc' => 'abcing', 'string' => 'stringly'.\n",
    "\n",
    "def ing_function(word):\n",
    "    l = len(word)\n",
    "    if l < 3:\n",
    "        return word\n",
    "    if word[l-3:] == \"ing\":\n",
    "        return word + 'ly'\n",
    "    return word + 'ing'\n",
    "\n",
    "print(ing_function(\"auto\"))\n",
    "print(ing_function(\"ex\"))\n",
    "print(ing_function(\"string\"))"
   ]
  },
  {
   "cell_type": "code",
   "execution_count": 10,
   "metadata": {},
   "outputs": [
    {
     "name": "stdout",
     "output_type": "stream",
     "text": [
      "a left shift of 3, A would be replaced by X, B would become Y, and so on\n"
     ]
    }
   ],
   "source": [
    "# exercise 2 \n",
    "\n",
    "def caesar_encrypt(real_text, step):\n",
    "    cryptText = \"\"\n",
    "    uppercase = \"ABCDEFGHIJKLMNOPQRSTUVWXYZ\"  # 26 chars\n",
    "    lowercase = \"abcdefghijklmnopqrstuvwxyz\"  # 26 chars\n",
    "    \n",
    "    # Complete!! This code changes only the uppercase letters. \n",
    "    # We have to also change lowercase and numerical characters. \n",
    "    for c in real_text:\n",
    "        if c in uppercase:\n",
    "            index = uppercase.find(c)\n",
    "            index = (index + step) % 26   # module 26\n",
    "            cryptText = cryptText + uppercase[index]\n",
    "        else:\n",
    "            cryptText = cryptText + c     # the character is left unchanged\n",
    "    return(cryptText)\n",
    "\n",
    "print(caesar_encrypt(\"a left shift of 3, D would be replaced by A, E would become B, and so on\", -3))"
   ]
  },
  {
   "cell_type": "code",
   "execution_count": 12,
   "metadata": {},
   "outputs": [
    {
     "name": "stdout",
     "output_type": "stream",
     "text": [
      "string example\n",
      "elpmaxe gnirts\n"
     ]
    }
   ],
   "source": [
    "# exercise 3\n",
    "\n",
    "# Write a Python program to reverse a string\n",
    "s = \"string example\"\n",
    "\n",
    "new_s = \"\"\n",
    "for c in s:\n",
    "    new_s = c + new_s\n",
    "print(s)\n",
    "print(new_s)"
   ]
  },
  {
   "cell_type": "code",
   "execution_count": 13,
   "metadata": {},
   "outputs": [
    {
     "name": "stdout",
     "output_type": "stream",
     "text": [
      "32\n",
      "32\n",
      "32\n",
      "Ciao Ciao\n",
      "Ciao, Ciao\n"
     ]
    }
   ],
   "source": [
    "# exercise 4\n",
    "\n",
    "# ord() : from string to numerical code\n",
    "print(ord('a') - ord('A'))\n",
    "print(ord('z') - ord('Z'))\n",
    "\n",
    "# chr() : from numerical code to string\n",
    "print(\"Ciao\" + ' ' + \"Ciao\")\n",
    "print(\"Ciao\" + chr(44) + ' ' + \"Ciao\")"
   ]
  }
 ],
 "metadata": {
  "kernelspec": {
   "display_name": "Python 3",
   "language": "python",
   "name": "python3"
  },
  "language_info": {
   "codemirror_mode": {
    "name": "ipython",
    "version": 3
   },
   "file_extension": ".py",
   "mimetype": "text/x-python",
   "name": "python",
   "nbconvert_exporter": "python",
   "pygments_lexer": "ipython3",
   "version": "3.5.2"
  },
  "varInspector": {
   "cols": {
    "lenName": 16,
    "lenType": 16,
    "lenVar": 40
   },
   "kernels_config": {
    "python": {
     "delete_cmd_postfix": "",
     "delete_cmd_prefix": "del ",
     "library": "var_list.py",
     "varRefreshCmd": "print(var_dic_list())"
    },
    "r": {
     "delete_cmd_postfix": ") ",
     "delete_cmd_prefix": "rm(",
     "library": "var_list.r",
     "varRefreshCmd": "cat(var_dic_list()) "
    }
   },
   "types_to_exclude": [
    "module",
    "function",
    "builtin_function_or_method",
    "instance",
    "_Feature"
   ],
   "window_display": false
  }
 },
 "nbformat": 4,
 "nbformat_minor": 2
}
