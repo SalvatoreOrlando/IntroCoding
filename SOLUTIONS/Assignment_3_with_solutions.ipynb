{
 "cells": [
  {
   "cell_type": "markdown",
   "metadata": {
    "collapsed": true
   },
   "source": [
    "# Assignment 3\n",
    "\n",
    "#### Ex1\n",
    "Write a function `check_eq(l1, l2)` that takes two lists, and returns *True* if they are of the same length and contain the same elements. Return *False* otherwise."
   ]
  },
  {
   "cell_type": "code",
   "execution_count": 1,
   "metadata": {},
   "outputs": [
    {
     "name": "stdout",
     "output_type": "stream",
     "text": [
      "l1 == l2: False\n",
      "l1 == l3: True\n",
      "l1: [1, 2, 4, 'a']\n",
      "l2: [2, 1, 3, 'a']\n",
      "l3: [1, 'a', 4, 2]\n"
     ]
    }
   ],
   "source": [
    "def check_eq(l1, l2):\n",
    "    if len(l1) != len(l2):\n",
    "        return False\n",
    "    tmp = list(l2)  # this creates a copy of list l2, so we can modify tmp without changing the content of l2\n",
    "    for e in l1:\n",
    "        if e in tmp:\n",
    "            tmp.remove(e)\n",
    "        else:\n",
    "            return False\n",
    "    return True\n",
    "\n",
    "l1 = [1,2,4,'a']\n",
    "l2 = [2,1,3,'a']\n",
    "\n",
    "l3 = [1,'a',4,2]\n",
    "print(\"l1 == l2:\", check_eq(l1, l2))\n",
    "print(\"l1 == l3:\", check_eq(l1, l3))\n",
    "print(\"l1:\", l1)\n",
    "print(\"l2:\", l2)\n",
    "print(\"l3:\", l3)\n"
   ]
  },
  {
   "cell_type": "markdown",
   "metadata": {},
   "source": [
    "#### Ex 2\n",
    "Write a function `remove_numb(li)`  that takes a list and returns the same list after removing all numbers.\n",
    "*HINT: see the following example that check the type of variables and elements of lists:*\n",
    "```python\n",
    "a = 1\n",
    "b = 0.5\n",
    "c = ['example', 2]\n",
    "print(isinstance(a, int))\n",
    "print(isinstance(b, float))\n",
    "print(isinstance(c, list))\n",
    "print(isinstance(c[0], str))\n",
    "```"
   ]
  },
  {
   "cell_type": "code",
   "execution_count": 3,
   "metadata": {},
   "outputs": [
    {
     "name": "stdout",
     "output_type": "stream",
     "text": [
      "[1, 5, 'oo', 'b']\n",
      "[1, 5]\n"
     ]
    }
   ],
   "source": [
    "def remove_numb(li):\n",
    "    i = 0\n",
    "    while i < len(li):\n",
    "        if isinstance(li[i], int):\n",
    "            del li[i]  # if we remove the i-th element it is replaced by the next one (i+1) if exists \n",
    "        else:\n",
    "            i = i + 1\n",
    "\n",
    "li = [1, 5, 'oo', 'b']\n",
    "print(li)\n",
    "remove_numb(li)\n",
    "print(li)"
   ]
  },
  {
   "cell_type": "markdown",
   "metadata": {},
   "source": [
    "#### Ex 3\n",
    "Write a function `check_ord(list)` that takes a list of homogeneous elements where `len(list) > 1`. The program has to return `'ASC'` if the list is sorted in ascending order, `'DES'` if the list is sorted in descending order, `'NO'` otherwise."
   ]
  },
  {
   "cell_type": "code",
   "execution_count": 5,
   "metadata": {},
   "outputs": [
    {
     "name": "stdout",
     "output_type": "stream",
     "text": [
      "ASC\n",
      "NO\n",
      "NO\n",
      "NO\n",
      "ASC\n",
      "NO\n",
      "\n",
      "ASC-DES\n"
     ]
    }
   ],
   "source": [
    "def check_ord(list):\n",
    "    if len(list) <= 1:\n",
    "        return 'NO'\n",
    "    \n",
    "    asc = True\n",
    "    for i in range(len(list)-1):\n",
    "        if list[i] > list[i+1]:\n",
    "            asc = False\n",
    "            break\n",
    "            \n",
    "    des = True\n",
    "    for i in range(len(list)-1):\n",
    "        if list[i] < list[i+1]:\n",
    "            des = False\n",
    "            break\n",
    "\n",
    "    if asc and des:\n",
    "        return 'ASC-DES'\n",
    "    if asc:\n",
    "        return 'ASC'\n",
    "    if des:\n",
    "        return 'DES'\n",
    "    \n",
    "    return 'NO'\n",
    "\n",
    "    \n",
    "li1 = ['a', 'b', 'c']\n",
    "li2 =  ['h', 'a', 'b', 'c']\n",
    "li3 =  [1]\n",
    "li4 = []\n",
    "li5 = [1, 8, 9]\n",
    "li6 = [1, 9, 10, 2]\n",
    "li7 = [1, 1, 1, 1]\n",
    "\n",
    "print(check_ord(li1))\n",
    "print(check_ord(li2))\n",
    "print(check_ord(li3))\n",
    "print(check_ord(li4))\n",
    "print(check_ord(li5))\n",
    "print(check_ord(li6))\n",
    "print()\n",
    "print(check_ord(li7))"
   ]
  },
  {
   "cell_type": "markdown",
   "metadata": {},
   "source": [
    "#### Ex 4\n",
    "Write a function `rev_list(li)` that creates and returns a list with the same elements of the input list appearing in reverse order. "
   ]
  },
  {
   "cell_type": "code",
   "execution_count": 16,
   "metadata": {},
   "outputs": [
    {
     "name": "stdout",
     "output_type": "stream",
     "text": [
      "[1, 4, 6, 2.3, 'a', 3, 8]\n",
      "[8, 3, 'a', 2.3, 6, 4, 1]\n",
      "['h', 'a', 'b', 'c']\n",
      "['c', 'b', 'a', 'h']\n"
     ]
    }
   ],
   "source": [
    "def swap(li, i, j):\n",
    "    tmp = li[i]\n",
    "    li[i] = li[j]\n",
    "    li[j] = tmp\n",
    "\n",
    "def rev_list(li):\n",
    "    for i in range(len(li) // 2):\n",
    "        swap(li, i, -1-i)\n",
    "        \n",
    "li1 = [1,4,6,'a',3,8]\n",
    "li1 = [1,4,6,2.3,'a',3,8]\n",
    "\n",
    "print(li1)\n",
    "rev_list(li1)\n",
    "print(li1)\n",
    "\n",
    "print(li2)\n",
    "rev_list(li2)\n",
    "print(li2)\n"
   ]
  }
 ],
 "metadata": {
  "kernelspec": {
   "display_name": "Python 3",
   "language": "python",
   "name": "python3"
  },
  "language_info": {
   "codemirror_mode": {
    "name": "ipython",
    "version": 3
   },
   "file_extension": ".py",
   "mimetype": "text/x-python",
   "name": "python",
   "nbconvert_exporter": "python",
   "pygments_lexer": "ipython3",
   "version": "3.5.2"
  }
 },
 "nbformat": 4,
 "nbformat_minor": 2
}
