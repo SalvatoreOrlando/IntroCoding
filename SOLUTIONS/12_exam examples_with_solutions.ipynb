{
 "cells": [
  {
   "cell_type": "markdown",
   "metadata": {},
   "source": [
    "# Some questions\n",
    "\n",
    "In the following we discuss some simple questions and exercises.\n",
    "\n",
    "1. Find a numerical binary encoding (that minimizes the number of bits used) of the following list of judgements: \n",
    "<ul>\n",
    "<li>'very low' \n",
    "<li>'low' \n",
    "<li>'medium'\n",
    "<li>'high'\n",
    "<li>'very high'\n",
    "</ul>\n",
    "We aim at maintaning the judgement ordering in the encoding.\n",
    "> Since the elements are $5$, we need $3$ bits to represent the values ($2^3$ possible encodings). \n",
    "Indeed, if we need to encode $n$ values, we need at least $\\lceil \\log_2 n \\rceil$ bits. A possible encoding that maintains the relative ordering is the following:\n",
    "<br/>\n",
    "$000 \\rightarrow$ 'very low', $001 \\rightarrow$ 'low',  $010 \\rightarrow$ 'medium', $011 \\rightarrow$ 'high', and $100 \\rightarrow$  'very high'. The other $3$ of $8$ configurations ($101$, $110$, $111$) are unused. \n",
    ">\n",
    "> Note that the numerical relationships $<$, $>$, $=$ between the numerical codes match the ordering of the original judgements. \n",
    "\n",
    "2. How many characters can be represented in 1 GB (Giga Bytes)?\n",
    "> The answer depends on the encoding length per character. First, 1 KB corresponds to $2^{10}$ bytes (1024, about 1000).\n",
    "1 MB corresponds to $2^{20}$ bytes, which is about 1 million bytes. So, if we use ASCII code, where each character is encoded as a single byte, we can represent a text of about 1 Billion characters (1 GB = $2^{30}$).\n",
    "\n",
    "3. What is the value of a digit, represented in positional notation in base $B$ as a sequence of 5 symbols: $d_4 d_3 d_2 d_1 d_0$?\n",
    "> $\\sum_{1=0}^4 d_i \\cdot B^i  \\ \\ \\ \\ = \\ \\ \\ \\ d_0 \\cdot B^0 + d_1 \\cdot B^1 + d_2 \\cdot B^2 + d_3 \\cdot B^3 + d_4 \\cdot B^4 $.\n",
    "\n",
    "4. What is the value of the binary digit $101011$?\n",
    "> $1 + 2 + 8 + 32 = 43$. \n",
    "\n",
    "5. Why programming languages are *formal languages*?\n",
    "> Because they adopt strict syntax rules, concerning the tokens of the language, the operators allowed,  and the structure. The final goal is to avoid ambiguity.\n",
    "\n",
    "6. What is the main difference among high-level language, assembly language, and machine language? Relate the answer to the the concept of abstraction. \n",
    "> The machine languages is at the lowest level of abstraction. It is composed of the base instructions (e.g., arithmetic operations) that a CPU can interpret, and are **binary encoded**.\n",
    "The assembly language concerns the mnemonic representation of machine instructions, and so it is placed at an higher level of abstraction.\n",
    "High-level languages make *easier* to program computers, since they *abstract* from the specific machine language instruction set, thanks to a compiler or interpreter (a special software that translate from a given high-level language into a specific machine language).\n",
    "\n",
    "7. What is the *control flow* of a program. For example, what does it happen when an `if` statement is executed, or a *function* is called.\n",
    "> The *control flow* is the order in which the individual statements of a program are executed. Normally, the instruction are executed following the ordered sequencing of successive commands.\n",
    "When the control flow of the program arrives at executing an `if` statement, the control flow can follow either the 1st or the 2nd branch (`else`), depending on the Boolean result of the corresponding test. When we call a function, the control flow jumps to the first statement of the called function, and upon return, the control flow comes back to resume the calling program from where it left off.\n",
    " \n",
    "8. The process of *digitization* requires to *discretise* a signal (analog signal sampled at regular time intervals) and to *quantise* (samples transformed into a fixed set of numbers of a given length). Why we can loose quality when we digitise an analog signal?\n",
    "> The quality reduction happens when the intervals of sampling are too long and the prescribed set of discrete values for quantising is too small.\n",
    "The number of pixels of a digital images is related to the discretization of the original image (less pixels imply lower quality), while the bits used to quantise each pixel allows for storing the pixel colors (less bits imply lower quality). "
   ]
  },
  {
   "cell_type": "markdown",
   "metadata": {},
   "source": [
    "## Exercise 1\n",
    "\n",
    "Compare the behaviour of the two programs below, and explain what are the possible output on the screen (make hypotheses on the possible input):\n",
    "\n",
    "```python\n",
    "      # program 1\n",
    "      v1 = input('Give me the 1st number: ')    # input a string composed of chars 1,...,9,0\n",
    "      v2 = input('Give me the 2nd number: ')    # input a string composed of chars 1,...,9,0\n",
    "      v_out = v1 + v2\n",
    "      print(v_out)\n",
    "```\n",
    "\n",
    "\n",
    "```python\n",
    "      # program 2\n",
    "      v1 = input('Give me the 1st number: ')    # input a string composed of chars 1,...,9,0\n",
    "      v2 = input('Give me the 2nd number: ')    # input a string composed of chars 1,...,9,0\n",
    "      v1 = int(v1)\n",
    "      v2 = int(v2)\n",
    "      v_out = v1 + v2\n",
    "      print(v_out)\n",
    "```\n",
    "> Supposing that a user inputs first '22' and then '22'. Since the numbers are stored as string in *program 1*, then the operand **+** concatenates the two strings, and thus the final output is the string '2222'.\n",
    "In case of *program 1*, the two strings are first transformed into two integer values, in turn stored as  binary numbers, on which arithmetic operations can be applied. Then the operand **+** sums the two integers, and thus the output is '44' (indeed, the string '44', produced by function `print()`."
   ]
  },
  {
   "cell_type": "markdown",
   "metadata": {},
   "source": [
    "## Exercises 2\n",
    "\n",
    "Given a list referenced by a variable `var_l`, \n",
    "the list method `var_l.insert(i, x)` inserts an item `x` at a given position `i`, increasing the length of the list by one. The first argument `i` is thus the index of the (old) element before which to insert  `x`. Note that `var_l.insert(len(var_l), x)` is equivalent to appending `x` to the end of the list `var_l`.\n",
    "\n",
    "We have to write a function that inserts a number in a list of integers, sorted in ascending ordering, by keeping the list sorted. \n",
    "For example, given a list `[1,4,7,9]`, if we insert `8` the list becomes `[1,4,7,8,9]` (**'8' inserted in position 3**), and if we insert `4`, the list becomes `[1,4,4,7,8,9]` (**'4'  inserted in position 2**).\n",
    "\n",
    "Comment and complete the following function (by specifying the *test* of the `if` statement nested in the `for`). In which case does the control arrive at executing the statement at line 7? \n",
    "\n",
    "```python\n",
    "1. def insert_sorted(x, var_l):\n",
    "2.     for i in range(len(var_l)):\n",
    "3.        if ............. :\n",
    "4.             var_l.insert(i, x)\n",
    "5.             print('inserted in pos ', i)\n",
    "6.             return\n",
    "7.     var_l.append(x) # the list is extended by appendig x at the end\n",
    "8.     print('inserted at the end of the list')\n",
    "9.     return\n",
    "```\n",
    "\n",
    "> The test is \n",
    "```python\n",
    "   x < var_l[i] \n",
    "```\n",
    "because to insert at position `i` we have to check whether `x` is smaller than the element at position `i`. \n",
    "<br/> \n",
    "The insertion of `x` causes the original elements of the list, from position `i` to the end of the list, to be shifted to the right of one position.\n",
    "<br/> \n",
    "Finally, the control arrives at line 7 if for no items of the list results to be greater than the `x` to insert.\n"
   ]
  },
  {
   "cell_type": "code",
   "execution_count": 1,
   "metadata": {},
   "outputs": [
    {
     "name": "stdout",
     "output_type": "stream",
     "text": [
      "inserted in pos  4\n",
      "[1, 2, 3, 4, 5, 7]\n",
      "inserted at the end of the list\n",
      "[1, 2, 3, 4, 5, 7, 7]\n",
      "inserted at the end of the list\n",
      "[1, 2, 3, 4, 5, 7, 7, 10]\n"
     ]
    }
   ],
   "source": [
    "def insert_sorted(x, var_l):\n",
    "    for i in range(len(var_l)):\n",
    "        if x < var_l[i]:\n",
    "            var_l.insert(i, x)\n",
    "            print('inserted in pos ', i)\n",
    "            return\n",
    "    var_l.insert(len(var_l), x)  #  append(x)\n",
    "    print('inserted at the end of the list')\n",
    "    \n",
    "var = [1,2,3,4,7]\n",
    "insert_sorted(5, var)\n",
    "print(var)\n",
    "insert_sorted(7, var)\n",
    "print(var)\n",
    "insert_sorted(10, var)\n",
    "print(var)"
   ]
  },
  {
   "cell_type": "markdown",
   "metadata": {},
   "source": [
    "## Exercise 3\n",
    "\n",
    "Given the following program, discuss what it computes and finally, *by commenting line by line*,  detail how the control flows on the program statements.\n",
    "\n",
    "How should the program change if the **for** statement was: `for i in range(len(v)):`\n",
    "```python\n",
    "v = [4, 8, 25, 1]\n",
    "m = v[0]\n",
    "for el in v:\n",
    "    if el > m:\n",
    "         m = el\n",
    "print(m)\n",
    "```\n",
    "\n",
    "> The program computes and prints the maximum value in the list.\n",
    "The variable `m` is initialized to the first element of the list. Then the `for` statement scans the list, and if the current element is greater that `m`, the old value of  `m` is replaced by the new maximum value.\n",
    "\n",
    "> The new program would be:\n",
    "```python\n",
    "v = [4, 8, 25, 1]\n",
    "m = v[0]\n",
    "for i in range(len(v)):\n",
    "    if v[i] > m:\n",
    "         m = v[i]\n",
    "print(m)\n",
    "```"
   ]
  },
  {
   "cell_type": "code",
   "execution_count": 2,
   "metadata": {},
   "outputs": [
    {
     "name": "stdout",
     "output_type": "stream",
     "text": [
      "25\n"
     ]
    }
   ],
   "source": [
    "v = [4, 8, 25, 1]\n",
    "m = v[0]\n",
    "for i in range(len(v)):\n",
    "    if v[i] > m:\n",
    "         m = v[i]\n",
    "print(m)"
   ]
  },
  {
   "cell_type": "markdown",
   "metadata": {},
   "source": [
    "## Exercise 4\n",
    "\n",
    "Given the following code, trace the execution step by step (showing the values assumed by the variables involved for line executed), and determine why the code does not work (generating an error at run time).\n",
    "\n",
    "Modify the code, and determine the last value taken by variable `a`:\n",
    "\n",
    "```python\n",
    "1. l = ['1', '2', '3', '4']\n",
    "2. i = 0\n",
    "3. s = 0\n",
    "4. while i <= len(l):\n",
    "5.     v = int(l[i])\n",
    "6.     s = s + v\n",
    "7.     i = i + 1\n",
    "8. a = s/len(l)\n",
    "```\n",
    "\n",
    "> The error concerns the bound of the while loop. To avoid a list index out of range, the test should be `i < len(l)`.\n",
    ">\n",
    "The trace of the correct program is:\n",
    ">\n",
    "1 variable `l` (list) is initialized with  `['1', '2', '3', '4']`<br/>\n",
    "2 variable `i` (=0) is initialized<br/>\n",
    "3 variable `s` (=0) is initialized<br/>\n",
    "4 the test of `while` succeeds, since `0 < 4`<br/>\n",
    "5 `v` takes the integer corresponding to `l[0]='1'`<br/>\n",
    "6 `s` is updated and assumes the value `1`<br/>\n",
    "7 `i` is incremented and assumes the value `1`<br/>\n",
    "4 the test of `while` succeeds, since `1 < 4`<br/>\n",
    "5 `v` takes the integer corresponding to `l[1]='2'`<br/>\n",
    "6 `s` is updated and assumes the value `3`<br/>\n",
    "7 `i` is incremented and assumes the value `2`<br/>\n",
    "4 the test of `while` succeeds, since `2 < 4`<br/>\n",
    "5 `v` takes the integer corresponding to `l[2]='3'`<br/>\n",
    "6 `s` is updated and assumes the value `6`<br/>\n",
    "7 `i` is incremented and assumes the value `3`<br/>\n",
    "4 the test of `while` succeeds, since `3 < 4`<br/>\n",
    "5 `v` takes the integer corresponding to `l[3]='4'`<br/>\n",
    "6 `s` is updated and assumes the value `10`<br/>\n",
    "7 `i` is incremented and assumes the value `4`<br/>\n",
    "4 the test of `while` fails, since  `4 < 4` is *False*<br/>\n",
    "8 `a` is created and takes the value `10/4 = 2.5`<br/>\n",
    "\n"
   ]
  },
  {
   "cell_type": "code",
   "execution_count": 4,
   "metadata": {},
   "outputs": [
    {
     "name": "stdout",
     "output_type": "stream",
     "text": [
      "0\n",
      "1\n",
      "2\n",
      "3\n",
      "2.5\n"
     ]
    }
   ],
   "source": [
    "l = ['1', '2', '3', '4'] # index of the list from 0 to len(l)-1\n",
    "i = 0\n",
    "s = 0\n",
    "while i <= len(l)-1:\n",
    "    print(i)\n",
    "    v = int(l[i])\n",
    "    s = s + v\n",
    "    i = i+1\n",
    "a = s/len(l)\n",
    "print(a)"
   ]
  },
  {
   "cell_type": "markdown",
   "metadata": {},
   "source": [
    "## Exercise 5\n",
    "\n",
    "3.\tDiscuss the execution of the following program (showing the values assumed by the variables involved): \n",
    "```python\n",
    "        cnt = 0\n",
    "        sum = 0\n",
    "        for i in range(6):\n",
    "            if (i+1)%2 == 1:\n",
    "                sum = sum + (i+1)\n",
    "                cnt += 1\n",
    "\n",
    "        for j in range(7):         \n",
    "            if j%2 == 0:\n",
    "                cnt +=1\n",
    "                sum += j\n",
    "        print(cnt, sum)\n",
    "```\n",
    "\n",
    "> The first `for` loops over the interval `[0,5]`, and the second over `[0,6]`.\n",
    "<br/>\n",
    "The first `for` uses in the body the expression `i+1`: in practice, it loops over `[1,6]`.\n",
    "<br/>\n",
    "The first `for` does something only for odd values `(i+1)` in `[1,6]`, and thus in practice the values `(1,3,5)`. \n",
    "<br/>\n",
    "The second `for` does something only for even values `i` in `[0,6]`, and thus in practice the values `(0,2,4,6)`.  \n",
    "<br/>\n",
    "So `cnt = 7`, and `sum = 1+3+5+0+2+4+6 = 21`."
   ]
  },
  {
   "cell_type": "markdown",
   "metadata": {},
   "source": [
    "## Exercise 6\n",
    "\n",
    "Write a function that given a positive integer **N**, returns the largest positive integer  **x**  such that  **x<sup>3</sup> <N**."
   ]
  },
  {
   "cell_type": "code",
   "execution_count": 8,
   "metadata": {},
   "outputs": [
    {
     "name": "stdout",
     "output_type": "stream",
     "text": [
      "2\n",
      "2\n"
     ]
    }
   ],
   "source": [
    "# Solution 1\n",
    "def check_largest_x(N):\n",
    "    for x in range(1, N):\n",
    "        if not (x**3 < N):\n",
    "            break\n",
    "    return x-1\n",
    "\n",
    "# Solution 2\n",
    "def check_largest_x_alternative(N):\n",
    "    x = N ** (1/3)\n",
    "    x = int(x) # return the integer part of the number. This correspond to the floor math function.\n",
    "    if x ** 3 == N:\n",
    "        return x-1\n",
    "    else:\n",
    "        return x\n",
    "\n",
    "print(check_largest_x(27))\n",
    "print(check_largest_x_alternative(27))"
   ]
  },
  {
   "cell_type": "markdown",
   "metadata": {},
   "source": [
    "## Exercise 7\n",
    "\n",
    "Write a function that, given a list of integers sorted in decreasing order, and an element to search, locate the element returning the position if found, or -1 otherwise.\n"
   ]
  },
  {
   "cell_type": "code",
   "execution_count": 9,
   "metadata": {},
   "outputs": [
    {
     "name": "stdout",
     "output_type": "stream",
     "text": [
      "el = 4  :  7\n",
      "el = 3  :  8\n",
      "el = 11  :  -1\n",
      "el = 7  :  1\n",
      "*** LINEAR SEARCH VERSIONS ******\n",
      "el = 7  :  1\n",
      "el = 7  :  1\n",
      "el = 7  :  1\n"
     ]
    }
   ],
   "source": [
    "# Using python 'in' operator and the 'index' list method \n",
    "def search(ll, el):\n",
    "    if el in ll:\n",
    "        return ll.index(el)\n",
    "    else:\n",
    "        return -1\n",
    "\n",
    "# Linear search   \n",
    "def search1(ll, el):\n",
    "    for i in range(len(ll)):\n",
    "        if el == ll[i]:\n",
    "            return i\n",
    "    return -1\n",
    "\n",
    "# Linear search   \n",
    "def search2(ll, el):\n",
    "    for (i, e) in enumerate(ll):\n",
    "        if e == el:\n",
    "            return i\n",
    "    return -1\n",
    "\n",
    "\n",
    "\n",
    "# Binary search\n",
    "def search_bin(ll, el):\n",
    "    lb = 0\n",
    "    ub = len(ll)\n",
    "    while True:\n",
    "        if ub == lb:\n",
    "            return -1\n",
    "        mid = (ub+lb)//2\n",
    "        if ll[mid] == el:\n",
    "            #return mid\n",
    "            i = mid   # the following while loop to find the first occurrence of el\n",
    "            while i >= 0:\n",
    "                if ll[i] == el:\n",
    "                    i = i-1\n",
    "                else:\n",
    "                    break\n",
    "            return i+1\n",
    "        \n",
    "        if el < ll[mid]:\n",
    "            # go to the right hand, due to the decreasing order\n",
    "            lb = mid+1\n",
    "        else:  # el > ll[mid]\n",
    "            # go to the left hand, due to the decreasing order\n",
    "            ub = mid\n",
    "\n",
    "\n",
    "            \n",
    "l = [10, 7, 7, 7, 7, 7, 6, 4, 3, 2, 1]\n",
    "    \n",
    "\n",
    "print(\"el =\", 4, \" : \", search_bin(l, 4))\n",
    "print(\"el =\", 3, \" : \", search_bin(l, 3))\n",
    "print(\"el =\", 11, \" : \", search_bin(l,11))\n",
    "print(\"el =\", 7, \" : \", search_bin(l,7))\n",
    "print(\"*** LINEAR SEARCH VERSIONS ******\")\n",
    "print(\"el =\", 7, \" : \", search(l, 7))\n",
    "print(\"el =\", 7, \" : \", search1(l, 7))\n",
    "print(\"el =\", 7, \" : \", search2(l, 7))\n"
   ]
  },
  {
   "cell_type": "markdown",
   "metadata": {},
   "source": [
    "## Exercise 8\n",
    "\n",
    "Write a function that given a list **L**, checks whether all the elements are numbers.\n",
    "Moreover, if they are numbers in the set  **N** = *{0,1, …, 8,9}*, the function modifies the input list with the same elements in reverse order. \n",
    "\n",
    "The function returns -1 is the first test above fails, and returns 1 if the second test fails. Finally, it returns 2 if the second test succeeds, and the list thus contains only numbers in the set **N**. In the last case, invert also the input list.\n",
    "\n",
    "(*Hint: to check if **n** is an integer, use the function:  `isinstance(n, int)`)*"
   ]
  },
  {
   "cell_type": "code",
   "execution_count": 16,
   "metadata": {
    "scrolled": true
   },
   "outputs": [
    {
     "name": "stdout",
     "output_type": "stream",
     "text": [
      "0 -1\n",
      "1 -2\n",
      "2 : [8, 7, 5, 4, 1]\n",
      "-1 : [0.1, 1, '02']\n",
      "[8, 7, 5, 4, 1]\n",
      "[1, 4, 5, 7, 8]\n"
     ]
    }
   ],
   "source": [
    "def chk(ll):\n",
    "    for el in ll:\n",
    "        if not isinstance(el, int):\n",
    "            return -1\n",
    "    # at this point, we are sure that are all integers\n",
    "    \n",
    "    for el in ll:\n",
    "        if not (0 <= el <= 9):\n",
    "            return 1\n",
    "    # at this point, we are sure that are all integers between 0 and 9\n",
    "    \n",
    "    # invert the list and return 2\n",
    "    # Note that to swap the contents of  ll[i] and ll[-1-i], we need to introduce a temporary\n",
    "    # variable tmp\n",
    "    for i in range(len(ll)//2):\n",
    "        tmp = ll[i]\n",
    "        ll[i] = ll[-1-i]\n",
    "        ll[-1-i] = tmp\n",
    "        # print(i, -1-i)\n",
    "    return 2\n",
    "\n",
    "l = [1,4,5,7,8]\n",
    "l1 = [0.1, 1, '02']\n",
    "\n",
    "print(chk(l), \":\", l)\n",
    "print(chk(l1), \":\", l1)\n",
    "\n",
    "#print(l)\n",
    "#l = l[::-1]  # this invert a list, and riassign to variable l\n",
    "#print(l) \n",
    "\n"
   ]
  },
  {
   "cell_type": "markdown",
   "metadata": {},
   "source": [
    "## Exercise 9\n",
    "\n",
    "Write a function that given a list of dictionaries, returns a new dictionary resulting from the merging of the two. \n",
    "Consider, for example, to have two dictionaries to combine. \n",
    "If the element come from the 1st disctionary, the element added to the merged dictionary should be a list  `merged[key] = [[0, value]]`, and `merged[key] = [[1, value]]` otherwise.\n",
    "In case the two dictionaries share a key, the new merged dictionary should contain both values as a list of lists: `merged[shared_key] = [[0, value_1], [1, value_2]]`.\n",
    "\n",
    "*(Hint: You can scan all the keys of a dictionary **b** with*\n",
    "```python \n",
    "    for k in b:\n",
    "```\n",
    "*You can check if a key **k** is (is not) in a dictionary with*\n",
    "```python \n",
    "   if k in b:   (if k not in b:)\n",
    "```    \n",
    "*)*"
   ]
  },
  {
   "cell_type": "code",
   "execution_count": 10,
   "metadata": {},
   "outputs": [
    {
     "name": "stdout",
     "output_type": "stream",
     "text": [
      "{24: 5, 1: 67, 2: 10, 5: 1}\n",
      "{24: [[3, 5]], 1: [[1, 56], [2, 4], [3, 7]], 2: [[1, 10]], 5: [[2, 1]]}\n"
     ]
    }
   ],
   "source": [
    "# Merge a list of dictionaries where the values are INTEGERS. In this case, we merge by summing up \n",
    "# the values sharing the SAME KEY.\n",
    "# NOTE: a key found in more than one dictiorary must be inserted once, \n",
    "# and the associated values inserted in the merged dictionary must be the SUM \n",
    "# of all the values associated with the key  \n",
    "def merge(list_of_dict):\n",
    "    merged = {}\n",
    "    for d in list_of_dict:\n",
    "        for k in d:\n",
    "            if k in merged:\n",
    "                merged[k] = merged[k] + d[k]\n",
    "            else:\n",
    "                merged[k] = d[k]\n",
    "    return merged\n",
    "\n",
    "\n",
    "\n",
    "# Merge a list of dictionaries. \n",
    "# The keys found in more than one dictiorary are inserted once, \n",
    "# and the associated values inserted in the merged dictionary are LISTS of LISTS  \n",
    "# as requested:\n",
    "# merged[shared_key] = [[i, value_i], [j, value_j], [k, value_k]]\n",
    "# the indexes i,j,k are the index of the various dictionaries in the input parameter \n",
    "# list_of_dict\n",
    "def merge_list(list_of_dict):\n",
    "    merged = {}\n",
    "    i = 0\n",
    "    for d in list_of_dict:\n",
    "        for k in d:\n",
    "            if k in merged:\n",
    "                merged[k].append([i+1, d[k]])\n",
    "            else:\n",
    "                merged[k] = [[i+1, d[k]]]\n",
    "        i = i+1\n",
    "    return merged\n",
    "\n",
    "d1 ={1:56, 2:10}\n",
    "d2 = {1:4, 5:1}\n",
    "d3 = {1:7, 24:5}\n",
    "\n",
    "list_d = [d1,d2,d3]\n",
    "\n",
    "print(merge(list_d))\n",
    "\n",
    "print(merge_list(list_d))\n",
    "\n",
    "        "
   ]
  }
 ],
 "metadata": {
  "kernelspec": {
   "display_name": "Python 3",
   "language": "python",
   "name": "python3"
  },
  "varInspector": {
   "cols": {
    "lenName": 16,
    "lenType": 16,
    "lenVar": 40
   },
   "kernels_config": {
    "python": {
     "delete_cmd_postfix": "",
     "delete_cmd_prefix": "del ",
     "library": "var_list.py",
     "varRefreshCmd": "print(var_dic_list())"
    },
    "r": {
     "delete_cmd_postfix": ") ",
     "delete_cmd_prefix": "rm(",
     "library": "var_list.r",
     "varRefreshCmd": "cat(var_dic_list()) "
    }
   },
   "types_to_exclude": [
    "module",
    "function",
    "builtin_function_or_method",
    "instance",
    "_Feature"
   ],
   "window_display": false
  }
 },
 "nbformat": 4,
 "nbformat_minor": 2
}
