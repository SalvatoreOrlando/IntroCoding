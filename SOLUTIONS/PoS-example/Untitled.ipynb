{
 "cells": [
  {
   "cell_type": "code",
   "execution_count": 4,
   "metadata": {},
   "outputs": [
    {
     "name": "stdout",
     "output_type": "stream",
     "text": [
      "True\n",
      "True\n"
     ]
    }
   ],
   "source": [
    "a = 3\n",
    "b = 4 \n",
    "c = 5\n",
    "\n",
    "def chk_rett(a,b,c):\n",
    "    if a >= b and a >= c:\n",
    "        if a**2 == b**2 + c**2:\n",
    "            return True\n",
    "    if b >= a and b >= c:\n",
    "        if b**2 == a**2 + c**2:\n",
    "            return True\n",
    "    if c >= a and c >= b:\n",
    "        if c**2 == a**2 + b**2:\n",
    "            return True\n",
    "    return False\n",
    "\n",
    "def chk_rett1(lista):\n",
    "    m = max(lista)\n",
    "    lista.remove(m)\n",
    "    cateti = 0\n",
    "    for e in lista:\n",
    "        cateti += e**2\n",
    "        \n",
    "    if m**2 == cateti:\n",
    "            return True\n",
    "    return False\n",
    "\n",
    "l = [3,4,5]\n",
    "print(chk_rett(a,b,c))\n",
    "print(chk_rett1(l))\n",
    "        "
   ]
  },
  {
   "cell_type": "code",
   "execution_count": 2,
   "metadata": {},
   "outputs": [
    {
     "name": "stdout",
     "output_type": "stream",
     "text": [
      "      *\n",
      "     ***\n",
      "    *****\n",
      "   *******\n",
      "  *********\n",
      " ***********\n",
      "*************\n"
     ]
    },
    {
     "data": {
      "text/plain": [
       "'\\n     *\\n    ***\\n   ******\\n  ********\\n **********\\n************\\n\\n'"
      ]
     },
     "execution_count": 2,
     "metadata": {},
     "output_type": "execute_result"
    }
   ],
   "source": [
    "def tree(n):\n",
    "    stars = '*'\n",
    "    for i in range(1, n+1):\n",
    "        spaces = (n-i) * ' '\n",
    "        print(spaces + stars)\n",
    "        stars = stars + '**'\n",
    "\n",
    "tree(7)    \n",
    "\n",
    "'''\n",
    "     *\n",
    "    ***\n",
    "   ******\n",
    "  ********\n",
    " **********\n",
    "************\n",
    "\n",
    "'''"
   ]
  }
 ],
 "metadata": {
  "kernelspec": {
   "display_name": "Python 3",
   "language": "python",
   "name": "python3"
  },
  "language_info": {
   "codemirror_mode": {
    "name": "ipython",
    "version": 3
   },
   "file_extension": ".py",
   "mimetype": "text/x-python",
   "name": "python",
   "nbconvert_exporter": "python",
   "pygments_lexer": "ipython3",
   "version": "3.5.2"
  },
  "varInspector": {
   "cols": {
    "lenName": 16,
    "lenType": 16,
    "lenVar": 40
   },
   "kernels_config": {
    "python": {
     "delete_cmd_postfix": "",
     "delete_cmd_prefix": "del ",
     "library": "var_list.py",
     "varRefreshCmd": "print(var_dic_list())"
    },
    "r": {
     "delete_cmd_postfix": ") ",
     "delete_cmd_prefix": "rm(",
     "library": "var_list.r",
     "varRefreshCmd": "cat(var_dic_list()) "
    }
   },
   "types_to_exclude": [
    "module",
    "function",
    "builtin_function_or_method",
    "instance",
    "_Feature"
   ],
   "window_display": false
  }
 },
 "nbformat": 4,
 "nbformat_minor": 2
}
