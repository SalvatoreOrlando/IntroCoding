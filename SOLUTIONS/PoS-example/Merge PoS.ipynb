{
 "cells": [
  {
   "cell_type": "markdown",
   "metadata": {},
   "source": [
    "## PoS (Point of Sales)\n",
    "\n",
    "Given a set of text files \"PoS1\", \"PoS2\", ...\n",
    "where for each line we have a pair:\n",
    " -     `CODE  amount`\n",
    "\n",
    "`CODE` is an alphanumeric string.\n",
    "\n",
    "Merge the files and finally store the result to the \"PoS-merge\" file, with the same format of the other files, by sorting on the CODE.\n"
   ]
  },
  {
   "cell_type": "code",
   "execution_count": 4,
   "metadata": {},
   "outputs": [
    {
     "name": "stdout",
     "output_type": "stream",
     "text": [
      "opening: PoS1\n",
      "opening: PoS2\n",
      "opening: PoS3\n",
      "opening: PoS4\n"
     ]
    },
    {
     "data": {
      "image/png": "[encoded data removed]",
      "text/plain": [
       "<Figure size 432x288 with 1 Axes>"
      ]
     },
     "metadata": {},
     "output_type": "display_data"
    }
   ],
   "source": [
    "d = {}\n",
    "\n",
    "fw = open('PoS-merge', 'w')\n",
    "\n",
    "for i in range(1,11):\n",
    "    try:\n",
    "        filen = 'PoS'+str(i)\n",
    "        print(\"opening:\", filen)\n",
    "        fh = open(filen, 'r')\n",
    "        l = fh.readlines()\n",
    "        for pair in l:\n",
    "            kv = pair.split()\n",
    "            if kv[0] not in d:\n",
    "                d[kv[0]] = int(kv[1])\n",
    "            else:\n",
    "                d[kv[0]] += int(kv[1])\n",
    "        fh.close()\n",
    "    except FileNotFoundError:\n",
    "        break\n",
    "\n",
    "l = list(d.keys())\n",
    "l.sort()\n",
    "for e in l:\n",
    "    fw.write(e + \" \" + str(d[e]) + \"\\n\")\n",
    "fw.close()\n",
    "\n",
    "\n",
    "\n",
    "%matplotlib inline\n",
    "import matplotlib.pyplot as plt\n",
    "\n",
    "v = []\n",
    "for e in l:\n",
    "    v.append(d[e])\n",
    "                   \n",
    "\n",
    "plt.bar(l, v)\n",
    "plt.xlabel(\"item\", fontsize=12)\n",
    "plt.ylabel(\"amount\", fontsize=12)\n",
    "plt.title(\"Items sold for all PoS's\", fontsize=14)\n",
    "plt.show()\n",
    "        "
   ]
  },
  {
   "cell_type": "code",
   "execution_count": null,
   "metadata": {},
   "outputs": [],
   "source": []
  }
 ],
 "metadata": {
  "kernelspec": {
   "display_name": "Python 3",
   "language": "python",
   "name": "python3"
  },
  "language_info": {
   "codemirror_mode": {
    "name": "ipython",
    "version": 3
   },
   "file_extension": ".py",
   "mimetype": "text/x-python",
   "name": "python",
   "nbconvert_exporter": "python",
   "pygments_lexer": "ipython3",
   "version": "3.5.2"
  },
  "varInspector": {
   "cols": {
    "lenName": 16,
    "lenType": 16,
    "lenVar": 40
   },
   "kernels_config": {
    "python": {
     "delete_cmd_postfix": "",
     "delete_cmd_prefix": "del ",
     "library": "var_list.py",
     "varRefreshCmd": "print(var_dic_list())"
    },
    "r": {
     "delete_cmd_postfix": ") ",
     "delete_cmd_prefix": "rm(",
     "library": "var_list.r",
     "varRefreshCmd": "cat(var_dic_list()) "
    }
   },
   "types_to_exclude": [
    "module",
    "function",
    "builtin_function_or_method",
    "instance",
    "_Feature"
   ],
   "window_display": false
  }
 },
 "nbformat": 4,
 "nbformat_minor": 2
}
