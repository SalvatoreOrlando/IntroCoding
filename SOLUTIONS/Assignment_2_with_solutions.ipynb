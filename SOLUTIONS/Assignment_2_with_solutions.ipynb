{
 "cells": [
  {
   "cell_type": "markdown",
   "metadata": {},
   "source": [
    "# Assignment 2\n",
    "### Ex 1\n",
    "\n",
    "Define a function that finds and prints the the indexes of all the occurrences of a substring in a string, and prints 'No' otherwise:\n",
    "```python\n",
    "             def find(string, substring):\n",
    "```"
   ]
  },
  {
   "cell_type": "code",
   "execution_count": 2,
   "metadata": {},
   "outputs": [
    {
     "name": "stdout",
     "output_type": "stream",
     "text": [
      "**** banana  substr: na\n",
      "index: 2\n",
      "index: 4\n",
      "**** ba  substr: na\n",
      "No\n",
      "**** ba  substr: nan\n",
      "No\n"
     ]
    }
   ],
   "source": [
    "def find(string, substring):\n",
    "    if len(string) < len(substring):\n",
    "        print('No')\n",
    "        return\n",
    "    found=False\n",
    "    for i in range(len(string)-len(substring)+1):\n",
    "        if string[i:len(substring)+i] == substring:\n",
    "            print('index:', i)\n",
    "            found=True\n",
    "    if not found:\n",
    "        print('No')\n",
    "    \n",
    "print('**** banana  substr: na')\n",
    "find('banana', 'na')\n",
    "\n",
    "print('**** ba  substr: na')\n",
    "find('ba', 'na')\n",
    "\n",
    "print('**** ba  substr: nan')\n",
    "find('ba', 'nan')"
   ]
  },
  {
   "cell_type": "markdown",
   "metadata": {},
   "source": [
    "### Ex 2\n",
    "Define a function, with a single string parameter, that adds *'ing'* at the end of the input string and returns the changed string. If the given string already ends with *'ing'* then add *'ly'* instead. \n",
    "\n",
    "If the string length of the input string is less than 3, leave it unchanged. \n",
    "\n",
    "(Examples: *'abc'* => *'abcing'*, *'string'* => *'stringly'*."
   ]
  },
  {
   "cell_type": "code",
   "execution_count": 1,
   "metadata": {},
   "outputs": [
    {
     "name": "stdout",
     "output_type": "stream",
     "text": [
      "stringly\n",
      "st\n",
      "caring\n",
      "ppping\n"
     ]
    }
   ],
   "source": [
    "def add_ing(string):\n",
    "    if len(string) < 3:\n",
    "        return string\n",
    "    if string[-3:] == 'ing':\n",
    "        return string+'ly'\n",
    "    else:\n",
    "        return string+'ing'\n",
    "    \n",
    "\n",
    "print(add_ing('string'))\n",
    "print(add_ing('st'))\n",
    "print(add_ing('car'))\n",
    "print(add_ing('ppp'))\n"
   ]
  },
  {
   "cell_type": "markdown",
   "metadata": {},
   "source": [
    "### Ex 3 \n",
    "Write a Python program to create a Caesar encryption. \n",
    "\n",
    "*Note* : In cryptography, a Caesar cipher - also known as Caesar's cipher, the shift cipher, Caesar's code, or Caesar shift - is one of the simplest and most widely known encryption techniques. \n",
    "\n",
    "It is a type of substitution cipher in which each letter in the plaintext is replaced by a letter some fixed number of positions down the alphabet. For example, with a left shift of 3, D would be replaced by A, E would become B, and so on. The method is named after Julius Caesar, who used it in his private correspondence."
   ]
  },
  {
   "cell_type": "code",
   "execution_count": 2,
   "metadata": {},
   "outputs": [
    {
     "name": "stdout",
     "output_type": "stream",
     "text": [
      "x ibcq pefcq lc 0, A tlria yb obmixzba yv X, B tlria ybzljb Y, xka pl lk\n"
     ]
    }
   ],
   "source": [
    "def caesar_encrypt(real_text, step):\n",
    "    encryptedText = \"\"\n",
    "    uppercase = \"ABCDEFGHIJKLMNOPQRSTUVWXYZ\"  # 26 chars\n",
    "    lowercase = \"abcdefghijklmnopqrstuvwxyz\"  # 26 chars\n",
    "    digits = \"0123456789\"  # 10 chars\n",
    "    \n",
    "    for c in real_text:\n",
    "        if c in uppercase:\n",
    "            index = uppercase.find(c)\n",
    "            index = (index + step) % 26   # module 26\n",
    "            encryptedText = encryptedText + uppercase[index]\n",
    "        elif c in lowercase:\n",
    "            index = lowercase.find(c)\n",
    "            index = (index + step) % 26   # module 26\n",
    "            encryptedText = encryptedText + lowercase[index]\n",
    "        elif c in digits:\n",
    "            index = digits.find(c)\n",
    "            index = (index + step) % 10   # module 10\n",
    "            encryptedText = encryptedText + digits[index]\n",
    "        else:\n",
    "            encryptedText = encryptedText + c     # the character is left unchanged\n",
    "    return(encryptedText)\n",
    "\n",
    "print(caesar_encrypt(\"a left shift of 3, D would be replaced by A, E would become B, and so on\", -3))"
   ]
  },
  {
   "cell_type": "markdown",
   "metadata": {},
   "source": [
    "### Ex 4\n",
    "Write a Python program to reverse a string."
   ]
  },
  {
   "cell_type": "code",
   "execution_count": 7,
   "metadata": {},
   "outputs": [
    {
     "name": "stdout",
     "output_type": "stream",
     "text": [
      "amoR\n"
     ]
    }
   ],
   "source": [
    "def reverse(string):\n",
    "    new_str = ''\n",
    "    i = len(string)-1\n",
    "    while i >= 0:\n",
    "        new_str = new_str + string[i]\n",
    "        i = i - 1\n",
    "    return(new_str)\n",
    "\n",
    "print(reverse('Roma'))\n",
    "        "
   ]
  },
  {
   "cell_type": "markdown",
   "metadata": {},
   "source": [
    "### Ex 5\n",
    "Write a function that checks whether an input string is palidrome (sequence of  characters that reads the same backward as forward, such as madam, 1lol1, etc.), and return True or False."
   ]
  },
  {
   "cell_type": "code",
   "execution_count": 21,
   "metadata": {},
   "outputs": [
    {
     "name": "stdout",
     "output_type": "stream",
     "text": [
      "True\n"
     ]
    }
   ],
   "source": [
    "def check_palindrome(string):\n",
    "    \n",
    "    k = len(string)\n",
    "    for i in range(k // 2):   # if k is even, the mid-character is not considered\n",
    "        if string[i] != string[-1-i]:\n",
    "            return(False)\n",
    "    return(True)\n",
    "\n",
    "print(check_palindrome('autotua'))"
   ]
  },
  {
   "cell_type": "code",
   "execution_count": null,
   "metadata": {
    "collapsed": true
   },
   "outputs": [],
   "source": []
  },
  {
   "cell_type": "code",
   "execution_count": null,
   "metadata": {
    "collapsed": true
   },
   "outputs": [],
   "source": []
  }
 ],
 "metadata": {
  "kernelspec": {
   "display_name": "Python 3",
   "language": "python",
   "name": "python3"
  },
  "language_info": {
   "codemirror_mode": {
    "name": "ipython",
    "version": 3
   },
   "file_extension": ".py",
   "mimetype": "text/x-python",
   "name": "python",
   "nbconvert_exporter": "python",
   "pygments_lexer": "ipython3",
   "version": "3.5.2"
  }
 },
 "nbformat": 4,
 "nbformat_minor": 2
}
