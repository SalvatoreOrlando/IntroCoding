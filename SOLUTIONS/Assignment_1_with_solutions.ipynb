{
 "cells": [
  {
   "cell_type": "markdown",
   "metadata": {},
   "source": [
    "# Assignment 1\n",
    "### Ex 1\n",
    "Write a program which asks you for the starting day of a holiday  (one of the strings: \"Mon\", \"Tue\", \"Wed\", \"Thu\", \"Fry\", \"Sat\" or \"Sun\"),  and the length of the stay (no. of days). The program has to print the name of day of the week you will return on."
   ]
  },
  {
   "cell_type": "code",
   "execution_count": 2,
   "metadata": {},
   "outputs": [
    {
     "name": "stdout",
     "output_type": "stream",
     "text": [
      "Starting day of holiday (Mon, Tue, Wed, Thu, Fry, Sat, or Sun): Tue\n",
      "Number of days: 10\n",
      "The return day is Thu\n"
     ]
    }
   ],
   "source": [
    "day = input('Starting day of holiday (Mon, Tue, Wed, Thu, Fry, Sat, or Sun): ')\n",
    "n = -1\n",
    "if day == 'Mon':\n",
    "    n = 0\n",
    "elif day == 'Tue':\n",
    "    n = 1\n",
    "elif day == 'Wed':\n",
    "    n = 2\n",
    "elif day == 'Thu':\n",
    "    n = 3\n",
    "elif day == 'Fri':\n",
    "    n = 4\n",
    "elif day == 'Sat':\n",
    "    n = 5\n",
    "elif day == 'Sun':\n",
    "    n = 6\n",
    "if n == -1:\n",
    "    print('Input', day, 'not allowed!')\n",
    "else:\n",
    "    ndays = int(input('Number of days: '))\n",
    "    \n",
    "    return_day = (n + ndays - 1) % 7  # We subtract 1, since we include the day of the departure\n",
    "                                     # in the period of stay\n",
    "\n",
    "    if return_day == 0:\n",
    "        print('The return day is Mon')\n",
    "    elif return_day == 1:\n",
    "        print('The return day is Tue')\n",
    "    elif return_day == 2:\n",
    "        print('The return day is Wed')\n",
    "    elif return_day == 3:\n",
    "        print('The return day is Thu')\n",
    "    elif return_day == 4:\n",
    "        print('The return day is Fry')\n",
    "    elif return_day == 5:\n",
    "        print('The return day is Sat')\n",
    "    elif return_day == 6:\n",
    "        print('The return day is Sun')\n"
   ]
  },
  {
   "cell_type": "markdown",
   "metadata": {
    "collapsed": true
   },
   "source": [
    "###  Ex 2\n",
    "Write a program that, given the mark of an exam, returns the grade corresponding to\n",
    "that mark (a string) according to this scheme:\n",
    "````\n",
    "     [30-27)   'A'\n",
    "     [27-25)   'B'\n",
    "     [25-20)   'C'\n",
    "     [20-18]   'D'\n",
    "     [0-18)     'Fail'\n",
    "````"
   ]
  },
  {
   "cell_type": "code",
   "execution_count": 10,
   "metadata": {},
   "outputs": [
    {
     "name": "stdout",
     "output_type": "stream",
     "text": [
      "Mark of the exam: 17\n",
      "Fail\n"
     ]
    }
   ],
   "source": [
    "mark = int(input('Mark of the exam: '))\n",
    "if mark < 0 or mark > 30:   # if True, then mark is not included in [0,30] \n",
    "    print('Incorrect mark!')\n",
    "else:\n",
    "    if mark > 27:       # we can omit mark <= 30, due to the first test\n",
    "        print('A')\n",
    "    elif mark > 25:     # we can omit mark <= 27, due to the previous condition\n",
    "        print('B')\n",
    "    elif mark > 20:     # we can omit mark <= 25, due to the previous condition\n",
    "        print('C')\n",
    "    elif mark >= 18:    # we can omit mark <= 20, due to the previous condition\n",
    "        print('D')\n",
    "    else:                              # no further check, as mark is surely included in the \n",
    "                                       # interval [0-30], and thus the only possibility is [0,18)\n",
    "        print('Fail')"
   ]
  },
  {
   "cell_type": "markdown",
   "metadata": {},
   "source": [
    "###  Ex 3\n",
    "Given a sequence of *n* integers (*n* is read from input, as well as the sequence), compute and print the differences between each consecutive pairs (gap), the max and the min gap."
   ]
  },
  {
   "cell_type": "code",
   "execution_count": 2,
   "metadata": {},
   "outputs": [
    {
     "name": "stdout",
     "output_type": "stream",
     "text": [
      "Digit the length of the sequence of integers: 6\n",
      "1 - Input number : 10\n",
      "2 - Input number : 4\n",
      "3 - Input number : 5\n",
      "4 - Input number : 1\n",
      "5 - Input number : 8\n",
      "6 - Input number : 3\n",
      "GAPS: 6-1-4-7-5\n",
      "Max gap:  7\n",
      "Min gap:  1\n"
     ]
    }
   ],
   "source": [
    "n = int(input('Digit the length of the sequence of integers: '))\n",
    "if n < 2:\n",
    "    print('The sequence\\'s length must be at least 2 !')\n",
    "else:\n",
    "    val1 = int(input('1 - Input number : '))\n",
    "    val2 = int(input('2 - Input number : '))\n",
    "    gap = abs(val2 - val1)\n",
    "    max_gap = gap\n",
    "    min_gap = gap\n",
    "    string_gaps = str(gap)\n",
    "    old_val = val2\n",
    "    for i in range(n-2):\n",
    "        prompt = str(i+3) + ' - Input number : '\n",
    "        new_val = int(input(prompt))\n",
    "        gap = abs(new_val - old_val)\n",
    "        string_gaps = string_gaps + \"-\" + str(gap)\n",
    "        if gap > max_gap:\n",
    "            max_gap = gap\n",
    "        elif gap < min_gap:\n",
    "            min_gap = gap\n",
    "        old_val = new_val\n",
    "    print('GAPS:', string_gaps)\n",
    "    print('Max gap: ', max_gap)\n",
    "    print('Min gap: ', min_gap)\n"
   ]
  },
  {
   "cell_type": "markdown",
   "metadata": {},
   "source": [
    "### Ex 4 \n",
    "Write a program to display the sum of the series [ 9 + 99 + 999 + 9999 ...] of length n.  Input the number or terms: n.    Display the series and the sum."
   ]
  },
  {
   "cell_type": "code",
   "execution_count": 3,
   "metadata": {},
   "outputs": [
    {
     "name": "stdout",
     "output_type": "stream",
     "text": [
      "Digit the length of the series: 4\n",
      "9 + 99 + 999 + 9999 = 11106\n"
     ]
    }
   ],
   "source": [
    "n = int(input('Digit the length of the series: '))\n",
    "acc = 0\n",
    "\n",
    "old = 0\n",
    "for i in range(n-1):\n",
    "    old = old + 9 * 10**i\n",
    "    print(old, '+ ', end='')\n",
    "    acc = acc + old\n",
    "\n",
    "old = old + 9 * 10**(n-1)\n",
    "acc = acc + old\n",
    "print(old, '=', acc)\n",
    "\n",
    "\n",
    " \n"
   ]
  },
  {
   "cell_type": "markdown",
   "metadata": {},
   "source": [
    "### Ex 5 \n",
    "Write a program to display a pyramid pattern of height n using the character: '*'. \n",
    "\n",
    "Example with n=4:\n",
    "```\n",
    "   *\n",
    "  *** \n",
    " *****\n",
    "*******\n",
    "```"
   ]
  },
  {
   "cell_type": "code",
   "execution_count": 9,
   "metadata": {},
   "outputs": [
    {
     "name": "stdout",
     "output_type": "stream",
     "text": [
      "Digit the height of the pyramid: 3\n",
      "\n",
      "  *\n",
      " ***\n",
      "*****\n"
     ]
    }
   ],
   "source": [
    "n = int(input('Digit the height of the pyramid: '))\n",
    "print()\n",
    "for i in range(n):\n",
    "    for j in range(n-1-i):   # n-1 spaces, then n-2, n-3, etc.\n",
    "        print(' ', end='', sep='')\n",
    "    for j in range(2*i+1):   # 1 '*', then 2+1 '*', 4+1, 6+1, etc.\n",
    "        print('*', end='', sep='')\n",
    "    print()"
   ]
  },
  {
   "cell_type": "code",
   "execution_count": 2,
   "metadata": {},
   "outputs": [
    {
     "name": "stdout",
     "output_type": "stream",
     "text": [
      "Digit the height of the pyramid: 9\n",
      "\n",
      "        *\n",
      "       ***\n",
      "      *****\n",
      "     *******\n",
      "    *********\n",
      "   ***********\n",
      "  *************\n",
      " ***************\n",
      "*****************\n"
     ]
    }
   ],
   "source": [
    "# alternative solution that uses replication of strings:    str_to_replicate * n_of_times\n",
    "n = int(input('Digit the height of the pyramid: '))\n",
    "print()\n",
    "for i in range(n):\n",
    "    print(' ' * (n-1-i), end='')   # n-1 spaces, then n-2, n-3, etc.\n",
    "    print('*' * (2*i+1))           # 1 '*', then 2+1 '*', 4+1, 6+1, etc."
   ]
  }
 ],
 "metadata": {
  "kernelspec": {
   "display_name": "Python 3",
   "language": "python",
   "name": "python3"
  },
  "language_info": {
   "codemirror_mode": {
    "name": "ipython",
    "version": 3
   },
   "file_extension": ".py",
   "mimetype": "text/x-python",
   "name": "python",
   "nbconvert_exporter": "python",
   "pygments_lexer": "ipython3",
   "version": "3.5.2"
  }
 },
 "nbformat": 4,
 "nbformat_minor": 2
}
